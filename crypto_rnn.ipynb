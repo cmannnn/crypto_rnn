{
  "nbformat": 4,
  "nbformat_minor": 0,
  "metadata": {
    "colab": {
      "name": "crypto_rnn.ipynb",
      "provenance": [],
      "authorship_tag": "ABX9TyPqs1BM8EjeaDTRwaBXWiZ3",
      "include_colab_link": true
    },
    "kernelspec": {
      "name": "python3",
      "display_name": "Python 3"
    },
    "language_info": {
      "name": "python"
    }
  },
  "cells": [
    {
      "cell_type": "markdown",
      "metadata": {
        "id": "view-in-github",
        "colab_type": "text"
      },
      "source": [
        "<a href=\"https://colab.research.google.com/github/cmannnn/crypto_rnn/blob/main/crypto_rnn.ipynb\" target=\"_parent\"><img src=\"https://colab.research.google.com/assets/colab-badge.svg\" alt=\"Open In Colab\"/></a>"
      ]
    },
    {
      "cell_type": "markdown",
      "metadata": {
        "id": "TESSNM0r6hx-"
      },
      "source": [
        "#Crypto RNN"
      ]
    },
    {
      "cell_type": "markdown",
      "metadata": {
        "id": "FfbyqnNa6n_r"
      },
      "source": [
        "##imports"
      ]
    },
    {
      "cell_type": "code",
      "metadata": {
        "colab": {
          "base_uri": "https://localhost:8080/"
        },
        "id": "ijFiAJKktEBu",
        "outputId": "1b67a593-1c85-4769-93b8-551704a5e3ec"
      },
      "source": [
        "import matplotlib.pyplot as plt\n",
        "import pandas as pd\n",
        "\n",
        "!pip install pycoingecko\n",
        "from pycoingecko import CoinGeckoAPI"
      ],
      "execution_count": 5,
      "outputs": [
        {
          "output_type": "stream",
          "name": "stdout",
          "text": [
            "Requirement already satisfied: pycoingecko in /usr/local/lib/python3.7/dist-packages (2.2.0)\n",
            "Requirement already satisfied: requests in /usr/local/lib/python3.7/dist-packages (from pycoingecko) (2.23.0)\n",
            "Requirement already satisfied: idna<3,>=2.5 in /usr/local/lib/python3.7/dist-packages (from requests->pycoingecko) (2.10)\n",
            "Requirement already satisfied: urllib3!=1.25.0,!=1.25.1,<1.26,>=1.21.1 in /usr/local/lib/python3.7/dist-packages (from requests->pycoingecko) (1.24.3)\n",
            "Requirement already satisfied: certifi>=2017.4.17 in /usr/local/lib/python3.7/dist-packages (from requests->pycoingecko) (2021.5.30)\n",
            "Requirement already satisfied: chardet<4,>=3.0.2 in /usr/local/lib/python3.7/dist-packages (from requests->pycoingecko) (3.0.4)\n"
          ]
        }
      ]
    },
    {
      "cell_type": "code",
      "metadata": {
        "id": "LTi3Rsna6m5B"
      },
      "source": [
        "cg = CoinGeckoAPI()"
      ],
      "execution_count": 8,
      "outputs": []
    },
    {
      "cell_type": "code",
      "metadata": {
        "colab": {
          "base_uri": "https://localhost:8080/"
        },
        "id": "Z5GJKyho7RwO",
        "outputId": "3ad4d2f4-10f6-495f-eacc-a506f804c85c"
      },
      "source": [
        "cg.ping()"
      ],
      "execution_count": 9,
      "outputs": [
        {
          "output_type": "execute_result",
          "data": {
            "text/plain": [
              "{'gecko_says': '(V3) To the Moon!'}"
            ]
          },
          "metadata": {},
          "execution_count": 9
        }
      ]
    },
    {
      "cell_type": "code",
      "metadata": {
        "colab": {
          "base_uri": "https://localhost:8080/"
        },
        "id": "n_y9XKig7T4K",
        "outputId": "f5fc15e1-d949-485a-fe31-fe4550d7d365"
      },
      "source": [
        "cg.get_global()"
      ],
      "execution_count": 30,
      "outputs": [
        {
          "output_type": "execute_result",
          "data": {
            "text/plain": [
              "{'active_cryptocurrencies': 9601,\n",
              " 'ended_icos': 3375,\n",
              " 'market_cap_change_percentage_24h_usd': -0.06398183521122058,\n",
              " 'market_cap_percentage': {'ada': 3.02765858356208,\n",
              "  'bnb': 2.7127876198444603,\n",
              "  'btc': 42.96718821261153,\n",
              "  'doge': 1.3500754927448706,\n",
              "  'dot': 1.492359688321418,\n",
              "  'eth': 17.617244257026634,\n",
              "  'sol': 1.9761817123459609,\n",
              "  'usdc': 1.369001884490639,\n",
              "  'usdt': 2.8751047558440614,\n",
              "  'xrp': 2.153482565571458},\n",
              " 'markets': 656,\n",
              " 'ongoing_icos': 50,\n",
              " 'total_market_cap': {'aed': 8850607624187.86,\n",
              "  'ars': 238214002396340.66,\n",
              "  'aud': 3296405851755.4243,\n",
              "  'bch': 3921767173.067693,\n",
              "  'bdt': 206071372412198.3,\n",
              "  'bhd': 908316514384.1064,\n",
              "  'bits': 43843017957076.555,\n",
              "  'bmd': 2409672776429.799,\n",
              "  'bnb': 5694467150.970806,\n",
              "  'brl': 13281841640984.543,\n",
              "  'btc': 43843017.95707656,\n",
              "  'cad': 3005512563857.5986,\n",
              "  'chf': 2234851016499.819,\n",
              "  'clp': 1986654720527547.5,\n",
              "  'cny': 15526244600370.133,\n",
              "  'czk': 52990752575551.125,\n",
              "  'dkk': 15492340504405.756,\n",
              "  'dot': 69703373153.38678,\n",
              "  'eos': 499683133732.49664,\n",
              "  'eth': 668243949.0844812,\n",
              "  'eur': 2082646445249.4067,\n",
              "  'gbp': 1770061283018.1567,\n",
              "  'hkd': 18757856760840.152,\n",
              "  'huf': 749938361480483.1,\n",
              "  'idr': 3.4354343322643212e+16,\n",
              "  'ils': 7790496182925.31,\n",
              "  'inr': 181042298876589.5,\n",
              "  'jpy': 270377333879305.6,\n",
              "  'krw': 2883992765742243.0,\n",
              "  'kwd': 726591041949.6549,\n",
              "  'link': 88866213673.90253,\n",
              "  'lkr': 481672134691589.2,\n",
              "  'ltc': 13371558199.333317,\n",
              "  'mmk': 4723998699946840.0,\n",
              "  'mxn': 49910829316357.73,\n",
              "  'myr': 10067612859923.69,\n",
              "  'ngn': 989837431181671.0,\n",
              "  'nok': 20576918739766.99,\n",
              "  'nzd': 3476434914555.272,\n",
              "  'php': 121915442288516.81,\n",
              "  'pkr': 411588922501170.94,\n",
              "  'pln': 9581822828195.48,\n",
              "  'rub': 173046072061031.1,\n",
              "  'sar': 9037130755120.158,\n",
              "  'sats': 4384301795707655.5,\n",
              "  'sek': 21045600094782.586,\n",
              "  'sgd': 3266311448450.596,\n",
              "  'thb': 81567418662803.38,\n",
              "  'try': 21630909612177.402,\n",
              "  'twd': 67648430623657.09,\n",
              "  'uah': 63451334871855.35,\n",
              "  'usd': 2409672776429.799,\n",
              "  'vef': 241280535103.91583,\n",
              "  'vnd': 5.4809313342540424e+16,\n",
              "  'xag': 106326329325.40962,\n",
              "  'xau': 1371513454.1605496,\n",
              "  'xdr': 1707508587414.8137,\n",
              "  'xlm': 6768739929297.369,\n",
              "  'xrp': 2171081047950.0095,\n",
              "  'yfi': 69609891.92572033,\n",
              "  'zar': 36067126683765.65},\n",
              " 'total_volume': {'aed': 507101851350.7156,\n",
              "  'ars': 13648640495904.12,\n",
              "  'aud': 188869915062.1195,\n",
              "  'bch': 224700436.22700742,\n",
              "  'bdt': 11807005676652.342,\n",
              "  'bhd': 52042639964.94537,\n",
              "  'bits': 2512016860184.365,\n",
              "  'bmd': 138063913571.0298,\n",
              "  'bnb': 326268540.79728866,\n",
              "  'brl': 760992552317.3695,\n",
              "  'btc': 2512016.8601843654,\n",
              "  'cad': 172202977479.73856,\n",
              "  'chf': 128047376641.4517,\n",
              "  'clp': 113826793543635.52,\n",
              "  'cny': 889587214312.2169,\n",
              "  'czk': 3036142813753.474,\n",
              "  'dkk': 887644655048.272,\n",
              "  'dot': 3993704282.502938,\n",
              "  'eos': 28629700124.99313,\n",
              "  'eth': 38287511.78716372,\n",
              "  'eur': 119326707604.65117,\n",
              "  'gbp': 101416918672.3036,\n",
              "  'hkd': 1074744728802.326,\n",
              "  'huf': 42968251181575.96,\n",
              "  'idr': 1968356506195138.2,\n",
              "  'ils': 446362013214.2754,\n",
              "  'inr': 10372947127630.959,\n",
              "  'jpy': 15491461422237.4,\n",
              "  'krw': 165240414318351.44,\n",
              "  'kwd': 41630549922.98626,\n",
              "  'link': 5091652843.518683,\n",
              "  'lkr': 27597747139826.39,\n",
              "  'ltc': 766132926.2631247,\n",
              "  'mmk': 270664861469467.12,\n",
              "  'mxn': 2859676422622.6826,\n",
              "  'myr': 576831030899.762,\n",
              "  'ngn': 56713438805792.87,\n",
              "  'nok': 1178969177157.0952,\n",
              "  'nzd': 199184808108.92477,\n",
              "  'php': 6985231875356.264,\n",
              "  'pkr': 23582279709856.883,\n",
              "  'pln': 548997345923.8446,\n",
              "  'rub': 9914797631667.738,\n",
              "  'sar': 517788826644.5933,\n",
              "  'sats': 251201686018436.53,\n",
              "  'sek': 1205822608346.6606,\n",
              "  'sgd': 187145634845.53113,\n",
              "  'thb': 4673463198251.545,\n",
              "  'try': 1239358332953.0647,\n",
              "  'twd': 3875964890419.0107,\n",
              "  'uah': 3635489307678.421,\n",
              "  'usd': 138063913571.0298,\n",
              "  'vef': 13824339665.867218,\n",
              "  'vnd': 3140338544814218.5,\n",
              "  'xag': 6092042573.538979,\n",
              "  'xau': 78581837.68722309,\n",
              "  'xdr': 97832917539.91313,\n",
              "  'xlm': 387819762801.10736,\n",
              "  'xrp': 124393630990.83571,\n",
              "  'yfi': 3988348.209154184,\n",
              "  'zar': 2066491645641.8591},\n",
              " 'upcoming_icos': 0,\n",
              " 'updated_at': 1633781306}"
            ]
          },
          "metadata": {},
          "execution_count": 30
        }
      ]
    },
    {
      "cell_type": "code",
      "metadata": {
        "colab": {
          "base_uri": "https://localhost:8080/"
        },
        "id": "mzMU60Om7mlb",
        "outputId": "1105f26e-69aa-434d-e8a3-222e92fa7237"
      },
      "source": [
        "cg.get_coins_markets(vs_currency='usd')[1]"
      ],
      "execution_count": 13,
      "outputs": [
        {
          "output_type": "execute_result",
          "data": {
            "text/plain": [
              "{'ath': 4356.99,\n",
              " 'ath_change_percentage': -17.36376,\n",
              " 'ath_date': '2021-05-12T14:41:48.623Z',\n",
              " 'atl': 0.432979,\n",
              " 'atl_change_percentage': 831454.05922,\n",
              " 'atl_date': '2015-10-20T00:00:00.000Z',\n",
              " 'circulating_supply': 117856031.3115,\n",
              " 'current_price': 3603.01,\n",
              " 'fully_diluted_valuation': None,\n",
              " 'high_24h': 3654.01,\n",
              " 'id': 'ethereum',\n",
              " 'image': 'https://assets.coingecko.com/coins/images/279/large/ethereum.png?1595348880',\n",
              " 'last_updated': '2021-10-09T12:04:07.212Z',\n",
              " 'low_24h': 3556.8,\n",
              " 'market_cap': 424303358557,\n",
              " 'market_cap_change_24h': -2146878388.0698853,\n",
              " 'market_cap_change_percentage_24h': -0.50343,\n",
              " 'market_cap_rank': 2,\n",
              " 'max_supply': None,\n",
              " 'name': 'Ethereum',\n",
              " 'price_change_24h': -17.201464372691,\n",
              " 'price_change_percentage_24h': -0.47515,\n",
              " 'roi': {'currency': 'btc',\n",
              "  'percentage': 8666.83925021013,\n",
              "  'times': 86.6683925021013},\n",
              " 'symbol': 'eth',\n",
              " 'total_supply': None,\n",
              " 'total_volume': 16233653097}"
            ]
          },
          "metadata": {},
          "execution_count": 13
        }
      ]
    },
    {
      "cell_type": "code",
      "metadata": {
        "colab": {
          "base_uri": "https://localhost:8080/"
        },
        "id": "0YxrVXdZ87hR",
        "outputId": "763e1dca-7861-44b3-ad72-c91785d664c8"
      },
      "source": [
        "cg.get_search_trending()"
      ],
      "execution_count": 29,
      "outputs": [
        {
          "output_type": "execute_result",
          "data": {
            "text/plain": [
              "{'coins': [{'item': {'coin_id': 6111,\n",
              "    'id': 'taboo-token',\n",
              "    'large': 'https://assets.coingecko.com/coins/images/6111/large/taboo.PNG?1624500776',\n",
              "    'market_cap_rank': 867,\n",
              "    'name': 'Taboo Token',\n",
              "    'price_btc': 3.9483651445552515e-08,\n",
              "    'score': 0,\n",
              "    'slug': 'taboo-token',\n",
              "    'small': 'https://assets.coingecko.com/coins/images/6111/small/taboo.PNG?1624500776',\n",
              "    'symbol': 'TABOO',\n",
              "    'thumb': 'https://assets.coingecko.com/coins/images/6111/thumb/taboo.PNG?1624500776'}},\n",
              "  {'item': {'coin_id': 18816,\n",
              "    'id': 'astroswap',\n",
              "    'large': 'https://assets.coingecko.com/coins/images/18816/large/astro.png?1633506850',\n",
              "    'market_cap_rank': 498,\n",
              "    'name': 'AstroSwap',\n",
              "    'price_btc': 5.638669426358785e-06,\n",
              "    'score': 1,\n",
              "    'slug': 'astroswap',\n",
              "    'small': 'https://assets.coingecko.com/coins/images/18816/small/astro.png?1633506850',\n",
              "    'symbol': 'ASTRO',\n",
              "    'thumb': 'https://assets.coingecko.com/coins/images/18816/thumb/astro.png?1633506850'}},\n",
              "  {'item': {'coin_id': 13365,\n",
              "    'id': 'yield-app',\n",
              "    'large': 'https://assets.coingecko.com/coins/images/13365/large/Icon_Blue.png?1607917500',\n",
              "    'market_cap_rank': 523,\n",
              "    'name': 'YIELD App',\n",
              "    'price_btc': 9.955387987521221e-06,\n",
              "    'score': 2,\n",
              "    'slug': 'yield-app',\n",
              "    'small': 'https://assets.coingecko.com/coins/images/13365/small/Icon_Blue.png?1607917500',\n",
              "    'symbol': 'YLD',\n",
              "    'thumb': 'https://assets.coingecko.com/coins/images/13365/thumb/Icon_Blue.png?1607917500'}},\n",
              "  {'item': {'coin_id': 18715,\n",
              "    'id': 'beta-finance',\n",
              "    'large': 'https://assets.coingecko.com/coins/images/18715/large/beta_finance.jpg?1633087053',\n",
              "    'market_cap_rank': 134,\n",
              "    'name': 'Beta Finance',\n",
              "    'price_btc': 7.398941771788192e-05,\n",
              "    'score': 3,\n",
              "    'slug': 'beta-finance',\n",
              "    'small': 'https://assets.coingecko.com/coins/images/18715/small/beta_finance.jpg?1633087053',\n",
              "    'symbol': 'BETA',\n",
              "    'thumb': 'https://assets.coingecko.com/coins/images/18715/thumb/beta_finance.jpg?1633087053'}},\n",
              "  {'item': {'coin_id': 11939,\n",
              "    'id': 'shiba-inu',\n",
              "    'large': 'https://assets.coingecko.com/coins/images/11939/large/shiba.png?1622619446',\n",
              "    'market_cap_rank': 12,\n",
              "    'name': 'Shiba Inu',\n",
              "    'price_btc': 5.104070533048629e-10,\n",
              "    'score': 4,\n",
              "    'slug': 'shiba-inu',\n",
              "    'small': 'https://assets.coingecko.com/coins/images/11939/small/shiba.png?1622619446',\n",
              "    'symbol': 'SHIB',\n",
              "    'thumb': 'https://assets.coingecko.com/coins/images/11939/thumb/shiba.png?1622619446'}},\n",
              "  {'item': {'coin_id': 17841,\n",
              "    'id': 'radio-caca',\n",
              "    'large': 'https://assets.coingecko.com/coins/images/17841/large/ez44_BSs_400x400.jpg?1629464170',\n",
              "    'market_cap_rank': 190,\n",
              "    'name': 'Radio Caca',\n",
              "    'price_btc': 3.943129330211448e-08,\n",
              "    'score': 5,\n",
              "    'slug': 'radio-caca',\n",
              "    'small': 'https://assets.coingecko.com/coins/images/17841/small/ez44_BSs_400x400.jpg?1629464170',\n",
              "    'symbol': 'RACA',\n",
              "    'thumb': 'https://assets.coingecko.com/coins/images/17841/thumb/ez44_BSs_400x400.jpg?1629464170'}},\n",
              "  {'item': {'coin_id': 825,\n",
              "    'id': 'binancecoin',\n",
              "    'large': 'https://assets.coingecko.com/coins/images/825/large/binance-coin-logo.png?1547034615',\n",
              "    'market_cap_rank': 5,\n",
              "    'name': 'Binance Coin',\n",
              "    'price_btc': 0.0076968880693859786,\n",
              "    'score': 6,\n",
              "    'slug': 'binance-coin',\n",
              "    'small': 'https://assets.coingecko.com/coins/images/825/small/binance-coin-logo.png?1547034615',\n",
              "    'symbol': 'BNB',\n",
              "    'thumb': 'https://assets.coingecko.com/coins/images/825/thumb/binance-coin-logo.png?1547034615'}}],\n",
              " 'exchanges': []}"
            ]
          },
          "metadata": {},
          "execution_count": 29
        }
      ]
    },
    {
      "cell_type": "code",
      "metadata": {
        "id": "nzITeSp297gu"
      },
      "source": [
        ""
      ],
      "execution_count": null,
      "outputs": []
    }
  ]
}