{
  "nbformat": 4,
  "nbformat_minor": 0,
  "metadata": {
    "colab": {
      "name": "crypto_rnn.ipynb",
      "provenance": [],
      "authorship_tag": "ABX9TyP3Nsa/Le+cTVywCIQ2hCw+",
      "include_colab_link": true
    },
    "kernelspec": {
      "name": "python3",
      "display_name": "Python 3"
    },
    "language_info": {
      "name": "python"
    },
    "accelerator": "GPU"
  },
  "cells": [
    {
      "cell_type": "markdown",
      "metadata": {
        "id": "view-in-github",
        "colab_type": "text"
      },
      "source": [
        "<a href=\"https://colab.research.google.com/github/cmannnn/crypto_rnn/blob/main/crypto_rnn.ipynb\" target=\"_parent\"><img src=\"https://colab.research.google.com/assets/colab-badge.svg\" alt=\"Open In Colab\"/></a>"
      ]
    },
    {
      "cell_type": "markdown",
      "metadata": {
        "id": "TESSNM0r6hx-"
      },
      "source": [
        "#Crypto RNN"
      ]
    },
    {
      "cell_type": "markdown",
      "metadata": {
        "id": "FfbyqnNa6n_r"
      },
      "source": [
        "##imports"
      ]
    },
    {
      "cell_type": "code",
      "metadata": {
        "colab": {
          "base_uri": "https://localhost:8080/"
        },
        "id": "ijFiAJKktEBu",
        "outputId": "a2ae8f21-4786-4452-bf9b-ed53410e46cf"
      },
      "source": [
        "import matplotlib.pyplot as plt\n",
        "import pandas as pd\n",
        "\n",
        "!pip install pycoingecko\n",
        "from pycoingecko import CoinGeckoAPI"
      ],
      "execution_count": 1,
      "outputs": [
        {
          "output_type": "stream",
          "name": "stdout",
          "text": [
            "Collecting pycoingecko\n",
            "  Downloading pycoingecko-2.2.0-py3-none-any.whl (8.3 kB)\n",
            "Requirement already satisfied: requests in /usr/local/lib/python3.7/dist-packages (from pycoingecko) (2.23.0)\n",
            "Requirement already satisfied: idna<3,>=2.5 in /usr/local/lib/python3.7/dist-packages (from requests->pycoingecko) (2.10)\n",
            "Requirement already satisfied: urllib3!=1.25.0,!=1.25.1,<1.26,>=1.21.1 in /usr/local/lib/python3.7/dist-packages (from requests->pycoingecko) (1.24.3)\n",
            "Requirement already satisfied: certifi>=2017.4.17 in /usr/local/lib/python3.7/dist-packages (from requests->pycoingecko) (2021.5.30)\n",
            "Requirement already satisfied: chardet<4,>=3.0.2 in /usr/local/lib/python3.7/dist-packages (from requests->pycoingecko) (3.0.4)\n",
            "Installing collected packages: pycoingecko\n",
            "Successfully installed pycoingecko-2.2.0\n"
          ]
        }
      ]
    },
    {
      "cell_type": "code",
      "metadata": {
        "id": "LTi3Rsna6m5B"
      },
      "source": [
        "# initializing CoinGeckoAPI\n",
        "cg = CoinGeckoAPI()"
      ],
      "execution_count": 2,
      "outputs": []
    },
    {
      "cell_type": "code",
      "metadata": {
        "colab": {
          "base_uri": "https://localhost:8080/"
        },
        "id": "Z5GJKyho7RwO",
        "outputId": "d6628979-39f8-4e52-d5c3-2c5966c85842"
      },
      "source": [
        "# checking status of the API\n",
        "cg.ping()"
      ],
      "execution_count": 3,
      "outputs": [
        {
          "output_type": "execute_result",
          "data": {
            "text/plain": [
              "{'gecko_says': '(V3) To the Moon!'}"
            ]
          },
          "metadata": {},
          "execution_count": 3
        }
      ]
    },
    {
      "cell_type": "code",
      "metadata": {
        "id": "0YxrVXdZ87hR",
        "colab": {
          "base_uri": "https://localhost:8080/"
        },
        "outputId": "13eaa9e3-58dd-4b1a-c261-fbbdffd62714"
      },
      "source": [
        "# which coins are currently trending?\n",
        "cg.get_search_trending()"
      ],
      "execution_count": 4,
      "outputs": [
        {
          "output_type": "execute_result",
          "data": {
            "text/plain": [
              "{'coins': [{'item': {'coin_id': 6111,\n",
              "    'id': 'taboo-token',\n",
              "    'large': 'https://assets.coingecko.com/coins/images/6111/large/taboo.PNG?1624500776',\n",
              "    'market_cap_rank': 413,\n",
              "    'name': 'Taboo Token',\n",
              "    'price_btc': 1.911140328368306e-07,\n",
              "    'score': 0,\n",
              "    'slug': 'taboo-token',\n",
              "    'small': 'https://assets.coingecko.com/coins/images/6111/small/taboo.PNG?1624500776',\n",
              "    'symbol': 'TABOO',\n",
              "    'thumb': 'https://assets.coingecko.com/coins/images/6111/thumb/taboo.PNG?1624500776'}},\n",
              "  {'item': {'coin_id': 15872,\n",
              "    'id': 'wall-street-games',\n",
              "    'large': 'https://assets.coingecko.com/coins/images/15872/large/X3Awe42.png?1622181358',\n",
              "    'market_cap_rank': 766,\n",
              "    'name': 'Wall Street Games',\n",
              "    'price_btc': 1.6781579478912476e-12,\n",
              "    'score': 1,\n",
              "    'slug': 'wall-street-games',\n",
              "    'small': 'https://assets.coingecko.com/coins/images/15872/small/X3Awe42.png?1622181358',\n",
              "    'symbol': 'WSG',\n",
              "    'thumb': 'https://assets.coingecko.com/coins/images/15872/thumb/X3Awe42.png?1622181358'}},\n",
              "  {'item': {'coin_id': 17461,\n",
              "    'id': 'plant-vs-undead-token',\n",
              "    'large': 'https://assets.coingecko.com/coins/images/17461/large/token-200x200.png?1627883446',\n",
              "    'market_cap_rank': 811,\n",
              "    'name': 'Plant vs Undead Token',\n",
              "    'price_btc': 2.780727085274054e-05,\n",
              "    'score': 2,\n",
              "    'slug': 'plant-vs-undead-token',\n",
              "    'small': 'https://assets.coingecko.com/coins/images/17461/small/token-200x200.png?1627883446',\n",
              "    'symbol': 'PVU',\n",
              "    'thumb': 'https://assets.coingecko.com/coins/images/17461/thumb/token-200x200.png?1627883446'}},\n",
              "  {'item': {'coin_id': 14483,\n",
              "    'id': 'olympus',\n",
              "    'large': 'https://assets.coingecko.com/coins/images/14483/large/token_OHM_%281%29.png?1628311611',\n",
              "    'market_cap_rank': 64,\n",
              "    'name': 'Olympus',\n",
              "    'price_btc': 0.013547429549039881,\n",
              "    'score': 3,\n",
              "    'slug': 'olympus',\n",
              "    'small': 'https://assets.coingecko.com/coins/images/14483/small/token_OHM_%281%29.png?1628311611',\n",
              "    'symbol': 'OHM',\n",
              "    'thumb': 'https://assets.coingecko.com/coins/images/14483/thumb/token_OHM_%281%29.png?1628311611'}},\n",
              "  {'item': {'coin_id': 11939,\n",
              "    'id': 'shiba-inu',\n",
              "    'large': 'https://assets.coingecko.com/coins/images/11939/large/shiba.png?1622619446',\n",
              "    'market_cap_rank': 12,\n",
              "    'name': 'Shiba Inu',\n",
              "    'price_btc': 4.62578049977167e-10,\n",
              "    'score': 4,\n",
              "    'slug': 'shiba-inu',\n",
              "    'small': 'https://assets.coingecko.com/coins/images/11939/small/shiba.png?1622619446',\n",
              "    'symbol': 'SHIB',\n",
              "    'thumb': 'https://assets.coingecko.com/coins/images/11939/thumb/shiba.png?1622619446'}},\n",
              "  {'item': {'coin_id': 18126,\n",
              "    'id': 'wonderland',\n",
              "    'large': 'https://assets.coingecko.com/coins/images/18126/large/time.PNG?1630621941',\n",
              "    'market_cap_rank': 147,\n",
              "    'name': 'Wonderland',\n",
              "    'price_btc': 0.09529285739481522,\n",
              "    'score': 5,\n",
              "    'slug': 'wonderland',\n",
              "    'small': 'https://assets.coingecko.com/coins/images/18126/small/time.PNG?1630621941',\n",
              "    'symbol': 'TIME',\n",
              "    'thumb': 'https://assets.coingecko.com/coins/images/18126/thumb/time.PNG?1630621941'}},\n",
              "  {'item': {'coin_id': 12164,\n",
              "    'id': 'unilayer',\n",
              "    'large': 'https://assets.coingecko.com/coins/images/12164/large/Unilayer.jpg?1597779313',\n",
              "    'market_cap_rank': 778,\n",
              "    'name': 'UniLayer',\n",
              "    'price_btc': 2.016218494160293e-05,\n",
              "    'score': 6,\n",
              "    'slug': 'unilayer',\n",
              "    'small': 'https://assets.coingecko.com/coins/images/12164/small/Unilayer.jpg?1597779313',\n",
              "    'symbol': 'LAYER',\n",
              "    'thumb': 'https://assets.coingecko.com/coins/images/12164/thumb/Unilayer.jpg?1597779313'}}],\n",
              " 'exchanges': []}"
            ]
          },
          "metadata": {},
          "execution_count": 4
        }
      ]
    },
    {
      "cell_type": "code",
      "metadata": {
        "colab": {
          "base_uri": "https://localhost:8080/"
        },
        "id": "MosmQzUlNPkq",
        "outputId": "1852f68c-2365-475a-a420-9cd2ca1e1c85"
      },
      "source": [
        "# testing to retrieve current bitcoin price\n",
        "cg.get_price(ids ='bitcoin', vs_currencies = 'usd')"
      ],
      "execution_count": 5,
      "outputs": [
        {
          "output_type": "execute_result",
          "data": {
            "text/plain": [
              "{'bitcoin': {'usd': 62264}}"
            ]
          },
          "metadata": {},
          "execution_count": 5
        }
      ]
    },
    {
      "cell_type": "code",
      "metadata": {
        "colab": {
          "base_uri": "https://localhost:8080/"
        },
        "id": "4n1PP6Go-6ZM",
        "outputId": "1404fb3f-33e7-4a53-d9d8-f98d90842947"
      },
      "source": [
        "# testing to retrieve current bitcoin price\n",
        "cg.get_price(ids ='solana', vs_currencies = 'usd')"
      ],
      "execution_count": 10,
      "outputs": [
        {
          "output_type": "execute_result",
          "data": {
            "text/plain": [
              "{'solana': {'usd': 156.7}}"
            ]
          },
          "metadata": {},
          "execution_count": 10
        }
      ]
    },
    {
      "cell_type": "markdown",
      "metadata": {
        "id": "zz6Jl6k7Zd6t"
      },
      "source": [
        "# Getting Bitcoin Data"
      ]
    },
    {
      "cell_type": "code",
      "metadata": {
        "id": "4w7I9s_S-4Dl"
      },
      "source": [
        "coins = ('bitcoin', 'ethereum', 'cardano', 'tether', 'solana')"
      ],
      "execution_count": 11,
      "outputs": []
    },
    {
      "cell_type": "code",
      "metadata": {
        "id": "ONtuTSl3A9kG"
      },
      "source": [
        "def coin_prices():\n",
        "  for coin in coins:\n",
        "    sample_data = cg.get_coin_market_chart_range_by_id(id = coin, vs_currency = 'usd', from_timestamp = '1577768400', to_timestamp = '1609477200')"
      ],
      "execution_count": 12,
      "outputs": []
    },
    {
      "cell_type": "code",
      "metadata": {
        "id": "R2ZjZm5VBsJY"
      },
      "source": [
        "sample_data"
      ],
      "execution_count": null,
      "outputs": []
    },
    {
      "cell_type": "code",
      "metadata": {
        "id": "tnYOGErvPPhP"
      },
      "source": [
        "# getting the price of bitcoin from 01/01/2020 -> 01/01/2021\n",
        "#sample_data = cg.get_coin_market_chart_range_by_id(id = 'bitcoin', vs_currency = 'usd', from_timestamp = '1577768400', to_timestamp = '1609477200')"
      ],
      "execution_count": null,
      "outputs": []
    },
    {
      "cell_type": "code",
      "metadata": {
        "id": "RgT01QmkwpxV"
      },
      "source": [
        "# putting sample data into a DataFrame\n",
        "sample_df = pd.DataFrame(sample_data, columns = ['market_caps', 'prices', 'total_volumes'])"
      ],
      "execution_count": null,
      "outputs": []
    },
    {
      "cell_type": "code",
      "metadata": {
        "colab": {
          "base_uri": "https://localhost:8080/"
        },
        "id": "XGZPqXEhQFub",
        "outputId": "af12eb8f-cde6-4ebf-c62c-8ff1278afda2"
      },
      "source": [
        "# checking market_caps column\n",
        "sample_df['market_caps']"
      ],
      "execution_count": null,
      "outputs": [
        {
          "output_type": "execute_result",
          "data": {
            "text/plain": [
              "0      [1577836800000, 130394101535.60994]\n",
              "1        [1577923200000, 130422953817.668]\n",
              "2      [1578009600000, 126280790200.20206]\n",
              "3      [1578096000000, 132766262579.09486]\n",
              "4      [1578182400000, 133474716218.18333]\n",
              "                      ...                 \n",
              "362    [1609113600000, 493427450341.26013]\n",
              "363     [1609200000000, 503712223153.6673]\n",
              "364     [1609286400000, 509680257177.0481]\n",
              "365    [1609372800000, 535967306917.84125]\n",
              "366     [1609459200000, 539438036435.6701]\n",
              "Name: market_caps, Length: 367, dtype: object"
            ]
          },
          "metadata": {},
          "execution_count": 9
        }
      ]
    },
    {
      "cell_type": "code",
      "metadata": {
        "id": "UPz8m4OqScTr"
      },
      "source": [
        "# looping over each col in sample_df, splitting the UNIX time stamps from each and the values\n",
        "new_market_caps = []\n",
        "new_prices = []\n",
        "new_total_volumes = []\n",
        "date = []\n",
        "\n",
        "# looping over the market_caps col\n",
        "for date1, mc in sample_df['market_caps']:\n",
        "  new_market_caps.append(mc)\n",
        "\n",
        "# looping over the prices col\n",
        "for date2, p in sample_df['prices']:\n",
        "  new_prices.append(p)\n",
        "\n",
        "# looping over the total_volumes col\n",
        "for date3, tv in sample_df['total_volumes']:\n",
        "  new_total_volumes.append(tv) \n",
        "\n",
        "# lopping over the market_cap col to grab the UNIX date\n",
        "for date4, x in sample_df['market_caps']:\n",
        "  date.append(date4)"
      ],
      "execution_count": null,
      "outputs": []
    },
    {
      "cell_type": "code",
      "metadata": {
        "id": "PR19ywyI2GwR"
      },
      "source": [
        "# inserting the new market_cap list into the df\n",
        "sample_df['market_caps'] = sample_df['market_caps'] = new_market_caps\n",
        "\n",
        "# inserting the new prices list into the df\n",
        "sample_df['prices'] = sample_df['prices'] = new_prices\n",
        "\n",
        "# inserting the new total_volumnes list into the df\n",
        "sample_df['total_volumes'] = sample_df['total_volumes'] = new_total_volumes\n",
        "\n",
        "# inserting the date list into the df\n",
        "sample_df['date'] = sample_df['date'] = date\n",
        "\n",
        "# changing the date col from UNIX to yyyy-mm-dd\n",
        "sample_df['date'] = pd.to_datetime(sample_df['date'], unit = 'ms')\n",
        "\n",
        "# setting the date col as the index\n",
        "sample_df.set_index('date', inplace = True)"
      ],
      "execution_count": null,
      "outputs": []
    },
    {
      "cell_type": "code",
      "metadata": {
        "colab": {
          "base_uri": "https://localhost:8080/",
          "height": 390
        },
        "id": "N_ARjA0XBu07",
        "outputId": "23403bd9-934f-4677-d6e3-8850fbdbc46c"
      },
      "source": [
        "sample_df.head(10)"
      ],
      "execution_count": null,
      "outputs": [
        {
          "output_type": "execute_result",
          "data": {
            "text/html": [
              "<div>\n",
              "<style scoped>\n",
              "    .dataframe tbody tr th:only-of-type {\n",
              "        vertical-align: middle;\n",
              "    }\n",
              "\n",
              "    .dataframe tbody tr th {\n",
              "        vertical-align: top;\n",
              "    }\n",
              "\n",
              "    .dataframe thead th {\n",
              "        text-align: right;\n",
              "    }\n",
              "</style>\n",
              "<table border=\"1\" class=\"dataframe\">\n",
              "  <thead>\n",
              "    <tr style=\"text-align: right;\">\n",
              "      <th></th>\n",
              "      <th>market_caps</th>\n",
              "      <th>prices</th>\n",
              "      <th>total_volumes</th>\n",
              "    </tr>\n",
              "    <tr>\n",
              "      <th>date</th>\n",
              "      <th></th>\n",
              "      <th></th>\n",
              "      <th></th>\n",
              "    </tr>\n",
              "  </thead>\n",
              "  <tbody>\n",
              "    <tr>\n",
              "      <th>2020-01-01</th>\n",
              "      <td>1.303941e+11</td>\n",
              "      <td>7195.153895</td>\n",
              "      <td>2.118788e+10</td>\n",
              "    </tr>\n",
              "    <tr>\n",
              "      <th>2020-01-02</th>\n",
              "      <td>1.304230e+11</td>\n",
              "      <td>7193.754668</td>\n",
              "      <td>1.812352e+10</td>\n",
              "    </tr>\n",
              "    <tr>\n",
              "      <th>2020-01-03</th>\n",
              "      <td>1.262808e+11</td>\n",
              "      <td>6963.853354</td>\n",
              "      <td>2.031319e+10</td>\n",
              "    </tr>\n",
              "    <tr>\n",
              "      <th>2020-01-04</th>\n",
              "      <td>1.327663e+11</td>\n",
              "      <td>7300.346935</td>\n",
              "      <td>3.101578e+10</td>\n",
              "    </tr>\n",
              "    <tr>\n",
              "      <th>2020-01-05</th>\n",
              "      <td>1.334747e+11</td>\n",
              "      <td>7351.377053</td>\n",
              "      <td>2.061164e+10</td>\n",
              "    </tr>\n",
              "    <tr>\n",
              "      <th>2020-01-06</th>\n",
              "      <td>1.333890e+11</td>\n",
              "      <td>7349.972248</td>\n",
              "      <td>2.192922e+10</td>\n",
              "    </tr>\n",
              "    <tr>\n",
              "      <th>2020-01-07</th>\n",
              "      <td>1.405572e+11</td>\n",
              "      <td>7734.675516</td>\n",
              "      <td>2.814852e+10</td>\n",
              "    </tr>\n",
              "    <tr>\n",
              "      <th>2020-01-08</th>\n",
              "      <td>1.477986e+11</td>\n",
              "      <td>8147.415238</td>\n",
              "      <td>3.482319e+10</td>\n",
              "    </tr>\n",
              "    <tr>\n",
              "      <th>2020-01-09</th>\n",
              "      <td>1.460896e+11</td>\n",
              "      <td>8045.789125</td>\n",
              "      <td>3.997151e+10</td>\n",
              "    </tr>\n",
              "    <tr>\n",
              "      <th>2020-01-10</th>\n",
              "      <td>1.419139e+11</td>\n",
              "      <td>7832.795644</td>\n",
              "      <td>2.927605e+10</td>\n",
              "    </tr>\n",
              "  </tbody>\n",
              "</table>\n",
              "</div>"
            ],
            "text/plain": [
              "             market_caps       prices  total_volumes\n",
              "date                                                \n",
              "2020-01-01  1.303941e+11  7195.153895   2.118788e+10\n",
              "2020-01-02  1.304230e+11  7193.754668   1.812352e+10\n",
              "2020-01-03  1.262808e+11  6963.853354   2.031319e+10\n",
              "2020-01-04  1.327663e+11  7300.346935   3.101578e+10\n",
              "2020-01-05  1.334747e+11  7351.377053   2.061164e+10\n",
              "2020-01-06  1.333890e+11  7349.972248   2.192922e+10\n",
              "2020-01-07  1.405572e+11  7734.675516   2.814852e+10\n",
              "2020-01-08  1.477986e+11  8147.415238   3.482319e+10\n",
              "2020-01-09  1.460896e+11  8045.789125   3.997151e+10\n",
              "2020-01-10  1.419139e+11  7832.795644   2.927605e+10"
            ]
          },
          "metadata": {},
          "execution_count": 15
        }
      ]
    },
    {
      "cell_type": "code",
      "metadata": {
        "colab": {
          "base_uri": "https://localhost:8080/",
          "height": 235
        },
        "id": "Z__lMQmWOBSE",
        "outputId": "04285a28-79c3-44bf-8a42-ff7df591361f"
      },
      "source": [
        "sample_df.tail()"
      ],
      "execution_count": null,
      "outputs": [
        {
          "output_type": "execute_result",
          "data": {
            "text/html": [
              "<div>\n",
              "<style scoped>\n",
              "    .dataframe tbody tr th:only-of-type {\n",
              "        vertical-align: middle;\n",
              "    }\n",
              "\n",
              "    .dataframe tbody tr th {\n",
              "        vertical-align: top;\n",
              "    }\n",
              "\n",
              "    .dataframe thead th {\n",
              "        text-align: right;\n",
              "    }\n",
              "</style>\n",
              "<table border=\"1\" class=\"dataframe\">\n",
              "  <thead>\n",
              "    <tr style=\"text-align: right;\">\n",
              "      <th></th>\n",
              "      <th>market_caps</th>\n",
              "      <th>prices</th>\n",
              "      <th>total_volumes</th>\n",
              "    </tr>\n",
              "    <tr>\n",
              "      <th>date</th>\n",
              "      <th></th>\n",
              "      <th></th>\n",
              "      <th></th>\n",
              "    </tr>\n",
              "  </thead>\n",
              "  <tbody>\n",
              "    <tr>\n",
              "      <th>2020-12-28</th>\n",
              "      <td>4.934275e+11</td>\n",
              "      <td>26423.228792</td>\n",
              "      <td>5.665498e+10</td>\n",
              "    </tr>\n",
              "    <tr>\n",
              "      <th>2020-12-29</th>\n",
              "      <td>5.037122e+11</td>\n",
              "      <td>27125.384121</td>\n",
              "      <td>4.218652e+10</td>\n",
              "    </tr>\n",
              "    <tr>\n",
              "      <th>2020-12-30</th>\n",
              "      <td>5.096803e+11</td>\n",
              "      <td>27424.538955</td>\n",
              "      <td>3.808184e+10</td>\n",
              "    </tr>\n",
              "    <tr>\n",
              "      <th>2020-12-31</th>\n",
              "      <td>5.359673e+11</td>\n",
              "      <td>28837.288529</td>\n",
              "      <td>4.334114e+10</td>\n",
              "    </tr>\n",
              "    <tr>\n",
              "      <th>2021-01-01</th>\n",
              "      <td>5.394380e+11</td>\n",
              "      <td>29022.418395</td>\n",
              "      <td>4.350352e+10</td>\n",
              "    </tr>\n",
              "  </tbody>\n",
              "</table>\n",
              "</div>"
            ],
            "text/plain": [
              "             market_caps        prices  total_volumes\n",
              "date                                                 \n",
              "2020-12-28  4.934275e+11  26423.228792   5.665498e+10\n",
              "2020-12-29  5.037122e+11  27125.384121   4.218652e+10\n",
              "2020-12-30  5.096803e+11  27424.538955   3.808184e+10\n",
              "2020-12-31  5.359673e+11  28837.288529   4.334114e+10\n",
              "2021-01-01  5.394380e+11  29022.418395   4.350352e+10"
            ]
          },
          "metadata": {},
          "execution_count": 16
        }
      ]
    },
    {
      "cell_type": "markdown",
      "metadata": {
        "id": "OorXCvThZotF"
      },
      "source": [
        "# Grabbing Litecoin Data"
      ]
    },
    {
      "cell_type": "code",
      "metadata": {
        "id": "Up6nqafiZ9ey"
      },
      "source": [
        "sample_data = cg.get_coin_market_chart_range_by_id(id = 'litecoin', vs_currency = 'usd', from_timestamp = '1577768400', to_timestamp = '1609477200')"
      ],
      "execution_count": null,
      "outputs": []
    },
    {
      "cell_type": "code",
      "metadata": {
        "id": "8-OmuC_HZ_iC"
      },
      "source": [
        "sample_data"
      ],
      "execution_count": null,
      "outputs": []
    },
    {
      "cell_type": "markdown",
      "metadata": {
        "id": "7B0nLI0iYk-v"
      },
      "source": [
        "#Normalizing Data"
      ]
    },
    {
      "cell_type": "code",
      "metadata": {
        "id": "CsnoB64uQskz"
      },
      "source": [
        ""
      ],
      "execution_count": null,
      "outputs": []
    }
  ]
}