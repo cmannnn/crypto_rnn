{
  "nbformat": 4,
  "nbformat_minor": 0,
  "metadata": {
    "colab": {
      "name": "crypto_rnn.ipynb",
      "provenance": [],
      "collapsed_sections": [],
      "authorship_tag": "ABX9TyOXyOojjTmnJqrU5SuZ4UHs",
      "include_colab_link": true
    },
    "kernelspec": {
      "name": "python3",
      "display_name": "Python 3"
    },
    "language_info": {
      "name": "python"
    },
    "accelerator": "GPU"
  },
  "cells": [
    {
      "cell_type": "markdown",
      "metadata": {
        "id": "view-in-github",
        "colab_type": "text"
      },
      "source": [
        "<a href=\"https://colab.research.google.com/github/cmannnn/crypto_rnn/blob/main/crypto_rnn.ipynb\" target=\"_parent\"><img src=\"https://colab.research.google.com/assets/colab-badge.svg\" alt=\"Open In Colab\"/></a>"
      ]
    },
    {
      "cell_type": "markdown",
      "metadata": {
        "id": "TESSNM0r6hx-"
      },
      "source": [
        "#Crypto RNN"
      ]
    },
    {
      "cell_type": "markdown",
      "metadata": {
        "id": "FfbyqnNa6n_r"
      },
      "source": [
        "##imports"
      ]
    },
    {
      "cell_type": "code",
      "metadata": {
        "colab": {
          "base_uri": "https://localhost:8080/"
        },
        "id": "ijFiAJKktEBu",
        "outputId": "026a9d85-97d4-431a-f034-d1275c50a727"
      },
      "source": [
        "import matplotlib.pyplot as plt\n",
        "import pandas as pd\n",
        "\n",
        "!pip install pycoingecko\n",
        "from pycoingecko import CoinGeckoAPI"
      ],
      "execution_count": 1,
      "outputs": [
        {
          "output_type": "stream",
          "name": "stdout",
          "text": [
            "Collecting pycoingecko\n",
            "  Downloading pycoingecko-2.2.0-py3-none-any.whl (8.3 kB)\n",
            "Requirement already satisfied: requests in /usr/local/lib/python3.7/dist-packages (from pycoingecko) (2.23.0)\n",
            "Requirement already satisfied: chardet<4,>=3.0.2 in /usr/local/lib/python3.7/dist-packages (from requests->pycoingecko) (3.0.4)\n",
            "Requirement already satisfied: urllib3!=1.25.0,!=1.25.1,<1.26,>=1.21.1 in /usr/local/lib/python3.7/dist-packages (from requests->pycoingecko) (1.24.3)\n",
            "Requirement already satisfied: idna<3,>=2.5 in /usr/local/lib/python3.7/dist-packages (from requests->pycoingecko) (2.10)\n",
            "Requirement already satisfied: certifi>=2017.4.17 in /usr/local/lib/python3.7/dist-packages (from requests->pycoingecko) (2021.5.30)\n",
            "Installing collected packages: pycoingecko\n",
            "Successfully installed pycoingecko-2.2.0\n"
          ]
        }
      ]
    },
    {
      "cell_type": "code",
      "metadata": {
        "id": "LTi3Rsna6m5B"
      },
      "source": [
        "# initializing CoinGeckoAPI\n",
        "cg = CoinGeckoAPI()"
      ],
      "execution_count": 2,
      "outputs": []
    },
    {
      "cell_type": "code",
      "metadata": {
        "colab": {
          "base_uri": "https://localhost:8080/"
        },
        "id": "Z5GJKyho7RwO",
        "outputId": "bc9bf1cb-7b41-4c31-ea88-7b558244f1af"
      },
      "source": [
        "# checking status of the API\n",
        "cg.ping()"
      ],
      "execution_count": 3,
      "outputs": [
        {
          "output_type": "execute_result",
          "data": {
            "text/plain": [
              "{'gecko_says': '(V3) To the Moon!'}"
            ]
          },
          "metadata": {},
          "execution_count": 3
        }
      ]
    },
    {
      "cell_type": "code",
      "metadata": {
        "id": "0YxrVXdZ87hR",
        "colab": {
          "base_uri": "https://localhost:8080/"
        },
        "outputId": "e64e43ce-5fa4-4de6-db28-f8ef83f03ffd"
      },
      "source": [
        "# which coins are currently trending?\n",
        "cg.get_search_trending()"
      ],
      "execution_count": 4,
      "outputs": [
        {
          "output_type": "execute_result",
          "data": {
            "text/plain": [
              "{'coins': [{'item': {'coin_id': 18697,\n",
              "    'id': 'gamezone',\n",
              "    'large': 'https://assets.coingecko.com/coins/images/18697/large/Th98fbg__400x400.jpg?1633007475',\n",
              "    'market_cap_rank': 613,\n",
              "    'name': 'GameZone',\n",
              "    'price_btc': 1.4010030499671915e-05,\n",
              "    'score': 0,\n",
              "    'slug': 'gamezone',\n",
              "    'small': 'https://assets.coingecko.com/coins/images/18697/small/Th98fbg__400x400.jpg?1633007475',\n",
              "    'symbol': 'GZONE',\n",
              "    'thumb': 'https://assets.coingecko.com/coins/images/18697/thumb/Th98fbg__400x400.jpg?1633007475'}},\n",
              "  {'item': {'coin_id': 17519,\n",
              "    'id': 'bnbpay',\n",
              "    'large': 'https://assets.coingecko.com/coins/images/17519/large/bnp.png?1634029495',\n",
              "    'market_cap_rank': 482,\n",
              "    'name': 'BNBPay',\n",
              "    'price_btc': 2.836807956247346e-07,\n",
              "    'score': 1,\n",
              "    'slug': 'bnbpay',\n",
              "    'small': 'https://assets.coingecko.com/coins/images/17519/small/bnp.png?1634029495',\n",
              "    'symbol': 'BPAY',\n",
              "    'thumb': 'https://assets.coingecko.com/coins/images/17519/thumb/bnp.png?1634029495'}},\n",
              "  {'item': {'coin_id': 17984,\n",
              "    'id': 'moonriver',\n",
              "    'large': 'https://assets.coingecko.com/coins/images/17984/large/9285.png?1630028620',\n",
              "    'market_cap_rank': 126,\n",
              "    'name': 'Moonriver',\n",
              "    'price_btc': 0.006077674348996644,\n",
              "    'score': 2,\n",
              "    'slug': 'moonriver',\n",
              "    'small': 'https://assets.coingecko.com/coins/images/17984/small/9285.png?1630028620',\n",
              "    'symbol': 'MOVR',\n",
              "    'thumb': 'https://assets.coingecko.com/coins/images/17984/thumb/9285.png?1630028620'}},\n",
              "  {'item': {'coin_id': 4001,\n",
              "    'id': 'fantom',\n",
              "    'large': 'https://assets.coingecko.com/coins/images/4001/large/Fantom.png?1558015016',\n",
              "    'market_cap_rank': 34,\n",
              "    'name': 'Fantom',\n",
              "    'price_btc': 4.1268841137800096e-05,\n",
              "    'score': 3,\n",
              "    'slug': 'fantom',\n",
              "    'small': 'https://assets.coingecko.com/coins/images/4001/small/Fantom.png?1558015016',\n",
              "    'symbol': 'FTM',\n",
              "    'thumb': 'https://assets.coingecko.com/coins/images/4001/thumb/Fantom.png?1558015016'}},\n",
              "  {'item': {'coin_id': 17569,\n",
              "    'id': 'joe',\n",
              "    'large': 'https://assets.coingecko.com/coins/images/17569/large/joe_200x200.png?1628497750',\n",
              "    'market_cap_rank': 234,\n",
              "    'name': 'JOE',\n",
              "    'price_btc': 4.577074713791338e-05,\n",
              "    'score': 4,\n",
              "    'slug': 'joe',\n",
              "    'small': 'https://assets.coingecko.com/coins/images/17569/small/joe_200x200.png?1628497750',\n",
              "    'symbol': 'JOE',\n",
              "    'thumb': 'https://assets.coingecko.com/coins/images/17569/thumb/joe_200x200.png?1628497750'}},\n",
              "  {'item': {'coin_id': 14483,\n",
              "    'id': 'olympus',\n",
              "    'large': 'https://assets.coingecko.com/coins/images/14483/large/token_OHM_%281%29.png?1628311611',\n",
              "    'market_cap_rank': 55,\n",
              "    'name': 'Olympus',\n",
              "    'price_btc': 0.017361307222942508,\n",
              "    'score': 5,\n",
              "    'slug': 'olympus',\n",
              "    'small': 'https://assets.coingecko.com/coins/images/14483/small/token_OHM_%281%29.png?1628311611',\n",
              "    'symbol': 'OHM',\n",
              "    'thumb': 'https://assets.coingecko.com/coins/images/14483/thumb/token_OHM_%281%29.png?1628311611'}},\n",
              "  {'item': {'coin_id': 825,\n",
              "    'id': 'binancecoin',\n",
              "    'large': 'https://assets.coingecko.com/coins/images/825/large/binance-coin-logo.png?1547034615',\n",
              "    'market_cap_rank': 3,\n",
              "    'name': 'Binance Coin',\n",
              "    'price_btc': 0.007810252080289591,\n",
              "    'score': 6,\n",
              "    'slug': 'binance-coin',\n",
              "    'small': 'https://assets.coingecko.com/coins/images/825/small/binance-coin-logo.png?1547034615',\n",
              "    'symbol': 'BNB',\n",
              "    'thumb': 'https://assets.coingecko.com/coins/images/825/thumb/binance-coin-logo.png?1547034615'}}],\n",
              " 'exchanges': []}"
            ]
          },
          "metadata": {},
          "execution_count": 4
        }
      ]
    },
    {
      "cell_type": "code",
      "metadata": {
        "colab": {
          "base_uri": "https://localhost:8080/"
        },
        "id": "MosmQzUlNPkq",
        "outputId": "7fdf9df6-6e8e-4d2d-8d13-b910a5fe5c12"
      },
      "source": [
        "# testing to retrieve current bitcoin price\n",
        "cg.get_price(ids ='bitcoin', vs_currencies = 'usd')"
      ],
      "execution_count": 5,
      "outputs": [
        {
          "output_type": "execute_result",
          "data": {
            "text/plain": [
              "{'bitcoin': {'usd': 61776}}"
            ]
          },
          "metadata": {},
          "execution_count": 5
        }
      ]
    },
    {
      "cell_type": "code",
      "metadata": {
        "colab": {
          "base_uri": "https://localhost:8080/"
        },
        "id": "4n1PP6Go-6ZM",
        "outputId": "825e3038-b7e4-4f2e-a351-4ac2ec775a96"
      },
      "source": [
        "# testing to retrieve current bitcoin price\n",
        "cg.get_price(ids ='solana', vs_currencies = 'usd')"
      ],
      "execution_count": 6,
      "outputs": [
        {
          "output_type": "execute_result",
          "data": {
            "text/plain": [
              "{'solana': {'usd': 201.44}}"
            ]
          },
          "metadata": {},
          "execution_count": 6
        }
      ]
    },
    {
      "cell_type": "markdown",
      "metadata": {
        "id": "zz6Jl6k7Zd6t"
      },
      "source": [
        "# Getting Bitcoin Data"
      ]
    },
    {
      "cell_type": "code",
      "metadata": {
        "id": "4w7I9s_S-4Dl"
      },
      "source": [
        "coins = ['bitcoin', 'ethereum', 'cardano', 'tether', 'solana']"
      ],
      "execution_count": 7,
      "outputs": []
    },
    {
      "cell_type": "code",
      "metadata": {
        "id": "tnYOGErvPPhP"
      },
      "source": [
        "def get_bitcoin():\n",
        "# getting the price of bitcoin from 01/01/2020 -> 01/01/2021\n",
        "  bitcoin_sample = cg.get_coin_market_chart_range_by_id(id = 'bitcoin', vs_currency = 'usd', from_timestamp = '1577768400', to_timestamp = '1609477200')\n",
        "\n",
        "  # putting sample data into a DataFrame\n",
        "  bitcoin = pd.DataFrame(bitcoin_sample, columns = ['market_caps', 'prices', 'total_volumes'])\n",
        "\n",
        "  # looping over each col in sample_df, splitting the UNIX time stamps from each and the values\n",
        "  new_market_caps = []\n",
        "  new_prices = []\n",
        "  new_total_volumes = []\n",
        "  date = []\n",
        "\n",
        "# looping over the market_caps col\n",
        "  for date1, mc in bitcoin['market_caps']:\n",
        "    new_market_caps.append(mc)\n",
        "\n",
        "# looping over the prices col\n",
        "  for date2, p in bitcoin['prices']:\n",
        "    new_prices.append(p)\n",
        "\n",
        "# looping over the total_volumes col\n",
        "  for date3, tv in bitcoin['total_volumes']:\n",
        "    new_total_volumes.append(tv) \n",
        "\n",
        "# lopping over the market_cap col to grab the UNIX date\n",
        "  for date4, x in bitcoin['market_caps']:\n",
        "    date.append(date4)\n",
        "\n",
        "    # inserting the new market_cap list into the df\n",
        "  bitcoin['market_caps'] = new_market_caps\n",
        "\n",
        "# inserting the new prices list into the df\n",
        "  bitcoin['prices'] = new_prices\n",
        "\n",
        "# inserting the new total_volumnes list into the df\n",
        "  bitcoin['total_volumes'] = new_total_volumes\n",
        "\n",
        "# inserting the date list into the df\n",
        "  bitcoin['date'] = date\n",
        "\n",
        "# changing the date col from UNIX to yyyy-mm-dd\n",
        "  bitcoin['date'] = pd.to_datetime(bitcoin['date'], unit = 'ms')\n",
        "\n",
        "# setting the date col as the index\n",
        "  bitcoin.set_index('date', inplace = True)\n",
        "\n",
        "  bitcoin.rename(columns={'market_caps':'bitcoin_markt_cap', 'prices':'bitcoin_price', 'total_volumes':'bitcoin_total_volume'}, inplace = True)\n",
        "\n",
        "  return bitcoin"
      ],
      "execution_count": 8,
      "outputs": []
    },
    {
      "cell_type": "code",
      "metadata": {
        "colab": {
          "base_uri": "https://localhost:8080/",
          "height": 450
        },
        "id": "wwqmreDAbN7n",
        "outputId": "2cef67eb-2409-4a9f-a68a-d352389d5438"
      },
      "source": [
        "get_bitcoin()"
      ],
      "execution_count": 9,
      "outputs": [
        {
          "output_type": "execute_result",
          "data": {
            "text/html": [
              "<div>\n",
              "<style scoped>\n",
              "    .dataframe tbody tr th:only-of-type {\n",
              "        vertical-align: middle;\n",
              "    }\n",
              "\n",
              "    .dataframe tbody tr th {\n",
              "        vertical-align: top;\n",
              "    }\n",
              "\n",
              "    .dataframe thead th {\n",
              "        text-align: right;\n",
              "    }\n",
              "</style>\n",
              "<table border=\"1\" class=\"dataframe\">\n",
              "  <thead>\n",
              "    <tr style=\"text-align: right;\">\n",
              "      <th></th>\n",
              "      <th>bitcoin_markt_cap</th>\n",
              "      <th>bitcoin_price</th>\n",
              "      <th>bitcoin_total_volume</th>\n",
              "    </tr>\n",
              "    <tr>\n",
              "      <th>date</th>\n",
              "      <th></th>\n",
              "      <th></th>\n",
              "      <th></th>\n",
              "    </tr>\n",
              "  </thead>\n",
              "  <tbody>\n",
              "    <tr>\n",
              "      <th>2020-01-01</th>\n",
              "      <td>1.303941e+11</td>\n",
              "      <td>7195.153895</td>\n",
              "      <td>2.118788e+10</td>\n",
              "    </tr>\n",
              "    <tr>\n",
              "      <th>2020-01-02</th>\n",
              "      <td>1.304230e+11</td>\n",
              "      <td>7193.754668</td>\n",
              "      <td>1.812352e+10</td>\n",
              "    </tr>\n",
              "    <tr>\n",
              "      <th>2020-01-03</th>\n",
              "      <td>1.262808e+11</td>\n",
              "      <td>6963.853354</td>\n",
              "      <td>2.031319e+10</td>\n",
              "    </tr>\n",
              "    <tr>\n",
              "      <th>2020-01-04</th>\n",
              "      <td>1.327663e+11</td>\n",
              "      <td>7300.346935</td>\n",
              "      <td>3.101578e+10</td>\n",
              "    </tr>\n",
              "    <tr>\n",
              "      <th>2020-01-05</th>\n",
              "      <td>1.334747e+11</td>\n",
              "      <td>7351.377053</td>\n",
              "      <td>2.061164e+10</td>\n",
              "    </tr>\n",
              "    <tr>\n",
              "      <th>...</th>\n",
              "      <td>...</td>\n",
              "      <td>...</td>\n",
              "      <td>...</td>\n",
              "    </tr>\n",
              "    <tr>\n",
              "      <th>2020-12-28</th>\n",
              "      <td>4.934275e+11</td>\n",
              "      <td>26423.228792</td>\n",
              "      <td>5.665498e+10</td>\n",
              "    </tr>\n",
              "    <tr>\n",
              "      <th>2020-12-29</th>\n",
              "      <td>5.037122e+11</td>\n",
              "      <td>27125.384121</td>\n",
              "      <td>4.218652e+10</td>\n",
              "    </tr>\n",
              "    <tr>\n",
              "      <th>2020-12-30</th>\n",
              "      <td>5.096803e+11</td>\n",
              "      <td>27424.538955</td>\n",
              "      <td>3.808184e+10</td>\n",
              "    </tr>\n",
              "    <tr>\n",
              "      <th>2020-12-31</th>\n",
              "      <td>5.359673e+11</td>\n",
              "      <td>28837.288529</td>\n",
              "      <td>4.334114e+10</td>\n",
              "    </tr>\n",
              "    <tr>\n",
              "      <th>2021-01-01</th>\n",
              "      <td>5.394380e+11</td>\n",
              "      <td>29022.418395</td>\n",
              "      <td>4.350352e+10</td>\n",
              "    </tr>\n",
              "  </tbody>\n",
              "</table>\n",
              "<p>367 rows × 3 columns</p>\n",
              "</div>"
            ],
            "text/plain": [
              "            bitcoin_markt_cap  bitcoin_price  bitcoin_total_volume\n",
              "date                                                              \n",
              "2020-01-01       1.303941e+11    7195.153895          2.118788e+10\n",
              "2020-01-02       1.304230e+11    7193.754668          1.812352e+10\n",
              "2020-01-03       1.262808e+11    6963.853354          2.031319e+10\n",
              "2020-01-04       1.327663e+11    7300.346935          3.101578e+10\n",
              "2020-01-05       1.334747e+11    7351.377053          2.061164e+10\n",
              "...                       ...            ...                   ...\n",
              "2020-12-28       4.934275e+11   26423.228792          5.665498e+10\n",
              "2020-12-29       5.037122e+11   27125.384121          4.218652e+10\n",
              "2020-12-30       5.096803e+11   27424.538955          3.808184e+10\n",
              "2020-12-31       5.359673e+11   28837.288529          4.334114e+10\n",
              "2021-01-01       5.394380e+11   29022.418395          4.350352e+10\n",
              "\n",
              "[367 rows x 3 columns]"
            ]
          },
          "metadata": {},
          "execution_count": 9
        }
      ]
    },
    {
      "cell_type": "markdown",
      "metadata": {
        "id": "OorXCvThZotF"
      },
      "source": [
        "# Grabbing Litecoin Data"
      ]
    },
    {
      "cell_type": "code",
      "metadata": {
        "id": "Up6nqafiZ9ey"
      },
      "source": [
        "def get_litecoin():\n",
        "  litecoin_sample = cg.get_coin_market_chart_range_by_id(id = 'litecoin', vs_currency = 'usd', from_timestamp = '1577768400', to_timestamp = '1609477200')\n",
        "  \n",
        "  # putting sample data into a DataFrame\n",
        "  litecoin = pd.DataFrame(litecoin_sample, columns = ['market_caps', 'prices', 'total_volumes'])\n",
        "  \n",
        "  # looping over each col in sample_df, splitting the UNIX time stamps from each and the values\n",
        "  new_market_caps = []\n",
        "  new_prices = []\n",
        "  new_total_volumes = []\n",
        "  date = []\n",
        "\n",
        "# looping over the market_caps col\n",
        "  for date1, mc in litecoin['market_caps']:\n",
        "    new_market_caps.append(mc)\n",
        "\n",
        "# looping over the prices col\n",
        "  for date2, p in litecoin['prices']:\n",
        "    new_prices.append(p)\n",
        "\n",
        "# looping over the total_volumes col\n",
        "  for date3, tv in litecoin['total_volumes']:\n",
        "    new_total_volumes.append(tv) \n",
        "\n",
        "# lopping over the market_cap col to grab the UNIX date\n",
        "  for date4, x in litecoin['market_caps']:\n",
        "    date.append(date4)  \n",
        "  \n",
        "  # inserting the new market_cap list into the df\n",
        "  litecoin['market_caps'] = new_market_caps\n",
        "\n",
        "# inserting the new prices list into the df\n",
        "  litecoin['prices'] = new_prices\n",
        "\n",
        "# inserting the new total_volumnes list into the df\n",
        "  litecoin['total_volumes'] = new_total_volumes\n",
        "\n",
        "# inserting the date list into the df\n",
        "  litecoin['date'] = date\n",
        "\n",
        "# changing the date col from UNIX to yyyy-mm-dd\n",
        "  litecoin['date'] = pd.to_datetime(litecoin['date'], unit = 'ms')\n",
        "\n",
        "# setting the date col as the index\n",
        "  litecoin.set_index('date', inplace = True)\n",
        "  \n",
        "  litecoin.rename(columns={'market_caps':'litecoin_markt_cap', 'prices':'litecoin_price', 'total_volumes':'litecoin_total_volume'}, inplace = True)\n",
        "\n",
        "  return litecoin"
      ],
      "execution_count": 10,
      "outputs": []
    },
    {
      "cell_type": "code",
      "metadata": {
        "id": "8-OmuC_HZ_iC",
        "colab": {
          "base_uri": "https://localhost:8080/",
          "height": 450
        },
        "outputId": "b745bd66-8e04-4af9-bbb4-2eafcfa356ab"
      },
      "source": [
        "get_litecoin()"
      ],
      "execution_count": 11,
      "outputs": [
        {
          "output_type": "execute_result",
          "data": {
            "text/html": [
              "<div>\n",
              "<style scoped>\n",
              "    .dataframe tbody tr th:only-of-type {\n",
              "        vertical-align: middle;\n",
              "    }\n",
              "\n",
              "    .dataframe tbody tr th {\n",
              "        vertical-align: top;\n",
              "    }\n",
              "\n",
              "    .dataframe thead th {\n",
              "        text-align: right;\n",
              "    }\n",
              "</style>\n",
              "<table border=\"1\" class=\"dataframe\">\n",
              "  <thead>\n",
              "    <tr style=\"text-align: right;\">\n",
              "      <th></th>\n",
              "      <th>litecoin_markt_cap</th>\n",
              "      <th>litecoin_price</th>\n",
              "      <th>litecoin_total_volume</th>\n",
              "    </tr>\n",
              "    <tr>\n",
              "      <th>date</th>\n",
              "      <th></th>\n",
              "      <th></th>\n",
              "      <th></th>\n",
              "    </tr>\n",
              "  </thead>\n",
              "  <tbody>\n",
              "    <tr>\n",
              "      <th>2020-01-01</th>\n",
              "      <td>2.631034e+09</td>\n",
              "      <td>41.330312</td>\n",
              "      <td>2.220352e+09</td>\n",
              "    </tr>\n",
              "    <tr>\n",
              "      <th>2020-01-02</th>\n",
              "      <td>2.650380e+09</td>\n",
              "      <td>41.606316</td>\n",
              "      <td>1.979757e+09</td>\n",
              "    </tr>\n",
              "    <tr>\n",
              "      <th>2020-01-03</th>\n",
              "      <td>2.513233e+09</td>\n",
              "      <td>39.413813</td>\n",
              "      <td>1.678103e+09</td>\n",
              "    </tr>\n",
              "    <tr>\n",
              "      <th>2020-01-04</th>\n",
              "      <td>2.683016e+09</td>\n",
              "      <td>41.991047</td>\n",
              "      <td>2.333782e+09</td>\n",
              "    </tr>\n",
              "    <tr>\n",
              "      <th>2020-01-05</th>\n",
              "      <td>2.727570e+09</td>\n",
              "      <td>42.781417</td>\n",
              "      <td>2.085469e+09</td>\n",
              "    </tr>\n",
              "    <tr>\n",
              "      <th>...</th>\n",
              "      <td>...</td>\n",
              "      <td>...</td>\n",
              "      <td>...</td>\n",
              "    </tr>\n",
              "    <tr>\n",
              "      <th>2020-12-28</th>\n",
              "      <td>8.553328e+09</td>\n",
              "      <td>127.899088</td>\n",
              "      <td>1.000616e+10</td>\n",
              "    </tr>\n",
              "    <tr>\n",
              "      <th>2020-12-29</th>\n",
              "      <td>8.661848e+09</td>\n",
              "      <td>130.638658</td>\n",
              "      <td>7.456440e+09</td>\n",
              "    </tr>\n",
              "    <tr>\n",
              "      <th>2020-12-30</th>\n",
              "      <td>8.581202e+09</td>\n",
              "      <td>129.628167</td>\n",
              "      <td>5.810650e+09</td>\n",
              "    </tr>\n",
              "    <tr>\n",
              "      <th>2020-12-31</th>\n",
              "      <td>8.556679e+09</td>\n",
              "      <td>129.244151</td>\n",
              "      <td>5.932641e+09</td>\n",
              "    </tr>\n",
              "    <tr>\n",
              "      <th>2021-01-01</th>\n",
              "      <td>8.232940e+09</td>\n",
              "      <td>124.798698</td>\n",
              "      <td>4.978856e+09</td>\n",
              "    </tr>\n",
              "  </tbody>\n",
              "</table>\n",
              "<p>367 rows × 3 columns</p>\n",
              "</div>"
            ],
            "text/plain": [
              "            litecoin_markt_cap  litecoin_price  litecoin_total_volume\n",
              "date                                                                 \n",
              "2020-01-01        2.631034e+09       41.330312           2.220352e+09\n",
              "2020-01-02        2.650380e+09       41.606316           1.979757e+09\n",
              "2020-01-03        2.513233e+09       39.413813           1.678103e+09\n",
              "2020-01-04        2.683016e+09       41.991047           2.333782e+09\n",
              "2020-01-05        2.727570e+09       42.781417           2.085469e+09\n",
              "...                        ...             ...                    ...\n",
              "2020-12-28        8.553328e+09      127.899088           1.000616e+10\n",
              "2020-12-29        8.661848e+09      130.638658           7.456440e+09\n",
              "2020-12-30        8.581202e+09      129.628167           5.810650e+09\n",
              "2020-12-31        8.556679e+09      129.244151           5.932641e+09\n",
              "2021-01-01        8.232940e+09      124.798698           4.978856e+09\n",
              "\n",
              "[367 rows x 3 columns]"
            ]
          },
          "metadata": {},
          "execution_count": 11
        }
      ]
    },
    {
      "cell_type": "code",
      "metadata": {
        "id": "U2rCcXpVdlTh"
      },
      "source": [
        "BTC, ETH, ADA, USDT, SOL = ['bitcoin', 'ethereum', 'cardano', 'tether', 'solana']\n",
        "\n",
        "# BTC, ETH, ADA, USDT, SOL"
      ],
      "execution_count": 59,
      "outputs": []
    },
    {
      "cell_type": "code",
      "metadata": {
        "colab": {
          "base_uri": "https://localhost:8080/"
        },
        "id": "6C5hHI2lV1Ow",
        "outputId": "36738607-0a39-439b-d136-f4b789137d54"
      },
      "source": [
        "for a in coins:\n",
        "    print(a)"
      ],
      "execution_count": 56,
      "outputs": [
        {
          "output_type": "stream",
          "name": "stdout",
          "text": [
            "bitcoin\n",
            "ethereum\n",
            "cardano\n",
            "tether\n",
            "solana\n"
          ]
        }
      ]
    },
    {
      "cell_type": "code",
      "metadata": {
        "id": "55RnuskacqmI"
      },
      "source": [
        "def get_coin_data():\n",
        "    #coin_sample = cg.get_coin_market_chart_range_by_id(id = a, vs_currency = 'usd', from_timestamp = '1577768400', to_timestamp = '1609477200')\n",
        "    bitcoin_sample = cg.get_coin_market_chart_range_by_id(id = BTC, vs_currency = 'usd', from_timestamp = '1577768400', to_timestamp = '1609477200')\n",
        "    ethereum_sample = cg.get_coin_market_chart_range_by_id(id = ETH, vs_currency = 'usd', from_timestamp = '1577768400', to_timestamp = '1609477200')\n",
        "    cardano_sample = cg.get_coin_market_chart_range_by_id(id = ADA, vs_currency = 'usd', from_timestamp = '1577768400', to_timestamp = '1609477200')\n",
        "    tether_sample = cg.get_coin_market_chart_range_by_id(id = USDT, vs_currency = 'usd', from_timestamp = '1577768400', to_timestamp = '1609477200')\n",
        "    solana_sample = cg.get_coin_market_chart_range_by_id(id = SOL, vs_currency = 'usd', from_timestamp = '1577768400', to_timestamp = '1609477200')\n",
        "\n",
        "    bitcoin = pd.DataFrame(bitcoin_sample, columns = ['market_caps', 'prices', 'total_volumes'])\n",
        "    ethereum = pd.DataFrame(ethereum_sample, columns = ['market_caps', 'prices', 'total_volumes'])\n",
        "    cardano = pd.DataFrame(cardano_sample, columns = ['market_caps', 'prices', 'total_volumes'])\n",
        "    tether = pd.DataFrame(tether_sample, columns = ['market_caps', 'prices', 'total_volumes'])\n",
        "    solana = pd.DataFrame(solana_sample, columns = ['market_caps', 'prices', 'total_volumes'])\n",
        "    \n",
        "    # BITCOIN\n",
        "    # looping over each col in sample_df, splitting the UNIX time stamps from each and the values\n",
        "    bitcoin_market_cap = []\n",
        "    bitcoin_price = []\n",
        "    bitcoin_total_volume = []\n",
        "    bitcoin_date = []\n",
        "    \n",
        "    # ETHEREUM\n",
        "    # looping over each col in sample_df, splitting the UNIX time stamps from each and the values\n",
        "    ethereum_market_cap = []\n",
        "    ethereum_price = []\n",
        "    ethereum_total_volume = []\n",
        "    ethereum_date = []\n",
        "\n",
        "    # CARDANO\n",
        "    # looping over each col in sample_df, splitting the UNIX time stamps from each and the values\n",
        "    cardano_market_cap = []\n",
        "    cardano_price = []\n",
        "    cardano_total_volume = []\n",
        "    cardano_date = []\n",
        "    \n",
        "    # TETHER\n",
        "    # looping over each col in sample_df, splitting the UNIX time stamps from each and the values\n",
        "    tether_market_cap = []\n",
        "    tether_price = []\n",
        "    tether_total_volume = []\n",
        "    tether_date = []\n",
        "\n",
        "    # SOLANA\n",
        "    # looping over each col in sample_df, splitting the UNIX time stamps from each and the values\n",
        "    solana_market_cap = []\n",
        "    solana_price = []\n",
        "    solana_total_volume = []\n",
        "    solana_date = []\n",
        "\n",
        "    # BITCOIN\n",
        "    # looping over the market_caps col\n",
        "    for date1, mc in bitcoin['market_caps']:\n",
        "      bitcoin_market_cap.append(mc)\n",
        "\n",
        "    # looping over the prices col\n",
        "    for date2, p in bitcoin['prices']:\n",
        "      bitcoin_price.append(p)\n",
        "\n",
        "    # looping over the total_volumes col\n",
        "    for date3, tv in bitcoin['total_volumes']:\n",
        "      bitcoin_total_volume.append(tv) \n",
        "\n",
        "    # lopping over the market_cap col to grab the UNIX date\n",
        "    for date4, x in bitcoin['market_caps']:\n",
        "      bitcoin_date.append(date4)  \n",
        "\n",
        "    # ETHEREUM\n",
        "    # looping over the market_caps col\n",
        "    for date1, mc in ethereum['market_caps']:\n",
        "      ethereum_market_cap.append(mc)\n",
        "\n",
        "    # looping over the prices col\n",
        "    for date2, p in ethereum['prices']:\n",
        "      ethereum_price.append(p)\n",
        "\n",
        "    # looping over the total_volumes col\n",
        "    for date3, tv in ethereum['total_volumes']:\n",
        "      ethereum_total_volume.append(tv) \n",
        "\n",
        "    # lopping over the market_cap col to grab the UNIX date\n",
        "    for date4, x in ethereum['market_caps']:\n",
        "      ethereum_date.append(date4) \n",
        "\n",
        "    # CARDANO\n",
        "    # looping over the market_caps col\n",
        "    for date1, mc in cardano['market_caps']:\n",
        "      cardano_market_cap.append(mc)\n",
        "\n",
        "    # looping over the prices col\n",
        "    for date2, p in cardano['prices']:\n",
        "      cardano_price.append(p)\n",
        "\n",
        "    # looping over the total_volumes col\n",
        "    for date3, tv in cardano['total_volumes']:\n",
        "      cardano_total_volume.append(tv) \n",
        "\n",
        "    # lopping over the market_cap col to grab the UNIX date\n",
        "    for date4, x in cardano['market_caps']:\n",
        "      cardano_date.append(date4) \n",
        "\n",
        "\n",
        "    # TETHER\n",
        "    # looping over the market_caps col\n",
        "    for date1, mc in tether['market_caps']:\n",
        "      tether_market_cap.append(mc)\n",
        "\n",
        "    # looping over the prices col\n",
        "    for date2, p in tether['prices']:\n",
        "      tether_price.append(p)\n",
        "\n",
        "    # looping over the total_volumes col\n",
        "    for date3, tv in tether['total_volumes']:\n",
        "      tether_total_volume.append(tv) \n",
        "\n",
        "    # lopping over the market_cap col to grab the UNIX date\n",
        "    for date4, x in tether['market_caps']:\n",
        "      tether_date.append(date4) \n",
        "\n",
        "\n",
        "    # SOLANA\n",
        "    # looping over the market_caps col\n",
        "    for date1, mc in solana['market_caps']:\n",
        "      solana_market_cap.append(mc)\n",
        "\n",
        "    # looping over the prices col\n",
        "    for date2, p in solana['prices']:\n",
        "      solana_price.append(p)\n",
        "\n",
        "    # looping over the total_volumes col\n",
        "    for date3, tv in solana['total_volumes']:\n",
        "      solana_total_volume.append(tv) \n",
        "\n",
        "    # lopping over the market_cap col to grab the UNIX date\n",
        "    for date4, x in solana['market_caps']:\n",
        "      solana_date.append(date4) \n",
        "\n",
        "\n",
        "\n",
        "    # BITCOIN\n",
        "    # inserting the new market_cap list into the df\n",
        "    bitcoin['market_caps'] = bitcoin_market_cap\n",
        "\n",
        "    # inserting the new prices list into the df\n",
        "    bitcoin['prices'] = bitcoin_price\n",
        "\n",
        "    # inserting the new total_volumnes list into the df\n",
        "    bitcoin['total_volumes'] = bitcoin_total_volume\n",
        "\n",
        "    # inserting the date list into the df\n",
        "    bitcoin['date'] = bitcoin_date\n",
        "\n",
        "    # changing the date col from UNIX to yyyy-mm-dd\n",
        "    bitcoin['date'] = pd.to_datetime(bitcoin['date'], unit = 'ms')\n",
        "\n",
        "    # setting the date col as the index\n",
        "    bitcoin.set_index('date', inplace = True)\n",
        "\n",
        "    # renaming column headers\n",
        "    bitcoin.rename(columns={'market_caps':'bitcoin_market_cap', 'prices':'bitcoin_price', 'total_volumes':'bitcoin_total_volume'}, inplace = True)\n",
        "\n",
        "\n",
        "    # ETHEREUM\n",
        "    # inserting the new market_cap list into the df\n",
        "    ethereum['market_caps'] = ethereum_market_cap\n",
        "\n",
        "    # inserting the new prices list into the df\n",
        "    ethereum['prices'] = ethereum_price\n",
        "\n",
        "    # inserting the new total_volumnes list into the df\n",
        "    ethereum['total_volumes'] = ethereum_total_volume\n",
        "\n",
        "    # inserting the date list into the df\n",
        "    ethereum['date'] = ethereum_date\n",
        "\n",
        "    # changing the date col from UNIX to yyyy-mm-dd\n",
        "    ethereum['date'] = pd.to_datetime(ethereum['date'], unit = 'ms')\n",
        "\n",
        "    # setting the date col as the index\n",
        "    ethereum.set_index('date', inplace = True)\n",
        "\n",
        "    # renaming column headers\n",
        "    ethereum.rename(columns={'market_caps':'ethereum_market_cap', 'prices':'ethereum_price', 'total_volumes':'ethereum_total_volume'}, inplace = True)\n",
        "\n",
        "\n",
        "\n",
        "    # CARDANO\n",
        "    # inserting the new market_cap list into the df\n",
        "    cardano['market_caps'] = cardano_market_cap\n",
        "\n",
        "    # inserting the new prices list into the df\n",
        "    cardano['prices'] = cardano_price\n",
        "\n",
        "    # inserting the new total_volumnes list into the df\n",
        "    cardano['total_volumes'] = cardano_total_volume\n",
        "\n",
        "    # inserting the date list into the df\n",
        "    cardano['date'] = cardano_date\n",
        "\n",
        "    # changing the date col from UNIX to yyyy-mm-dd\n",
        "    cardano['date'] = pd.to_datetime(cardano['date'], unit = 'ms')\n",
        "\n",
        "    # setting the date col as the index\n",
        "    cardano.set_index('date', inplace = True)\n",
        "\n",
        "    # renaming column headers\n",
        "    cardano.rename(columns={'market_caps':'cardano_market_cap', 'prices':'cardano_price', 'total_volumes':'cardano_total_volume'}, inplace = True)\n",
        "\n",
        "\n",
        "    # TETHER\n",
        "    # inserting the new market_cap list into the df\n",
        "    tether['market_caps'] = tether_market_cap\n",
        "\n",
        "    # inserting the new prices list into the df\n",
        "    tether['prices'] = tether_price\n",
        "\n",
        "    # inserting the new total_volumnes list into the df\n",
        "    tether['total_volumes'] = tether_total_volume\n",
        "\n",
        "    # inserting the date list into the df\n",
        "    tether['date'] = tether_date\n",
        "\n",
        "    # changing the date col from UNIX to yyyy-mm-dd\n",
        "    tether['date'] = pd.to_datetime(tether['date'], unit = 'ms')\n",
        "\n",
        "    # setting the date col as the index\n",
        "    tether.set_index('date', inplace = True)\n",
        "\n",
        "    # renaming column headers\n",
        "    tether.rename(columns={'market_caps':'tether_market_cap', 'prices':'tether_price', 'total_volumes':'tether_total_volume'}, inplace = True)\n",
        "\n",
        "\n",
        "    # SOLANA\n",
        "    # inserting the new market_cap list into the df\n",
        "    solana['market_caps'] = solana_market_cap\n",
        "\n",
        "    # inserting the new prices list into the df\n",
        "    solana['prices'] = solana_price\n",
        "\n",
        "    # inserting the new total_volumnes list into the df\n",
        "    solana['total_volumes'] = solana_total_volume\n",
        "\n",
        "    # inserting the date list into the df\n",
        "    solana['date'] = solana_date\n",
        "\n",
        "    # changing the date col from UNIX to yyyy-mm-dd\n",
        "    solana['date'] = pd.to_datetime(solana['date'], unit = 'ms')\n",
        "\n",
        "    # setting the date col as the index\n",
        "    solana.set_index('date', inplace = True)\n",
        "\n",
        "    # renaming column headers\n",
        "    solana.rename(columns={'market_caps':'solana_market_cap', 'prices':'solana_price', 'total_volumes':'solana_total_volume'}, inplace = True)\n",
        "\n",
        "\n",
        "\n",
        "\n",
        "\n"
      ],
      "execution_count": 62,
      "outputs": []
    },
    {
      "cell_type": "code",
      "metadata": {
        "colab": {
          "base_uri": "https://localhost:8080/",
          "height": 450
        },
        "id": "vUcJZzM_gTLK",
        "outputId": "906264a8-b67a-45e9-8bb0-60e6013fa776"
      },
      "source": [
        "get_coin_data()"
      ],
      "execution_count": 63,
      "outputs": [
        {
          "output_type": "execute_result",
          "data": {
            "text/html": [
              "<div>\n",
              "<style scoped>\n",
              "    .dataframe tbody tr th:only-of-type {\n",
              "        vertical-align: middle;\n",
              "    }\n",
              "\n",
              "    .dataframe tbody tr th {\n",
              "        vertical-align: top;\n",
              "    }\n",
              "\n",
              "    .dataframe thead th {\n",
              "        text-align: right;\n",
              "    }\n",
              "</style>\n",
              "<table border=\"1\" class=\"dataframe\">\n",
              "  <thead>\n",
              "    <tr style=\"text-align: right;\">\n",
              "      <th></th>\n",
              "      <th>bitcoin_markt_cap</th>\n",
              "      <th>bitcoin_price</th>\n",
              "      <th>bitcoin_total_volume</th>\n",
              "    </tr>\n",
              "    <tr>\n",
              "      <th>date</th>\n",
              "      <th></th>\n",
              "      <th></th>\n",
              "      <th></th>\n",
              "    </tr>\n",
              "  </thead>\n",
              "  <tbody>\n",
              "    <tr>\n",
              "      <th>2020-01-01</th>\n",
              "      <td>1.303941e+11</td>\n",
              "      <td>7195.153895</td>\n",
              "      <td>2.118788e+10</td>\n",
              "    </tr>\n",
              "    <tr>\n",
              "      <th>2020-01-02</th>\n",
              "      <td>1.304230e+11</td>\n",
              "      <td>7193.754668</td>\n",
              "      <td>1.812352e+10</td>\n",
              "    </tr>\n",
              "    <tr>\n",
              "      <th>2020-01-03</th>\n",
              "      <td>1.262808e+11</td>\n",
              "      <td>6963.853354</td>\n",
              "      <td>2.031319e+10</td>\n",
              "    </tr>\n",
              "    <tr>\n",
              "      <th>2020-01-04</th>\n",
              "      <td>1.327663e+11</td>\n",
              "      <td>7300.346935</td>\n",
              "      <td>3.101578e+10</td>\n",
              "    </tr>\n",
              "    <tr>\n",
              "      <th>2020-01-05</th>\n",
              "      <td>1.334747e+11</td>\n",
              "      <td>7351.377053</td>\n",
              "      <td>2.061164e+10</td>\n",
              "    </tr>\n",
              "    <tr>\n",
              "      <th>...</th>\n",
              "      <td>...</td>\n",
              "      <td>...</td>\n",
              "      <td>...</td>\n",
              "    </tr>\n",
              "    <tr>\n",
              "      <th>2020-12-28</th>\n",
              "      <td>4.934275e+11</td>\n",
              "      <td>26423.228792</td>\n",
              "      <td>5.665498e+10</td>\n",
              "    </tr>\n",
              "    <tr>\n",
              "      <th>2020-12-29</th>\n",
              "      <td>5.037122e+11</td>\n",
              "      <td>27125.384121</td>\n",
              "      <td>4.218652e+10</td>\n",
              "    </tr>\n",
              "    <tr>\n",
              "      <th>2020-12-30</th>\n",
              "      <td>5.096803e+11</td>\n",
              "      <td>27424.538955</td>\n",
              "      <td>3.808184e+10</td>\n",
              "    </tr>\n",
              "    <tr>\n",
              "      <th>2020-12-31</th>\n",
              "      <td>5.359673e+11</td>\n",
              "      <td>28837.288529</td>\n",
              "      <td>4.334114e+10</td>\n",
              "    </tr>\n",
              "    <tr>\n",
              "      <th>2021-01-01</th>\n",
              "      <td>5.394380e+11</td>\n",
              "      <td>29022.418395</td>\n",
              "      <td>4.350352e+10</td>\n",
              "    </tr>\n",
              "  </tbody>\n",
              "</table>\n",
              "<p>367 rows × 3 columns</p>\n",
              "</div>"
            ],
            "text/plain": [
              "            bitcoin_markt_cap  bitcoin_price  bitcoin_total_volume\n",
              "date                                                              \n",
              "2020-01-01       1.303941e+11    7195.153895          2.118788e+10\n",
              "2020-01-02       1.304230e+11    7193.754668          1.812352e+10\n",
              "2020-01-03       1.262808e+11    6963.853354          2.031319e+10\n",
              "2020-01-04       1.327663e+11    7300.346935          3.101578e+10\n",
              "2020-01-05       1.334747e+11    7351.377053          2.061164e+10\n",
              "...                       ...            ...                   ...\n",
              "2020-12-28       4.934275e+11   26423.228792          5.665498e+10\n",
              "2020-12-29       5.037122e+11   27125.384121          4.218652e+10\n",
              "2020-12-30       5.096803e+11   27424.538955          3.808184e+10\n",
              "2020-12-31       5.359673e+11   28837.288529          4.334114e+10\n",
              "2021-01-01       5.394380e+11   29022.418395          4.350352e+10\n",
              "\n",
              "[367 rows x 3 columns]"
            ]
          },
          "metadata": {},
          "execution_count": 63
        }
      ]
    },
    {
      "cell_type": "code",
      "metadata": {
        "colab": {
          "base_uri": "https://localhost:8080/",
          "height": 170
        },
        "id": "0Zqr92_5jTRa",
        "outputId": "20e8ccc5-2049-4f4d-a7a0-b3e623fe98f2"
      },
      "source": [
        "coin_sample.head()"
      ],
      "execution_count": null,
      "outputs": [
        {
          "output_type": "error",
          "ename": "NameError",
          "evalue": "ignored",
          "traceback": [
            "\u001b[0;31m---------------------------------------------------------------------------\u001b[0m",
            "\u001b[0;31mNameError\u001b[0m                                 Traceback (most recent call last)",
            "\u001b[0;32m<ipython-input-33-6fd6c0337327>\u001b[0m in \u001b[0;36m<module>\u001b[0;34m()\u001b[0m\n\u001b[0;32m----> 1\u001b[0;31m \u001b[0mcoin_sample\u001b[0m\u001b[0;34m.\u001b[0m\u001b[0mhead\u001b[0m\u001b[0;34m(\u001b[0m\u001b[0;34m)\u001b[0m\u001b[0;34m\u001b[0m\u001b[0;34m\u001b[0m\u001b[0m\n\u001b[0m",
            "\u001b[0;31mNameError\u001b[0m: name 'coin_sample' is not defined"
          ]
        }
      ]
    },
    {
      "cell_type": "code",
      "metadata": {
        "id": "zlqBXikCgPm_"
      },
      "source": [
        "# putting sample data into a DataFrame\n",
        "    litecoin = pd.DataFrame(litecoin_sample, columns = ['market_caps', 'prices', 'total_volumes'])\n",
        "  \n",
        "  # looping over each col in sample_df, splitting the UNIX time stamps from each and the values\n",
        "    new_market_caps = []\n",
        "    new_prices = []\n",
        "    new_total_volumes = []\n",
        "    date = []\n",
        "\n",
        "# looping over the market_caps col\n",
        "    for date1, mc in litecoin['market_caps']:\n",
        "      new_market_caps.append(mc)\n",
        "\n",
        "# looping over the prices col\n",
        "    for date2, p in litecoin['prices']:\n",
        "      new_prices.append(p)\n",
        "\n",
        "# looping over the total_volumes col\n",
        "    for date3, tv in litecoin['total_volumes']:\n",
        "      new_total_volumes.append(tv) \n",
        "\n",
        "# lopping over the market_cap col to grab the UNIX date\n",
        "    for date4, x in litecoin['market_caps']:\n",
        "      date.append(date4)  \n",
        "  \n",
        "  # inserting the new market_cap list into the df\n",
        "    litecoin['market_caps'] = new_market_caps\n",
        "\n",
        "# inserting the new prices list into the df\n",
        "    litecoin['prices'] = new_prices\n",
        "\n",
        "# inserting the new total_volumnes list into the df\n",
        "    litecoin['total_volumes'] = new_total_volumes\n",
        "\n",
        "# inserting the date list into the df\n",
        "    litecoin['date'] = date\n",
        "\n",
        "# changing the date col from UNIX to yyyy-mm-dd\n",
        "    litecoin['date'] = pd.to_datetime(litecoin['date'], unit = 'ms')\n",
        "\n",
        "# setting the date col as the index\n",
        "    litecoin.set_index('date', inplace = True)\n",
        "  \n",
        "    litecoin.rename(columns={'market_caps':'litecoin_markt_cap', 'prices':'litecoin_price', 'total_volumes':'litecoin_total_volume'}, inplace = True)\n",
        "\n",
        "  return litecoin"
      ],
      "execution_count": null,
      "outputs": []
    },
    {
      "cell_type": "markdown",
      "metadata": {
        "id": "7B0nLI0iYk-v"
      },
      "source": [
        "#Normalizing Data"
      ]
    },
    {
      "cell_type": "code",
      "metadata": {
        "id": "CsnoB64uQskz"
      },
      "source": [
        ""
      ],
      "execution_count": null,
      "outputs": []
    }
  ]
}