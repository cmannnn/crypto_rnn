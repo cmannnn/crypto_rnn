{
  "nbformat": 4,
  "nbformat_minor": 0,
  "metadata": {
    "colab": {
      "name": "crypto_rnn.ipynb",
      "provenance": [],
      "authorship_tag": "ABX9TyNaT2JFlm0I+Kqva/rEagqt",
      "include_colab_link": true
    },
    "kernelspec": {
      "name": "python3",
      "display_name": "Python 3"
    },
    "language_info": {
      "name": "python"
    },
    "accelerator": "GPU"
  },
  "cells": [
    {
      "cell_type": "markdown",
      "metadata": {
        "id": "view-in-github",
        "colab_type": "text"
      },
      "source": [
        "<a href=\"https://colab.research.google.com/github/cmannnn/crypto_rnn/blob/main/crypto_rnn.ipynb\" target=\"_parent\"><img src=\"https://colab.research.google.com/assets/colab-badge.svg\" alt=\"Open In Colab\"/></a>"
      ]
    },
    {
      "cell_type": "markdown",
      "metadata": {
        "id": "TESSNM0r6hx-"
      },
      "source": [
        "#Crypto RNN"
      ]
    },
    {
      "cell_type": "markdown",
      "metadata": {
        "id": "FfbyqnNa6n_r"
      },
      "source": [
        "##imports"
      ]
    },
    {
      "cell_type": "code",
      "metadata": {
        "colab": {
          "base_uri": "https://localhost:8080/"
        },
        "id": "ijFiAJKktEBu",
        "outputId": "7fc16a29-0f4e-45ae-abfe-4d4d50a865db"
      },
      "source": [
        "import matplotlib.pyplot as plt\n",
        "import pandas as pd\n",
        "\n",
        "!pip install pycoingecko\n",
        "from pycoingecko import CoinGeckoAPI"
      ],
      "execution_count": 1,
      "outputs": [
        {
          "output_type": "stream",
          "name": "stdout",
          "text": [
            "Collecting pycoingecko\n",
            "  Downloading pycoingecko-2.2.0-py3-none-any.whl (8.3 kB)\n",
            "Requirement already satisfied: requests in /usr/local/lib/python3.7/dist-packages (from pycoingecko) (2.23.0)\n",
            "Requirement already satisfied: urllib3!=1.25.0,!=1.25.1,<1.26,>=1.21.1 in /usr/local/lib/python3.7/dist-packages (from requests->pycoingecko) (1.24.3)\n",
            "Requirement already satisfied: certifi>=2017.4.17 in /usr/local/lib/python3.7/dist-packages (from requests->pycoingecko) (2021.5.30)\n",
            "Requirement already satisfied: idna<3,>=2.5 in /usr/local/lib/python3.7/dist-packages (from requests->pycoingecko) (2.10)\n",
            "Requirement already satisfied: chardet<4,>=3.0.2 in /usr/local/lib/python3.7/dist-packages (from requests->pycoingecko) (3.0.4)\n",
            "Installing collected packages: pycoingecko\n",
            "Successfully installed pycoingecko-2.2.0\n"
          ]
        }
      ]
    },
    {
      "cell_type": "code",
      "metadata": {
        "id": "LTi3Rsna6m5B"
      },
      "source": [
        "# initializing CoinGeckoAPI\n",
        "cg = CoinGeckoAPI()"
      ],
      "execution_count": 2,
      "outputs": []
    },
    {
      "cell_type": "code",
      "metadata": {
        "colab": {
          "base_uri": "https://localhost:8080/"
        },
        "id": "Z5GJKyho7RwO",
        "outputId": "664a4fc7-eaf0-49dd-d0c5-3fb533ff1f71"
      },
      "source": [
        "# checking status of the API\n",
        "cg.ping()"
      ],
      "execution_count": 3,
      "outputs": [
        {
          "output_type": "execute_result",
          "data": {
            "text/plain": [
              "{'gecko_says': '(V3) To the Moon!'}"
            ]
          },
          "metadata": {},
          "execution_count": 3
        }
      ]
    },
    {
      "cell_type": "code",
      "metadata": {
        "id": "0YxrVXdZ87hR",
        "colab": {
          "base_uri": "https://localhost:8080/"
        },
        "outputId": "53bb97c7-3758-4249-f237-383d965d99c6"
      },
      "source": [
        "# which coins are currently trending?\n",
        "cg.get_search_trending()"
      ],
      "execution_count": 4,
      "outputs": [
        {
          "output_type": "execute_result",
          "data": {
            "text/plain": [
              "{'coins': [{'item': {'coin_id': 6111,\n",
              "    'id': 'taboo-token',\n",
              "    'large': 'https://assets.coingecko.com/coins/images/6111/large/taboo.PNG?1624500776',\n",
              "    'market_cap_rank': 452,\n",
              "    'name': 'Taboo Token',\n",
              "    'price_btc': 1.6689989573029442e-07,\n",
              "    'score': 0,\n",
              "    'slug': 'taboo-token',\n",
              "    'small': 'https://assets.coingecko.com/coins/images/6111/small/taboo.PNG?1624500776',\n",
              "    'symbol': 'TABOO',\n",
              "    'thumb': 'https://assets.coingecko.com/coins/images/6111/thumb/taboo.PNG?1624500776'}},\n",
              "  {'item': {'coin_id': 14465,\n",
              "    'id': 'cellframe',\n",
              "    'large': 'https://assets.coingecko.com/coins/images/14465/large/cellframe_logo.png?1616333567',\n",
              "    'market_cap_rank': 869,\n",
              "    'name': 'Cellframe',\n",
              "    'price_btc': 1.598347540856734e-05,\n",
              "    'score': 1,\n",
              "    'slug': 'cellframe',\n",
              "    'small': 'https://assets.coingecko.com/coins/images/14465/small/cellframe_logo.png?1616333567',\n",
              "    'symbol': 'CELL',\n",
              "    'thumb': 'https://assets.coingecko.com/coins/images/14465/thumb/cellframe_logo.png?1616333567'}},\n",
              "  {'item': {'coin_id': 17461,\n",
              "    'id': 'plant-vs-undead-token',\n",
              "    'large': 'https://assets.coingecko.com/coins/images/17461/large/token-200x200.png?1627883446',\n",
              "    'market_cap_rank': 753,\n",
              "    'name': 'Plant vs Undead Token',\n",
              "    'price_btc': 3.5027924527552336e-05,\n",
              "    'score': 2,\n",
              "    'slug': 'plant-vs-undead-token',\n",
              "    'small': 'https://assets.coingecko.com/coins/images/17461/small/token-200x200.png?1627883446',\n",
              "    'symbol': 'PVU',\n",
              "    'thumb': 'https://assets.coingecko.com/coins/images/17461/thumb/token-200x200.png?1627883446'}},\n",
              "  {'item': {'coin_id': 10366,\n",
              "    'id': 'smooth-love-potion',\n",
              "    'large': 'https://assets.coingecko.com/coins/images/10366/large/SLP.png?1578640057',\n",
              "    'market_cap_rank': 316,\n",
              "    'name': 'Smooth Love Potion',\n",
              "    'price_btc': 1.3806181372040212e-06,\n",
              "    'score': 3,\n",
              "    'slug': 'smooth-love-potion',\n",
              "    'small': 'https://assets.coingecko.com/coins/images/10366/small/SLP.png?1578640057',\n",
              "    'symbol': 'SLP',\n",
              "    'thumb': 'https://assets.coingecko.com/coins/images/10366/thumb/SLP.png?1578640057'}},\n",
              "  {'item': {'coin_id': 18816,\n",
              "    'id': 'astroswap',\n",
              "    'large': 'https://assets.coingecko.com/coins/images/18816/large/astro.png?1633506850',\n",
              "    'market_cap_rank': 450,\n",
              "    'name': 'AstroSwap',\n",
              "    'price_btc': 6.81208413682193e-06,\n",
              "    'score': 4,\n",
              "    'slug': 'astroswap',\n",
              "    'small': 'https://assets.coingecko.com/coins/images/18816/small/astro.png?1633506850',\n",
              "    'symbol': 'ASTRO',\n",
              "    'thumb': 'https://assets.coingecko.com/coins/images/18816/thumb/astro.png?1633506850'}},\n",
              "  {'item': {'coin_id': 11939,\n",
              "    'id': 'shiba-inu',\n",
              "    'large': 'https://assets.coingecko.com/coins/images/11939/large/shiba.png?1622619446',\n",
              "    'market_cap_rank': 12,\n",
              "    'name': 'Shiba Inu',\n",
              "    'price_btc': 4.766935033967181e-10,\n",
              "    'score': 5,\n",
              "    'slug': 'shiba-inu',\n",
              "    'small': 'https://assets.coingecko.com/coins/images/11939/small/shiba.png?1622619446',\n",
              "    'symbol': 'SHIB',\n",
              "    'thumb': 'https://assets.coingecko.com/coins/images/11939/thumb/shiba.png?1622619446'}},\n",
              "  {'item': {'coin_id': 13744,\n",
              "    'id': 'polkabridge',\n",
              "    'large': 'https://assets.coingecko.com/coins/images/13744/large/symbol-whitebg200x200.png?1611377553',\n",
              "    'market_cap_rank': 918,\n",
              "    'name': 'PolkaBridge',\n",
              "    'price_btc': 9.247019912366623e-06,\n",
              "    'score': 6,\n",
              "    'slug': 'polkabridge',\n",
              "    'small': 'https://assets.coingecko.com/coins/images/13744/small/symbol-whitebg200x200.png?1611377553',\n",
              "    'symbol': 'PBR',\n",
              "    'thumb': 'https://assets.coingecko.com/coins/images/13744/thumb/symbol-whitebg200x200.png?1611377553'}}],\n",
              " 'exchanges': []}"
            ]
          },
          "metadata": {},
          "execution_count": 4
        }
      ]
    },
    {
      "cell_type": "code",
      "metadata": {
        "colab": {
          "base_uri": "https://localhost:8080/"
        },
        "id": "MosmQzUlNPkq",
        "outputId": "101a8a24-db0c-40ed-fa69-c8231415a88c"
      },
      "source": [
        "# testing to retrieve current bitcoin price\n",
        "cg.get_price(ids ='bitcoin', vs_currencies = 'usd')"
      ],
      "execution_count": 5,
      "outputs": [
        {
          "output_type": "execute_result",
          "data": {
            "text/plain": [
              "{'bitcoin': {'usd': 57760}}"
            ]
          },
          "metadata": {},
          "execution_count": 5
        }
      ]
    },
    {
      "cell_type": "code",
      "metadata": {
        "id": "tnYOGErvPPhP"
      },
      "source": [
        "# getting the price of bitcoin from 01/01/2020 -> 01/01/2021\n",
        "sample_data = cg.get_coin_market_chart_range_by_id(id = 'bitcoin', vs_currency = 'usd', from_timestamp = '1577854800', to_timestamp = '1609477200')"
      ],
      "execution_count": 6,
      "outputs": []
    },
    {
      "cell_type": "code",
      "metadata": {
        "id": "RgT01QmkwpxV"
      },
      "source": [
        "# putting sample data into a DataFrame\n",
        "sample_df = pd.DataFrame(sample_data, columns = ['market_caps', 'prices', 'total_volumes'])"
      ],
      "execution_count": 7,
      "outputs": []
    },
    {
      "cell_type": "code",
      "metadata": {
        "colab": {
          "base_uri": "https://localhost:8080/",
          "height": 204
        },
        "id": "isheOl4MAMpG",
        "outputId": "c9315f38-915b-4d90-9f24-758d0a40b89a"
      },
      "source": [
        "sample_df.head()"
      ],
      "execution_count": 8,
      "outputs": [
        {
          "output_type": "execute_result",
          "data": {
            "text/html": [
              "<div>\n",
              "<style scoped>\n",
              "    .dataframe tbody tr th:only-of-type {\n",
              "        vertical-align: middle;\n",
              "    }\n",
              "\n",
              "    .dataframe tbody tr th {\n",
              "        vertical-align: top;\n",
              "    }\n",
              "\n",
              "    .dataframe thead th {\n",
              "        text-align: right;\n",
              "    }\n",
              "</style>\n",
              "<table border=\"1\" class=\"dataframe\">\n",
              "  <thead>\n",
              "    <tr style=\"text-align: right;\">\n",
              "      <th></th>\n",
              "      <th>market_caps</th>\n",
              "      <th>prices</th>\n",
              "      <th>total_volumes</th>\n",
              "    </tr>\n",
              "  </thead>\n",
              "  <tbody>\n",
              "    <tr>\n",
              "      <th>0</th>\n",
              "      <td>[1577923200000, 130422953817.668]</td>\n",
              "      <td>[1577923200000, 7193.7546679601]</td>\n",
              "      <td>[1577923200000, 18123516838.8979]</td>\n",
              "    </tr>\n",
              "    <tr>\n",
              "      <th>1</th>\n",
              "      <td>[1578009600000, 126280790200.20206]</td>\n",
              "      <td>[1578009600000, 6963.853353983485]</td>\n",
              "      <td>[1578009600000, 20313194628.09452]</td>\n",
              "    </tr>\n",
              "    <tr>\n",
              "      <th>2</th>\n",
              "      <td>[1578096000000, 132766262579.09486]</td>\n",
              "      <td>[1578096000000, 7300.34693530511]</td>\n",
              "      <td>[1578096000000, 31015776262.21867]</td>\n",
              "    </tr>\n",
              "    <tr>\n",
              "      <th>3</th>\n",
              "      <td>[1578182400000, 133474716218.18333]</td>\n",
              "      <td>[1578182400000, 7351.377053166627]</td>\n",
              "      <td>[1578182400000, 20611640058.34164]</td>\n",
              "    </tr>\n",
              "    <tr>\n",
              "      <th>4</th>\n",
              "      <td>[1578268800000, 133388991086.87987]</td>\n",
              "      <td>[1578268800000, 7349.972248050628]</td>\n",
              "      <td>[1578268800000, 21929224570.56102]</td>\n",
              "    </tr>\n",
              "  </tbody>\n",
              "</table>\n",
              "</div>"
            ],
            "text/plain": [
              "                           market_caps  ...                       total_volumes\n",
              "0    [1577923200000, 130422953817.668]  ...   [1577923200000, 18123516838.8979]\n",
              "1  [1578009600000, 126280790200.20206]  ...  [1578009600000, 20313194628.09452]\n",
              "2  [1578096000000, 132766262579.09486]  ...  [1578096000000, 31015776262.21867]\n",
              "3  [1578182400000, 133474716218.18333]  ...  [1578182400000, 20611640058.34164]\n",
              "4  [1578268800000, 133388991086.87987]  ...  [1578268800000, 21929224570.56102]\n",
              "\n",
              "[5 rows x 3 columns]"
            ]
          },
          "metadata": {},
          "execution_count": 8
        }
      ]
    },
    {
      "cell_type": "code",
      "metadata": {
        "colab": {
          "base_uri": "https://localhost:8080/"
        },
        "id": "XGZPqXEhQFub",
        "outputId": "ce754a7f-820f-4083-f2a6-b67bde0ccc6b"
      },
      "source": [
        "# checking market_caps column\n",
        "sample_df['market_caps']"
      ],
      "execution_count": 9,
      "outputs": [
        {
          "output_type": "execute_result",
          "data": {
            "text/plain": [
              "0        [1577923200000, 130422953817.668]\n",
              "1      [1578009600000, 126280790200.20206]\n",
              "2      [1578096000000, 132766262579.09486]\n",
              "3      [1578182400000, 133474716218.18333]\n",
              "4      [1578268800000, 133388991086.87987]\n",
              "                      ...                 \n",
              "361    [1609113600000, 493427450341.26013]\n",
              "362     [1609200000000, 503712223153.6673]\n",
              "363     [1609286400000, 509680257177.0481]\n",
              "364    [1609372800000, 535967306917.84125]\n",
              "365     [1609459200000, 539438036435.6701]\n",
              "Name: market_caps, Length: 366, dtype: object"
            ]
          },
          "metadata": {},
          "execution_count": 9
        }
      ]
    },
    {
      "cell_type": "code",
      "metadata": {
        "id": "e2YTRXyvRuRc"
      },
      "source": [
        "# spliting market_caps col to remove timestamp\n",
        "sample_df['date'] = sample_df['market_caps'].str.split(', ')"
      ],
      "execution_count": 10,
      "outputs": []
    },
    {
      "cell_type": "code",
      "metadata": {
        "id": "Z4_H30CySBYi"
      },
      "source": [
        ""
      ],
      "execution_count": 11,
      "outputs": []
    },
    {
      "cell_type": "code",
      "metadata": {
        "id": "UPz8m4OqScTr"
      },
      "source": [
        "new_market_caps = []\n",
        "new_prices = []\n",
        "new_total_volumes = []\n",
        "\n",
        "\n",
        "for date, mc in sample_df['market_caps']:\n",
        "  #for new_item in item:\n",
        "  new_market_caps.append(mc)"
      ],
      "execution_count": 12,
      "outputs": []
    },
    {
      "cell_type": "code",
      "metadata": {
        "id": "6xCev8t_TMdB",
        "colab": {
          "base_uri": "https://localhost:8080/"
        },
        "outputId": "1391df9b-bb26-4424-ec96-c5483f0044de"
      },
      "source": [
        "new_sample_list[0:5]"
      ],
      "execution_count": 13,
      "outputs": [
        {
          "output_type": "execute_result",
          "data": {
            "text/plain": [
              "[130422953817.668,\n",
              " 126280790200.20206,\n",
              " 132766262579.09486,\n",
              " 133474716218.18333,\n",
              " 133388991086.87987]"
            ]
          },
          "metadata": {},
          "execution_count": 13
        }
      ]
    },
    {
      "cell_type": "code",
      "metadata": {
        "colab": {
          "base_uri": "https://localhost:8080/",
          "height": 204
        },
        "id": "QLHrVliaCW_4",
        "outputId": "fa27a108-3228-4961-a1fb-2b2c136f2f91"
      },
      "source": [
        "sample_df.head()"
      ],
      "execution_count": 14,
      "outputs": [
        {
          "output_type": "execute_result",
          "data": {
            "text/html": [
              "<div>\n",
              "<style scoped>\n",
              "    .dataframe tbody tr th:only-of-type {\n",
              "        vertical-align: middle;\n",
              "    }\n",
              "\n",
              "    .dataframe tbody tr th {\n",
              "        vertical-align: top;\n",
              "    }\n",
              "\n",
              "    .dataframe thead th {\n",
              "        text-align: right;\n",
              "    }\n",
              "</style>\n",
              "<table border=\"1\" class=\"dataframe\">\n",
              "  <thead>\n",
              "    <tr style=\"text-align: right;\">\n",
              "      <th></th>\n",
              "      <th>market_caps</th>\n",
              "      <th>prices</th>\n",
              "      <th>total_volumes</th>\n",
              "      <th>date</th>\n",
              "    </tr>\n",
              "  </thead>\n",
              "  <tbody>\n",
              "    <tr>\n",
              "      <th>0</th>\n",
              "      <td>[1577923200000, 130422953817.668]</td>\n",
              "      <td>[1577923200000, 7193.7546679601]</td>\n",
              "      <td>[1577923200000, 18123516838.8979]</td>\n",
              "      <td>NaN</td>\n",
              "    </tr>\n",
              "    <tr>\n",
              "      <th>1</th>\n",
              "      <td>[1578009600000, 126280790200.20206]</td>\n",
              "      <td>[1578009600000, 6963.853353983485]</td>\n",
              "      <td>[1578009600000, 20313194628.09452]</td>\n",
              "      <td>NaN</td>\n",
              "    </tr>\n",
              "    <tr>\n",
              "      <th>2</th>\n",
              "      <td>[1578096000000, 132766262579.09486]</td>\n",
              "      <td>[1578096000000, 7300.34693530511]</td>\n",
              "      <td>[1578096000000, 31015776262.21867]</td>\n",
              "      <td>NaN</td>\n",
              "    </tr>\n",
              "    <tr>\n",
              "      <th>3</th>\n",
              "      <td>[1578182400000, 133474716218.18333]</td>\n",
              "      <td>[1578182400000, 7351.377053166627]</td>\n",
              "      <td>[1578182400000, 20611640058.34164]</td>\n",
              "      <td>NaN</td>\n",
              "    </tr>\n",
              "    <tr>\n",
              "      <th>4</th>\n",
              "      <td>[1578268800000, 133388991086.87987]</td>\n",
              "      <td>[1578268800000, 7349.972248050628]</td>\n",
              "      <td>[1578268800000, 21929224570.56102]</td>\n",
              "      <td>NaN</td>\n",
              "    </tr>\n",
              "  </tbody>\n",
              "</table>\n",
              "</div>"
            ],
            "text/plain": [
              "                           market_caps  ... date\n",
              "0    [1577923200000, 130422953817.668]  ...  NaN\n",
              "1  [1578009600000, 126280790200.20206]  ...  NaN\n",
              "2  [1578096000000, 132766262579.09486]  ...  NaN\n",
              "3  [1578182400000, 133474716218.18333]  ...  NaN\n",
              "4  [1578268800000, 133388991086.87987]  ...  NaN\n",
              "\n",
              "[5 rows x 4 columns]"
            ]
          },
          "metadata": {},
          "execution_count": 14
        }
      ]
    },
    {
      "cell_type": "code",
      "metadata": {
        "id": "PR19ywyI2GwR"
      },
      "source": [
        "sample_df['market_caps'] = sample_df['market_caps'] = new_sample_list"
      ],
      "execution_count": 16,
      "outputs": []
    },
    {
      "cell_type": "code",
      "metadata": {
        "colab": {
          "base_uri": "https://localhost:8080/",
          "height": 204
        },
        "id": "N_ARjA0XBu07",
        "outputId": "97fd5973-0587-4bbb-8419-e69ea93255bf"
      },
      "source": [
        "sample_df.head()"
      ],
      "execution_count": 17,
      "outputs": [
        {
          "output_type": "execute_result",
          "data": {
            "text/html": [
              "<div>\n",
              "<style scoped>\n",
              "    .dataframe tbody tr th:only-of-type {\n",
              "        vertical-align: middle;\n",
              "    }\n",
              "\n",
              "    .dataframe tbody tr th {\n",
              "        vertical-align: top;\n",
              "    }\n",
              "\n",
              "    .dataframe thead th {\n",
              "        text-align: right;\n",
              "    }\n",
              "</style>\n",
              "<table border=\"1\" class=\"dataframe\">\n",
              "  <thead>\n",
              "    <tr style=\"text-align: right;\">\n",
              "      <th></th>\n",
              "      <th>market_caps</th>\n",
              "      <th>prices</th>\n",
              "      <th>total_volumes</th>\n",
              "      <th>date</th>\n",
              "    </tr>\n",
              "  </thead>\n",
              "  <tbody>\n",
              "    <tr>\n",
              "      <th>0</th>\n",
              "      <td>1.304230e+11</td>\n",
              "      <td>[1577923200000, 7193.7546679601]</td>\n",
              "      <td>[1577923200000, 18123516838.8979]</td>\n",
              "      <td>NaN</td>\n",
              "    </tr>\n",
              "    <tr>\n",
              "      <th>1</th>\n",
              "      <td>1.262808e+11</td>\n",
              "      <td>[1578009600000, 6963.853353983485]</td>\n",
              "      <td>[1578009600000, 20313194628.09452]</td>\n",
              "      <td>NaN</td>\n",
              "    </tr>\n",
              "    <tr>\n",
              "      <th>2</th>\n",
              "      <td>1.327663e+11</td>\n",
              "      <td>[1578096000000, 7300.34693530511]</td>\n",
              "      <td>[1578096000000, 31015776262.21867]</td>\n",
              "      <td>NaN</td>\n",
              "    </tr>\n",
              "    <tr>\n",
              "      <th>3</th>\n",
              "      <td>1.334747e+11</td>\n",
              "      <td>[1578182400000, 7351.377053166627]</td>\n",
              "      <td>[1578182400000, 20611640058.34164]</td>\n",
              "      <td>NaN</td>\n",
              "    </tr>\n",
              "    <tr>\n",
              "      <th>4</th>\n",
              "      <td>1.333890e+11</td>\n",
              "      <td>[1578268800000, 7349.972248050628]</td>\n",
              "      <td>[1578268800000, 21929224570.56102]</td>\n",
              "      <td>NaN</td>\n",
              "    </tr>\n",
              "  </tbody>\n",
              "</table>\n",
              "</div>"
            ],
            "text/plain": [
              "    market_caps  ... date\n",
              "0  1.304230e+11  ...  NaN\n",
              "1  1.262808e+11  ...  NaN\n",
              "2  1.327663e+11  ...  NaN\n",
              "3  1.334747e+11  ...  NaN\n",
              "4  1.333890e+11  ...  NaN\n",
              "\n",
              "[5 rows x 4 columns]"
            ]
          },
          "metadata": {},
          "execution_count": 17
        }
      ]
    },
    {
      "cell_type": "code",
      "metadata": {
        "colab": {
          "base_uri": "https://localhost:8080/"
        },
        "id": "6MxLWWGO6Zdn",
        "outputId": "d2c2e7ee-4990-444f-bfd7-13339e126728"
      },
      "source": [
        "for i in c:\n",
        "  print(i)"
      ],
      "execution_count": null,
      "outputs": [
        {
          "output_type": "stream",
          "name": "stdout",
          "text": [
            "539438036435.6701\n"
          ]
        }
      ]
    },
    {
      "cell_type": "code",
      "metadata": {
        "id": "Ya3-dkj3ic5W"
      },
      "source": [
        "col_names = ['market_caps', 'prices', 'total_volumes']"
      ],
      "execution_count": null,
      "outputs": []
    },
    {
      "cell_type": "code",
      "metadata": {
        "id": "ucb7iBMroTMv"
      },
      "source": [
        "print(market_caps.values)"
      ],
      "execution_count": null,
      "outputs": []
    },
    {
      "cell_type": "code",
      "metadata": {
        "id": "_bJoFKFNTaUc"
      },
      "source": [
        "# price every day starting 01-01-2020"
      ],
      "execution_count": null,
      "outputs": []
    },
    {
      "cell_type": "code",
      "metadata": {
        "id": "PEV9De4oPwII"
      },
      "source": [
        "data = cg.get_coin_history_by_id(id = 'bitcoin', date ='10-11-2020', localization = 'false') "
      ],
      "execution_count": null,
      "outputs": []
    },
    {
      "cell_type": "code",
      "metadata": {
        "id": "CsnoB64uQskz"
      },
      "source": [
        ""
      ],
      "execution_count": null,
      "outputs": []
    }
  ]
}