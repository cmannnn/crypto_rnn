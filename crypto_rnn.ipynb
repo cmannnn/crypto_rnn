{
  "nbformat": 4,
  "nbformat_minor": 0,
  "metadata": {
    "colab": {
      "name": "crypto_rnn.ipynb",
      "provenance": [],
      "authorship_tag": "ABX9TyM8xT1bSsam5XqvbjhwmIrc",
      "include_colab_link": true
    },
    "kernelspec": {
      "name": "python3",
      "display_name": "Python 3"
    },
    "language_info": {
      "name": "python"
    },
    "accelerator": "GPU"
  },
  "cells": [
    {
      "cell_type": "markdown",
      "metadata": {
        "id": "view-in-github",
        "colab_type": "text"
      },
      "source": [
        "<a href=\"https://colab.research.google.com/github/cmannnn/crypto_rnn/blob/main/crypto_rnn.ipynb\" target=\"_parent\"><img src=\"https://colab.research.google.com/assets/colab-badge.svg\" alt=\"Open In Colab\"/></a>"
      ]
    },
    {
      "cell_type": "markdown",
      "metadata": {
        "id": "TESSNM0r6hx-"
      },
      "source": [
        "#Crypto RNN"
      ]
    },
    {
      "cell_type": "markdown",
      "metadata": {
        "id": "FfbyqnNa6n_r"
      },
      "source": [
        "##imports"
      ]
    },
    {
      "cell_type": "code",
      "metadata": {
        "colab": {
          "base_uri": "https://localhost:8080/"
        },
        "id": "ijFiAJKktEBu",
        "outputId": "c13011eb-a9b7-4e1c-d654-8c7e4652ad4d"
      },
      "source": [
        "import matplotlib.pyplot as plt\n",
        "import pandas as pd\n",
        "\n",
        "!pip install pycoingecko\n",
        "from pycoingecko import CoinGeckoAPI"
      ],
      "execution_count": 1,
      "outputs": [
        {
          "output_type": "stream",
          "name": "stdout",
          "text": [
            "Collecting pycoingecko\n",
            "  Downloading pycoingecko-2.2.0-py3-none-any.whl (8.3 kB)\n",
            "Requirement already satisfied: requests in /usr/local/lib/python3.7/dist-packages (from pycoingecko) (2.23.0)\n",
            "Requirement already satisfied: idna<3,>=2.5 in /usr/local/lib/python3.7/dist-packages (from requests->pycoingecko) (2.10)\n",
            "Requirement already satisfied: chardet<4,>=3.0.2 in /usr/local/lib/python3.7/dist-packages (from requests->pycoingecko) (3.0.4)\n",
            "Requirement already satisfied: certifi>=2017.4.17 in /usr/local/lib/python3.7/dist-packages (from requests->pycoingecko) (2021.5.30)\n",
            "Requirement already satisfied: urllib3!=1.25.0,!=1.25.1,<1.26,>=1.21.1 in /usr/local/lib/python3.7/dist-packages (from requests->pycoingecko) (1.24.3)\n",
            "Installing collected packages: pycoingecko\n",
            "Successfully installed pycoingecko-2.2.0\n"
          ]
        }
      ]
    },
    {
      "cell_type": "code",
      "metadata": {
        "id": "LTi3Rsna6m5B"
      },
      "source": [
        "# initializing CoinGeckoAPI\n",
        "cg = CoinGeckoAPI()"
      ],
      "execution_count": 2,
      "outputs": []
    },
    {
      "cell_type": "code",
      "metadata": {
        "colab": {
          "base_uri": "https://localhost:8080/"
        },
        "id": "Z5GJKyho7RwO",
        "outputId": "f4da5c64-3678-42ad-9818-d91328e9c55d"
      },
      "source": [
        "# checking status of the API\n",
        "cg.ping()"
      ],
      "execution_count": 3,
      "outputs": [
        {
          "output_type": "execute_result",
          "data": {
            "text/plain": [
              "{'gecko_says': '(V3) To the Moon!'}"
            ]
          },
          "metadata": {},
          "execution_count": 3
        }
      ]
    },
    {
      "cell_type": "code",
      "metadata": {
        "id": "0YxrVXdZ87hR",
        "colab": {
          "base_uri": "https://localhost:8080/"
        },
        "outputId": "29e04977-fed9-4748-ce81-a7e40816b989"
      },
      "source": [
        "# which coins are currently trending?\n",
        "cg.get_search_trending()"
      ],
      "execution_count": 4,
      "outputs": [
        {
          "output_type": "execute_result",
          "data": {
            "text/plain": [
              "{'coins': [{'item': {'coin_id': 8251,\n",
              "    'id': 'ferrum-network',\n",
              "    'large': 'https://assets.coingecko.com/coins/images/8251/large/frm.png?1563777564',\n",
              "    'market_cap_rank': 751,\n",
              "    'name': 'Ferrum Network',\n",
              "    'price_btc': 4.629702327166938e-06,\n",
              "    'score': 0,\n",
              "    'slug': 'ferrum-network',\n",
              "    'small': 'https://assets.coingecko.com/coins/images/8251/small/frm.png?1563777564',\n",
              "    'symbol': 'FRM',\n",
              "    'thumb': 'https://assets.coingecko.com/coins/images/8251/thumb/frm.png?1563777564'}},\n",
              "  {'item': {'coin_id': 17984,\n",
              "    'id': 'moonriver',\n",
              "    'large': 'https://assets.coingecko.com/coins/images/17984/large/9285.png?1630028620',\n",
              "    'market_cap_rank': 124,\n",
              "    'name': 'Moonriver',\n",
              "    'price_btc': 0.0065553351759793065,\n",
              "    'score': 1,\n",
              "    'slug': 'moonriver',\n",
              "    'small': 'https://assets.coingecko.com/coins/images/17984/small/9285.png?1630028620',\n",
              "    'symbol': 'MOVR',\n",
              "    'thumb': 'https://assets.coingecko.com/coins/images/17984/thumb/9285.png?1630028620'}},\n",
              "  {'item': {'coin_id': 4001,\n",
              "    'id': 'fantom',\n",
              "    'large': 'https://assets.coingecko.com/coins/images/4001/large/Fantom.png?1558015016',\n",
              "    'market_cap_rank': 34,\n",
              "    'name': 'Fantom',\n",
              "    'price_btc': 4.2609336254948613e-05,\n",
              "    'score': 2,\n",
              "    'slug': 'fantom',\n",
              "    'small': 'https://assets.coingecko.com/coins/images/4001/small/Fantom.png?1558015016',\n",
              "    'symbol': 'FTM',\n",
              "    'thumb': 'https://assets.coingecko.com/coins/images/4001/thumb/Fantom.png?1558015016'}},\n",
              "  {'item': {'coin_id': 18396,\n",
              "    'id': 'monsta-infinite',\n",
              "    'large': 'https://assets.coingecko.com/coins/images/18396/large/moni.png?1631763118',\n",
              "    'market_cap_rank': 696,\n",
              "    'name': 'Monsta Infinite',\n",
              "    'price_btc': 4.625828781666108e-05,\n",
              "    'score': 3,\n",
              "    'slug': 'monsta-infinite',\n",
              "    'small': 'https://assets.coingecko.com/coins/images/18396/small/moni.png?1631763118',\n",
              "    'symbol': 'MONI',\n",
              "    'thumb': 'https://assets.coingecko.com/coins/images/18396/thumb/moni.png?1631763118'}},\n",
              "  {'item': {'coin_id': 4128,\n",
              "    'id': 'solana',\n",
              "    'large': 'https://assets.coingecko.com/coins/images/4128/large/coinmarketcap-solana-200.png?1616489452',\n",
              "    'market_cap_rank': 6,\n",
              "    'name': 'Solana',\n",
              "    'price_btc': 0.0032209242321504725,\n",
              "    'score': 4,\n",
              "    'slug': 'solana',\n",
              "    'small': 'https://assets.coingecko.com/coins/images/4128/small/coinmarketcap-solana-200.png?1616489452',\n",
              "    'symbol': 'SOL',\n",
              "    'thumb': 'https://assets.coingecko.com/coins/images/4128/thumb/coinmarketcap-solana-200.png?1616489452'}},\n",
              "  {'item': {'coin_id': 16801,\n",
              "    'id': 'ufo-gaming',\n",
              "    'large': 'https://assets.coingecko.com/coins/images/16801/large/ufo_logo.jpg?1630078847',\n",
              "    'market_cap_rank': 253,\n",
              "    'name': 'UFO Gaming',\n",
              "    'price_btc': 1.6832512582037553e-10,\n",
              "    'score': 5,\n",
              "    'slug': 'ufo-gaming',\n",
              "    'small': 'https://assets.coingecko.com/coins/images/16801/small/ufo_logo.jpg?1630078847',\n",
              "    'symbol': 'UFO',\n",
              "    'thumb': 'https://assets.coingecko.com/coins/images/16801/thumb/ufo_logo.jpg?1630078847'}},\n",
              "  {'item': {'coin_id': 825,\n",
              "    'id': 'binancecoin',\n",
              "    'large': 'https://assets.coingecko.com/coins/images/825/large/binance-coin-logo.png?1547034615',\n",
              "    'market_cap_rank': 3,\n",
              "    'name': 'Binance Coin',\n",
              "    'price_btc': 0.00789370569355833,\n",
              "    'score': 6,\n",
              "    'slug': 'binance-coin',\n",
              "    'small': 'https://assets.coingecko.com/coins/images/825/small/binance-coin-logo.png?1547034615',\n",
              "    'symbol': 'BNB',\n",
              "    'thumb': 'https://assets.coingecko.com/coins/images/825/thumb/binance-coin-logo.png?1547034615'}}],\n",
              " 'exchanges': []}"
            ]
          },
          "metadata": {},
          "execution_count": 4
        }
      ]
    },
    {
      "cell_type": "code",
      "metadata": {
        "colab": {
          "base_uri": "https://localhost:8080/"
        },
        "id": "MosmQzUlNPkq",
        "outputId": "db0e19e2-c7fe-41b9-9150-7c54287da403"
      },
      "source": [
        "# testing to retrieve current bitcoin price\n",
        "cg.get_price(ids ='bitcoin', vs_currencies = 'usd')"
      ],
      "execution_count": 5,
      "outputs": [
        {
          "output_type": "execute_result",
          "data": {
            "text/plain": [
              "{'bitcoin': {'usd': 60772}}"
            ]
          },
          "metadata": {},
          "execution_count": 5
        }
      ]
    },
    {
      "cell_type": "code",
      "metadata": {
        "colab": {
          "base_uri": "https://localhost:8080/"
        },
        "id": "4n1PP6Go-6ZM",
        "outputId": "f4c46d18-7aa4-40b7-eaa6-04914a59fbc9"
      },
      "source": [
        "# testing to retrieve current bitcoin price\n",
        "cg.get_price(ids ='solana', vs_currencies = 'usd')"
      ],
      "execution_count": 6,
      "outputs": [
        {
          "output_type": "execute_result",
          "data": {
            "text/plain": [
              "{'solana': {'usd': 195.8}}"
            ]
          },
          "metadata": {},
          "execution_count": 6
        }
      ]
    },
    {
      "cell_type": "markdown",
      "metadata": {
        "id": "zz6Jl6k7Zd6t"
      },
      "source": [
        "# Getting Bitcoin Data"
      ]
    },
    {
      "cell_type": "code",
      "metadata": {
        "id": "4w7I9s_S-4Dl"
      },
      "source": [
        "#coins = ('bitcoin', 'ethereum', 'cardano', 'tether', 'solana')"
      ],
      "execution_count": 7,
      "outputs": []
    },
    {
      "cell_type": "code",
      "metadata": {
        "id": "qZ_gYnyT8h6c"
      },
      "source": [
        "coin_df = pd.DataFrame()"
      ],
      "execution_count": 8,
      "outputs": []
    },
    {
      "cell_type": "code",
      "metadata": {
        "id": "ONtuTSl3A9kG"
      },
      "source": [
        "def coin_prices():\n",
        "  bitcoin_test = cg.get_coin_market_chart_range_by_id(id = 'bitcoin', vs_currency = 'usd', from_timestamp = '1577768400', to_timestamp = '1609477200')\n",
        "  coin_df.insert(bitcoin_test, columns = ['market_caps', 'prices', 'total_volumes'])\n",
        "  return coin_df"
      ],
      "execution_count": 11,
      "outputs": []
    },
    {
      "cell_type": "code",
      "metadata": {
        "id": "R2ZjZm5VBsJY",
        "colab": {
          "base_uri": "https://localhost:8080/",
          "height": 296
        },
        "outputId": "10abab3e-8740-49a3-dfc5-2ad45b3900cd"
      },
      "source": [
        "coin_prices()"
      ],
      "execution_count": 12,
      "outputs": [
        {
          "output_type": "error",
          "ename": "TypeError",
          "evalue": "ignored",
          "traceback": [
            "\u001b[0;31m---------------------------------------------------------------------------\u001b[0m",
            "\u001b[0;31mTypeError\u001b[0m                                 Traceback (most recent call last)",
            "\u001b[0;32m<ipython-input-12-f1fe1fc4fb62>\u001b[0m in \u001b[0;36m<module>\u001b[0;34m()\u001b[0m\n\u001b[0;32m----> 1\u001b[0;31m \u001b[0mcoin_prices\u001b[0m\u001b[0;34m(\u001b[0m\u001b[0;34m)\u001b[0m\u001b[0;34m\u001b[0m\u001b[0;34m\u001b[0m\u001b[0m\n\u001b[0m",
            "\u001b[0;32m<ipython-input-11-ae1cc65f488f>\u001b[0m in \u001b[0;36mcoin_prices\u001b[0;34m()\u001b[0m\n\u001b[1;32m      1\u001b[0m \u001b[0;32mdef\u001b[0m \u001b[0mcoin_prices\u001b[0m\u001b[0;34m(\u001b[0m\u001b[0;34m)\u001b[0m\u001b[0;34m:\u001b[0m\u001b[0;34m\u001b[0m\u001b[0;34m\u001b[0m\u001b[0m\n\u001b[1;32m      2\u001b[0m   \u001b[0mbitcoin_test\u001b[0m \u001b[0;34m=\u001b[0m \u001b[0mcg\u001b[0m\u001b[0;34m.\u001b[0m\u001b[0mget_coin_market_chart_range_by_id\u001b[0m\u001b[0;34m(\u001b[0m\u001b[0mid\u001b[0m \u001b[0;34m=\u001b[0m \u001b[0;34m'bitcoin'\u001b[0m\u001b[0;34m,\u001b[0m \u001b[0mvs_currency\u001b[0m \u001b[0;34m=\u001b[0m \u001b[0;34m'usd'\u001b[0m\u001b[0;34m,\u001b[0m \u001b[0mfrom_timestamp\u001b[0m \u001b[0;34m=\u001b[0m \u001b[0;34m'1577768400'\u001b[0m\u001b[0;34m,\u001b[0m \u001b[0mto_timestamp\u001b[0m \u001b[0;34m=\u001b[0m \u001b[0;34m'1609477200'\u001b[0m\u001b[0;34m)\u001b[0m\u001b[0;34m\u001b[0m\u001b[0;34m\u001b[0m\u001b[0m\n\u001b[0;32m----> 3\u001b[0;31m   \u001b[0mcoin_df\u001b[0m\u001b[0;34m.\u001b[0m\u001b[0minsert\u001b[0m\u001b[0;34m(\u001b[0m\u001b[0mbitcoin_test\u001b[0m\u001b[0;34m)\u001b[0m\u001b[0;34m\u001b[0m\u001b[0;34m\u001b[0m\u001b[0m\n\u001b[0m\u001b[1;32m      4\u001b[0m   \u001b[0;32mreturn\u001b[0m \u001b[0mcoin_df\u001b[0m\u001b[0;34m\u001b[0m\u001b[0;34m\u001b[0m\u001b[0m\n",
            "\u001b[0;31mTypeError\u001b[0m: insert() missing 2 required positional arguments: 'column' and 'value'"
          ]
        }
      ]
    },
    {
      "cell_type": "code",
      "metadata": {
        "id": "tnYOGErvPPhP"
      },
      "source": [
        "# getting the price of bitcoin from 01/01/2020 -> 01/01/2021\n",
        "#sample_data = cg.get_coin_market_chart_range_by_id(id = 'bitcoin', vs_currency = 'usd', from_timestamp = '1577768400', to_timestamp = '1609477200')"
      ],
      "execution_count": null,
      "outputs": []
    },
    {
      "cell_type": "code",
      "metadata": {
        "id": "RgT01QmkwpxV"
      },
      "source": [
        "# putting sample data into a DataFrame\n",
        "sample_df = pd.DataFrame(sample_data, columns = ['market_caps', 'prices', 'total_volumes'])"
      ],
      "execution_count": null,
      "outputs": []
    },
    {
      "cell_type": "code",
      "metadata": {
        "colab": {
          "base_uri": "https://localhost:8080/"
        },
        "id": "XGZPqXEhQFub",
        "outputId": "af12eb8f-cde6-4ebf-c62c-8ff1278afda2"
      },
      "source": [
        "# checking market_caps column\n",
        "sample_df['market_caps']"
      ],
      "execution_count": null,
      "outputs": [
        {
          "output_type": "execute_result",
          "data": {
            "text/plain": [
              "0      [1577836800000, 130394101535.60994]\n",
              "1        [1577923200000, 130422953817.668]\n",
              "2      [1578009600000, 126280790200.20206]\n",
              "3      [1578096000000, 132766262579.09486]\n",
              "4      [1578182400000, 133474716218.18333]\n",
              "                      ...                 \n",
              "362    [1609113600000, 493427450341.26013]\n",
              "363     [1609200000000, 503712223153.6673]\n",
              "364     [1609286400000, 509680257177.0481]\n",
              "365    [1609372800000, 535967306917.84125]\n",
              "366     [1609459200000, 539438036435.6701]\n",
              "Name: market_caps, Length: 367, dtype: object"
            ]
          },
          "metadata": {},
          "execution_count": 9
        }
      ]
    },
    {
      "cell_type": "code",
      "metadata": {
        "id": "UPz8m4OqScTr"
      },
      "source": [
        "# looping over each col in sample_df, splitting the UNIX time stamps from each and the values\n",
        "new_market_caps = []\n",
        "new_prices = []\n",
        "new_total_volumes = []\n",
        "date = []\n",
        "\n",
        "# looping over the market_caps col\n",
        "for date1, mc in sample_df['market_caps']:\n",
        "  new_market_caps.append(mc)\n",
        "\n",
        "# looping over the prices col\n",
        "for date2, p in sample_df['prices']:\n",
        "  new_prices.append(p)\n",
        "\n",
        "# looping over the total_volumes col\n",
        "for date3, tv in sample_df['total_volumes']:\n",
        "  new_total_volumes.append(tv) \n",
        "\n",
        "# lopping over the market_cap col to grab the UNIX date\n",
        "for date4, x in sample_df['market_caps']:\n",
        "  date.append(date4)"
      ],
      "execution_count": null,
      "outputs": []
    },
    {
      "cell_type": "code",
      "metadata": {
        "id": "PR19ywyI2GwR"
      },
      "source": [
        "# inserting the new market_cap list into the df\n",
        "sample_df['market_caps'] = sample_df['market_caps'] = new_market_caps\n",
        "\n",
        "# inserting the new prices list into the df\n",
        "sample_df['prices'] = sample_df['prices'] = new_prices\n",
        "\n",
        "# inserting the new total_volumnes list into the df\n",
        "sample_df['total_volumes'] = sample_df['total_volumes'] = new_total_volumes\n",
        "\n",
        "# inserting the date list into the df\n",
        "sample_df['date'] = sample_df['date'] = date\n",
        "\n",
        "# changing the date col from UNIX to yyyy-mm-dd\n",
        "sample_df['date'] = pd.to_datetime(sample_df['date'], unit = 'ms')\n",
        "\n",
        "# setting the date col as the index\n",
        "sample_df.set_index('date', inplace = True)"
      ],
      "execution_count": null,
      "outputs": []
    },
    {
      "cell_type": "code",
      "metadata": {
        "colab": {
          "base_uri": "https://localhost:8080/",
          "height": 390
        },
        "id": "N_ARjA0XBu07",
        "outputId": "23403bd9-934f-4677-d6e3-8850fbdbc46c"
      },
      "source": [
        "sample_df.head(10)"
      ],
      "execution_count": null,
      "outputs": [
        {
          "output_type": "execute_result",
          "data": {
            "text/html": [
              "<div>\n",
              "<style scoped>\n",
              "    .dataframe tbody tr th:only-of-type {\n",
              "        vertical-align: middle;\n",
              "    }\n",
              "\n",
              "    .dataframe tbody tr th {\n",
              "        vertical-align: top;\n",
              "    }\n",
              "\n",
              "    .dataframe thead th {\n",
              "        text-align: right;\n",
              "    }\n",
              "</style>\n",
              "<table border=\"1\" class=\"dataframe\">\n",
              "  <thead>\n",
              "    <tr style=\"text-align: right;\">\n",
              "      <th></th>\n",
              "      <th>market_caps</th>\n",
              "      <th>prices</th>\n",
              "      <th>total_volumes</th>\n",
              "    </tr>\n",
              "    <tr>\n",
              "      <th>date</th>\n",
              "      <th></th>\n",
              "      <th></th>\n",
              "      <th></th>\n",
              "    </tr>\n",
              "  </thead>\n",
              "  <tbody>\n",
              "    <tr>\n",
              "      <th>2020-01-01</th>\n",
              "      <td>1.303941e+11</td>\n",
              "      <td>7195.153895</td>\n",
              "      <td>2.118788e+10</td>\n",
              "    </tr>\n",
              "    <tr>\n",
              "      <th>2020-01-02</th>\n",
              "      <td>1.304230e+11</td>\n",
              "      <td>7193.754668</td>\n",
              "      <td>1.812352e+10</td>\n",
              "    </tr>\n",
              "    <tr>\n",
              "      <th>2020-01-03</th>\n",
              "      <td>1.262808e+11</td>\n",
              "      <td>6963.853354</td>\n",
              "      <td>2.031319e+10</td>\n",
              "    </tr>\n",
              "    <tr>\n",
              "      <th>2020-01-04</th>\n",
              "      <td>1.327663e+11</td>\n",
              "      <td>7300.346935</td>\n",
              "      <td>3.101578e+10</td>\n",
              "    </tr>\n",
              "    <tr>\n",
              "      <th>2020-01-05</th>\n",
              "      <td>1.334747e+11</td>\n",
              "      <td>7351.377053</td>\n",
              "      <td>2.061164e+10</td>\n",
              "    </tr>\n",
              "    <tr>\n",
              "      <th>2020-01-06</th>\n",
              "      <td>1.333890e+11</td>\n",
              "      <td>7349.972248</td>\n",
              "      <td>2.192922e+10</td>\n",
              "    </tr>\n",
              "    <tr>\n",
              "      <th>2020-01-07</th>\n",
              "      <td>1.405572e+11</td>\n",
              "      <td>7734.675516</td>\n",
              "      <td>2.814852e+10</td>\n",
              "    </tr>\n",
              "    <tr>\n",
              "      <th>2020-01-08</th>\n",
              "      <td>1.477986e+11</td>\n",
              "      <td>8147.415238</td>\n",
              "      <td>3.482319e+10</td>\n",
              "    </tr>\n",
              "    <tr>\n",
              "      <th>2020-01-09</th>\n",
              "      <td>1.460896e+11</td>\n",
              "      <td>8045.789125</td>\n",
              "      <td>3.997151e+10</td>\n",
              "    </tr>\n",
              "    <tr>\n",
              "      <th>2020-01-10</th>\n",
              "      <td>1.419139e+11</td>\n",
              "      <td>7832.795644</td>\n",
              "      <td>2.927605e+10</td>\n",
              "    </tr>\n",
              "  </tbody>\n",
              "</table>\n",
              "</div>"
            ],
            "text/plain": [
              "             market_caps       prices  total_volumes\n",
              "date                                                \n",
              "2020-01-01  1.303941e+11  7195.153895   2.118788e+10\n",
              "2020-01-02  1.304230e+11  7193.754668   1.812352e+10\n",
              "2020-01-03  1.262808e+11  6963.853354   2.031319e+10\n",
              "2020-01-04  1.327663e+11  7300.346935   3.101578e+10\n",
              "2020-01-05  1.334747e+11  7351.377053   2.061164e+10\n",
              "2020-01-06  1.333890e+11  7349.972248   2.192922e+10\n",
              "2020-01-07  1.405572e+11  7734.675516   2.814852e+10\n",
              "2020-01-08  1.477986e+11  8147.415238   3.482319e+10\n",
              "2020-01-09  1.460896e+11  8045.789125   3.997151e+10\n",
              "2020-01-10  1.419139e+11  7832.795644   2.927605e+10"
            ]
          },
          "metadata": {},
          "execution_count": 15
        }
      ]
    },
    {
      "cell_type": "code",
      "metadata": {
        "colab": {
          "base_uri": "https://localhost:8080/",
          "height": 235
        },
        "id": "Z__lMQmWOBSE",
        "outputId": "04285a28-79c3-44bf-8a42-ff7df591361f"
      },
      "source": [
        "sample_df.tail()"
      ],
      "execution_count": null,
      "outputs": [
        {
          "output_type": "execute_result",
          "data": {
            "text/html": [
              "<div>\n",
              "<style scoped>\n",
              "    .dataframe tbody tr th:only-of-type {\n",
              "        vertical-align: middle;\n",
              "    }\n",
              "\n",
              "    .dataframe tbody tr th {\n",
              "        vertical-align: top;\n",
              "    }\n",
              "\n",
              "    .dataframe thead th {\n",
              "        text-align: right;\n",
              "    }\n",
              "</style>\n",
              "<table border=\"1\" class=\"dataframe\">\n",
              "  <thead>\n",
              "    <tr style=\"text-align: right;\">\n",
              "      <th></th>\n",
              "      <th>market_caps</th>\n",
              "      <th>prices</th>\n",
              "      <th>total_volumes</th>\n",
              "    </tr>\n",
              "    <tr>\n",
              "      <th>date</th>\n",
              "      <th></th>\n",
              "      <th></th>\n",
              "      <th></th>\n",
              "    </tr>\n",
              "  </thead>\n",
              "  <tbody>\n",
              "    <tr>\n",
              "      <th>2020-12-28</th>\n",
              "      <td>4.934275e+11</td>\n",
              "      <td>26423.228792</td>\n",
              "      <td>5.665498e+10</td>\n",
              "    </tr>\n",
              "    <tr>\n",
              "      <th>2020-12-29</th>\n",
              "      <td>5.037122e+11</td>\n",
              "      <td>27125.384121</td>\n",
              "      <td>4.218652e+10</td>\n",
              "    </tr>\n",
              "    <tr>\n",
              "      <th>2020-12-30</th>\n",
              "      <td>5.096803e+11</td>\n",
              "      <td>27424.538955</td>\n",
              "      <td>3.808184e+10</td>\n",
              "    </tr>\n",
              "    <tr>\n",
              "      <th>2020-12-31</th>\n",
              "      <td>5.359673e+11</td>\n",
              "      <td>28837.288529</td>\n",
              "      <td>4.334114e+10</td>\n",
              "    </tr>\n",
              "    <tr>\n",
              "      <th>2021-01-01</th>\n",
              "      <td>5.394380e+11</td>\n",
              "      <td>29022.418395</td>\n",
              "      <td>4.350352e+10</td>\n",
              "    </tr>\n",
              "  </tbody>\n",
              "</table>\n",
              "</div>"
            ],
            "text/plain": [
              "             market_caps        prices  total_volumes\n",
              "date                                                 \n",
              "2020-12-28  4.934275e+11  26423.228792   5.665498e+10\n",
              "2020-12-29  5.037122e+11  27125.384121   4.218652e+10\n",
              "2020-12-30  5.096803e+11  27424.538955   3.808184e+10\n",
              "2020-12-31  5.359673e+11  28837.288529   4.334114e+10\n",
              "2021-01-01  5.394380e+11  29022.418395   4.350352e+10"
            ]
          },
          "metadata": {},
          "execution_count": 16
        }
      ]
    },
    {
      "cell_type": "markdown",
      "metadata": {
        "id": "OorXCvThZotF"
      },
      "source": [
        "# Grabbing Litecoin Data"
      ]
    },
    {
      "cell_type": "code",
      "metadata": {
        "id": "Up6nqafiZ9ey"
      },
      "source": [
        "sample_data = cg.get_coin_market_chart_range_by_id(id = 'litecoin', vs_currency = 'usd', from_timestamp = '1577768400', to_timestamp = '1609477200')"
      ],
      "execution_count": null,
      "outputs": []
    },
    {
      "cell_type": "code",
      "metadata": {
        "id": "8-OmuC_HZ_iC"
      },
      "source": [
        "sample_data"
      ],
      "execution_count": null,
      "outputs": []
    },
    {
      "cell_type": "markdown",
      "metadata": {
        "id": "7B0nLI0iYk-v"
      },
      "source": [
        "#Normalizing Data"
      ]
    },
    {
      "cell_type": "code",
      "metadata": {
        "id": "CsnoB64uQskz"
      },
      "source": [
        ""
      ],
      "execution_count": null,
      "outputs": []
    }
  ]
}