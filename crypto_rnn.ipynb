{
  "nbformat": 4,
  "nbformat_minor": 0,
  "metadata": {
    "colab": {
      "name": "crypto_rnn.ipynb",
      "provenance": [],
      "collapsed_sections": [],
      "authorship_tag": "ABX9TyMV35gzy5qYS6/aC3YutsHm",
      "include_colab_link": true
    },
    "kernelspec": {
      "name": "python3",
      "display_name": "Python 3"
    },
    "language_info": {
      "name": "python"
    },
    "accelerator": "GPU"
  },
  "cells": [
    {
      "cell_type": "markdown",
      "metadata": {
        "id": "view-in-github",
        "colab_type": "text"
      },
      "source": [
        "<a href=\"https://colab.research.google.com/github/cmannnn/crypto_rnn/blob/main/crypto_rnn.ipynb\" target=\"_parent\"><img src=\"https://colab.research.google.com/assets/colab-badge.svg\" alt=\"Open In Colab\"/></a>"
      ]
    },
    {
      "cell_type": "markdown",
      "metadata": {
        "id": "TESSNM0r6hx-"
      },
      "source": [
        "#Crypto RNN"
      ]
    },
    {
      "cell_type": "markdown",
      "metadata": {
        "id": "FfbyqnNa6n_r"
      },
      "source": [
        "##imports"
      ]
    },
    {
      "cell_type": "code",
      "metadata": {
        "colab": {
          "base_uri": "https://localhost:8080/"
        },
        "id": "ijFiAJKktEBu",
        "outputId": "6dc8258d-d71c-4bdc-b646-41d545ddc610"
      },
      "source": [
        "import matplotlib.pyplot as plt\n",
        "import pandas as pd\n",
        "\n",
        "!pip install pycoingecko\n",
        "from pycoingecko import CoinGeckoAPI"
      ],
      "execution_count": 1,
      "outputs": [
        {
          "output_type": "stream",
          "name": "stdout",
          "text": [
            "Collecting pycoingecko\n",
            "  Downloading pycoingecko-2.2.0-py3-none-any.whl (8.3 kB)\n",
            "Requirement already satisfied: requests in /usr/local/lib/python3.7/dist-packages (from pycoingecko) (2.23.0)\n",
            "Requirement already satisfied: idna<3,>=2.5 in /usr/local/lib/python3.7/dist-packages (from requests->pycoingecko) (2.10)\n",
            "Requirement already satisfied: urllib3!=1.25.0,!=1.25.1,<1.26,>=1.21.1 in /usr/local/lib/python3.7/dist-packages (from requests->pycoingecko) (1.24.3)\n",
            "Requirement already satisfied: chardet<4,>=3.0.2 in /usr/local/lib/python3.7/dist-packages (from requests->pycoingecko) (3.0.4)\n",
            "Requirement already satisfied: certifi>=2017.4.17 in /usr/local/lib/python3.7/dist-packages (from requests->pycoingecko) (2021.5.30)\n",
            "Installing collected packages: pycoingecko\n",
            "Successfully installed pycoingecko-2.2.0\n"
          ]
        }
      ]
    },
    {
      "cell_type": "code",
      "metadata": {
        "id": "LTi3Rsna6m5B"
      },
      "source": [
        "# initializing CoinGeckoAPI\n",
        "cg = CoinGeckoAPI()"
      ],
      "execution_count": 2,
      "outputs": []
    },
    {
      "cell_type": "code",
      "metadata": {
        "colab": {
          "base_uri": "https://localhost:8080/"
        },
        "id": "Z5GJKyho7RwO",
        "outputId": "ca9c6b10-8ac6-46f4-8d5b-0443fb021a15"
      },
      "source": [
        "# checking status of the API\n",
        "cg.ping()"
      ],
      "execution_count": 3,
      "outputs": [
        {
          "output_type": "execute_result",
          "data": {
            "text/plain": [
              "{'gecko_says': '(V3) To the Moon!'}"
            ]
          },
          "metadata": {},
          "execution_count": 3
        }
      ]
    },
    {
      "cell_type": "code",
      "metadata": {
        "id": "0YxrVXdZ87hR",
        "colab": {
          "base_uri": "https://localhost:8080/"
        },
        "outputId": "b6972633-3ec7-499d-dd77-6cde45f81d8e"
      },
      "source": [
        "# which coins are currently trending?\n",
        "cg.get_search_trending()"
      ],
      "execution_count": 4,
      "outputs": [
        {
          "output_type": "execute_result",
          "data": {
            "text/plain": [
              "{'coins': [{'item': {'coin_id': 17519,\n",
              "    'id': 'bnbpay',\n",
              "    'large': 'https://assets.coingecko.com/coins/images/17519/large/bnp.png?1634029495',\n",
              "    'market_cap_rank': 577,\n",
              "    'name': 'BNBPay',\n",
              "    'price_btc': 1.9986158007886873e-07,\n",
              "    'score': 0,\n",
              "    'slug': 'bnbpay',\n",
              "    'small': 'https://assets.coingecko.com/coins/images/17519/small/bnp.png?1634029495',\n",
              "    'symbol': 'BPAY',\n",
              "    'thumb': 'https://assets.coingecko.com/coins/images/17519/thumb/bnp.png?1634029495'}},\n",
              "  {'item': {'coin_id': 17569,\n",
              "    'id': 'joe',\n",
              "    'large': 'https://assets.coingecko.com/coins/images/17569/large/joe_200x200.png?1628497750',\n",
              "    'market_cap_rank': 230,\n",
              "    'name': 'JOE',\n",
              "    'price_btc': 4.750273625092504e-05,\n",
              "    'score': 1,\n",
              "    'slug': 'joe',\n",
              "    'small': 'https://assets.coingecko.com/coins/images/17569/small/joe_200x200.png?1628497750',\n",
              "    'symbol': 'JOE',\n",
              "    'thumb': 'https://assets.coingecko.com/coins/images/17569/thumb/joe_200x200.png?1628497750'}},\n",
              "  {'item': {'coin_id': 17984,\n",
              "    'id': 'moonriver',\n",
              "    'large': 'https://assets.coingecko.com/coins/images/17984/large/9285.png?1630028620',\n",
              "    'market_cap_rank': 124,\n",
              "    'name': 'Moonriver',\n",
              "    'price_btc': 0.006537525566666688,\n",
              "    'score': 2,\n",
              "    'slug': 'moonriver',\n",
              "    'small': 'https://assets.coingecko.com/coins/images/17984/small/9285.png?1630028620',\n",
              "    'symbol': 'MOVR',\n",
              "    'thumb': 'https://assets.coingecko.com/coins/images/17984/thumb/9285.png?1630028620'}},\n",
              "  {'item': {'coin_id': 4001,\n",
              "    'id': 'fantom',\n",
              "    'large': 'https://assets.coingecko.com/coins/images/4001/large/Fantom.png?1558015016',\n",
              "    'market_cap_rank': 34,\n",
              "    'name': 'Fantom',\n",
              "    'price_btc': 4.312663640845618e-05,\n",
              "    'score': 3,\n",
              "    'slug': 'fantom',\n",
              "    'small': 'https://assets.coingecko.com/coins/images/4001/small/Fantom.png?1558015016',\n",
              "    'symbol': 'FTM',\n",
              "    'thumb': 'https://assets.coingecko.com/coins/images/4001/thumb/Fantom.png?1558015016'}},\n",
              "  {'item': {'coin_id': 8251,\n",
              "    'id': 'ferrum-network',\n",
              "    'large': 'https://assets.coingecko.com/coins/images/8251/large/frm.png?1563777564',\n",
              "    'market_cap_rank': 736,\n",
              "    'name': 'Ferrum Network',\n",
              "    'price_btc': 4.782900432888572e-06,\n",
              "    'score': 4,\n",
              "    'slug': 'ferrum-network',\n",
              "    'small': 'https://assets.coingecko.com/coins/images/8251/small/frm.png?1563777564',\n",
              "    'symbol': 'FRM',\n",
              "    'thumb': 'https://assets.coingecko.com/coins/images/8251/thumb/frm.png?1563777564'}},\n",
              "  {'item': {'coin_id': 16801,\n",
              "    'id': 'ufo-gaming',\n",
              "    'large': 'https://assets.coingecko.com/coins/images/16801/large/ufo_logo.jpg?1630078847',\n",
              "    'market_cap_rank': 257,\n",
              "    'name': 'UFO Gaming',\n",
              "    'price_btc': 1.6710286370115476e-10,\n",
              "    'score': 5,\n",
              "    'slug': 'ufo-gaming',\n",
              "    'small': 'https://assets.coingecko.com/coins/images/16801/small/ufo_logo.jpg?1630078847',\n",
              "    'symbol': 'UFO',\n",
              "    'thumb': 'https://assets.coingecko.com/coins/images/16801/thumb/ufo_logo.jpg?1630078847'}},\n",
              "  {'item': {'coin_id': 18396,\n",
              "    'id': 'monsta-infinite',\n",
              "    'large': 'https://assets.coingecko.com/coins/images/18396/large/moni.png?1631763118',\n",
              "    'market_cap_rank': 692,\n",
              "    'name': 'Monsta Infinite',\n",
              "    'price_btc': 4.687130016614688e-05,\n",
              "    'score': 6,\n",
              "    'slug': 'monsta-infinite',\n",
              "    'small': 'https://assets.coingecko.com/coins/images/18396/small/moni.png?1631763118',\n",
              "    'symbol': 'MONI',\n",
              "    'thumb': 'https://assets.coingecko.com/coins/images/18396/thumb/moni.png?1631763118'}}],\n",
              " 'exchanges': []}"
            ]
          },
          "metadata": {},
          "execution_count": 4
        }
      ]
    },
    {
      "cell_type": "code",
      "metadata": {
        "colab": {
          "base_uri": "https://localhost:8080/"
        },
        "id": "MosmQzUlNPkq",
        "outputId": "e57dd8ff-626a-4ef4-ecb5-8993df646f1a"
      },
      "source": [
        "# testing to retrieve current bitcoin price\n",
        "cg.get_price(ids ='bitcoin', vs_currencies = 'usd')"
      ],
      "execution_count": 5,
      "outputs": [
        {
          "output_type": "execute_result",
          "data": {
            "text/plain": [
              "{'bitcoin': {'usd': 60835}}"
            ]
          },
          "metadata": {},
          "execution_count": 5
        }
      ]
    },
    {
      "cell_type": "code",
      "metadata": {
        "colab": {
          "base_uri": "https://localhost:8080/"
        },
        "id": "4n1PP6Go-6ZM",
        "outputId": "c9b73856-76a3-429e-c8d4-cf97bda39f09"
      },
      "source": [
        "# testing to retrieve current bitcoin price\n",
        "cg.get_price(ids ='solana', vs_currencies = 'usd')"
      ],
      "execution_count": 6,
      "outputs": [
        {
          "output_type": "execute_result",
          "data": {
            "text/plain": [
              "{'solana': {'usd': 196.47}}"
            ]
          },
          "metadata": {},
          "execution_count": 6
        }
      ]
    },
    {
      "cell_type": "markdown",
      "metadata": {
        "id": "zz6Jl6k7Zd6t"
      },
      "source": [
        "# Getting Bitcoin Data"
      ]
    },
    {
      "cell_type": "code",
      "metadata": {
        "id": "4w7I9s_S-4Dl"
      },
      "source": [
        "coins = ['bitcoin', 'ethereum', 'cardano', 'tether', 'solana']"
      ],
      "execution_count": 7,
      "outputs": []
    },
    {
      "cell_type": "code",
      "metadata": {
        "id": "tnYOGErvPPhP"
      },
      "source": [
        "# getting the price of bitcoin from 01/01/2020 -> 01/01/2021\n",
        "bitcoin_sample = cg.get_coin_market_chart_range_by_id(id = 'bitcoin', vs_currency = 'usd', from_timestamp = '1577768400', to_timestamp = '1609477200')"
      ],
      "execution_count": 8,
      "outputs": []
    },
    {
      "cell_type": "code",
      "metadata": {
        "id": "rbLA7Am8TXzN"
      },
      "source": [
        "#bitcoin_sample"
      ],
      "execution_count": 9,
      "outputs": []
    },
    {
      "cell_type": "code",
      "metadata": {
        "id": "RgT01QmkwpxV"
      },
      "source": [
        "# putting sample data into a DataFrame\n",
        "sample_df = pd.DataFrame(bitcoin_sample, columns = ['market_caps', 'prices', 'total_volumes'])"
      ],
      "execution_count": 10,
      "outputs": []
    },
    {
      "cell_type": "code",
      "metadata": {
        "colab": {
          "base_uri": "https://localhost:8080/",
          "height": 204
        },
        "id": "svLXMcx_TSmo",
        "outputId": "1a2ac8e3-44c9-428e-9239-cd5aef4053d5"
      },
      "source": [
        "sample_df.head()"
      ],
      "execution_count": 11,
      "outputs": [
        {
          "output_type": "execute_result",
          "data": {
            "text/html": [
              "<div>\n",
              "<style scoped>\n",
              "    .dataframe tbody tr th:only-of-type {\n",
              "        vertical-align: middle;\n",
              "    }\n",
              "\n",
              "    .dataframe tbody tr th {\n",
              "        vertical-align: top;\n",
              "    }\n",
              "\n",
              "    .dataframe thead th {\n",
              "        text-align: right;\n",
              "    }\n",
              "</style>\n",
              "<table border=\"1\" class=\"dataframe\">\n",
              "  <thead>\n",
              "    <tr style=\"text-align: right;\">\n",
              "      <th></th>\n",
              "      <th>market_caps</th>\n",
              "      <th>prices</th>\n",
              "      <th>total_volumes</th>\n",
              "    </tr>\n",
              "  </thead>\n",
              "  <tbody>\n",
              "    <tr>\n",
              "      <th>0</th>\n",
              "      <td>[1577836800000, 130394101535.60994]</td>\n",
              "      <td>[1577836800000, 7195.153895430029]</td>\n",
              "      <td>[1577836800000, 21187883711.18498]</td>\n",
              "    </tr>\n",
              "    <tr>\n",
              "      <th>1</th>\n",
              "      <td>[1577923200000, 130422953817.668]</td>\n",
              "      <td>[1577923200000, 7193.7546679601]</td>\n",
              "      <td>[1577923200000, 18123516838.8979]</td>\n",
              "    </tr>\n",
              "    <tr>\n",
              "      <th>2</th>\n",
              "      <td>[1578009600000, 126280790200.20206]</td>\n",
              "      <td>[1578009600000, 6963.853353983485]</td>\n",
              "      <td>[1578009600000, 20313194628.09452]</td>\n",
              "    </tr>\n",
              "    <tr>\n",
              "      <th>3</th>\n",
              "      <td>[1578096000000, 132766262579.09486]</td>\n",
              "      <td>[1578096000000, 7300.34693530511]</td>\n",
              "      <td>[1578096000000, 31015776262.21867]</td>\n",
              "    </tr>\n",
              "    <tr>\n",
              "      <th>4</th>\n",
              "      <td>[1578182400000, 133474716218.18333]</td>\n",
              "      <td>[1578182400000, 7351.377053166627]</td>\n",
              "      <td>[1578182400000, 20611640058.34164]</td>\n",
              "    </tr>\n",
              "  </tbody>\n",
              "</table>\n",
              "</div>"
            ],
            "text/plain": [
              "                           market_caps  ...                       total_volumes\n",
              "0  [1577836800000, 130394101535.60994]  ...  [1577836800000, 21187883711.18498]\n",
              "1    [1577923200000, 130422953817.668]  ...   [1577923200000, 18123516838.8979]\n",
              "2  [1578009600000, 126280790200.20206]  ...  [1578009600000, 20313194628.09452]\n",
              "3  [1578096000000, 132766262579.09486]  ...  [1578096000000, 31015776262.21867]\n",
              "4  [1578182400000, 133474716218.18333]  ...  [1578182400000, 20611640058.34164]\n",
              "\n",
              "[5 rows x 3 columns]"
            ]
          },
          "metadata": {},
          "execution_count": 11
        }
      ]
    },
    {
      "cell_type": "code",
      "metadata": {
        "colab": {
          "base_uri": "https://localhost:8080/"
        },
        "id": "XGZPqXEhQFub",
        "outputId": "d88e6049-b67e-4787-f56a-a89c5552a814"
      },
      "source": [
        "# checking market_caps column\n",
        "sample_df['market_caps']"
      ],
      "execution_count": 13,
      "outputs": [
        {
          "output_type": "execute_result",
          "data": {
            "text/plain": [
              "0      [1577836800000, 130394101535.60994]\n",
              "1        [1577923200000, 130422953817.668]\n",
              "2      [1578009600000, 126280790200.20206]\n",
              "3      [1578096000000, 132766262579.09486]\n",
              "4      [1578182400000, 133474716218.18333]\n",
              "                      ...                 \n",
              "362    [1609113600000, 493427450341.26013]\n",
              "363     [1609200000000, 503712223153.6673]\n",
              "364     [1609286400000, 509680257177.0481]\n",
              "365    [1609372800000, 535967306917.84125]\n",
              "366     [1609459200000, 539438036435.6701]\n",
              "Name: market_caps, Length: 367, dtype: object"
            ]
          },
          "metadata": {},
          "execution_count": 13
        }
      ]
    },
    {
      "cell_type": "code",
      "metadata": {
        "id": "UPz8m4OqScTr"
      },
      "source": [
        "# looping over each col in sample_df, splitting the UNIX time stamps from each and the values\n",
        "new_market_caps = []\n",
        "new_prices = []\n",
        "new_total_volumes = []\n",
        "date = []\n",
        "\n",
        "# looping over the market_caps col\n",
        "for date1, mc in sample_df['market_caps']:\n",
        "  new_market_caps.append(mc)\n",
        "\n",
        "# looping over the prices col\n",
        "for date2, p in sample_df['prices']:\n",
        "  new_prices.append(p)\n",
        "\n",
        "# looping over the total_volumes col\n",
        "for date3, tv in sample_df['total_volumes']:\n",
        "  new_total_volumes.append(tv) \n",
        "\n",
        "# lopping over the market_cap col to grab the UNIX date\n",
        "for date4, x in sample_df['market_caps']:\n",
        "  date.append(date4)"
      ],
      "execution_count": 15,
      "outputs": []
    },
    {
      "cell_type": "code",
      "metadata": {
        "id": "PR19ywyI2GwR"
      },
      "source": [
        "# inserting the new market_cap list into the df\n",
        "sample_df['market_caps'] = new_market_caps\n",
        "\n",
        "# inserting the new prices list into the df\n",
        "sample_df['prices'] = new_prices\n",
        "\n",
        "# inserting the new total_volumnes list into the df\n",
        "sample_df['total_volumes'] = new_total_volumes\n",
        "\n",
        "# inserting the date list into the df\n",
        "sample_df['date'] = date\n",
        "\n",
        "# changing the date col from UNIX to yyyy-mm-dd\n",
        "sample_df['date'] = pd.to_datetime(sample_df['date'], unit = 'ms')\n",
        "\n",
        "# setting the date col as the index\n",
        "sample_df.set_index('date', inplace = True)"
      ],
      "execution_count": 16,
      "outputs": []
    },
    {
      "cell_type": "code",
      "metadata": {
        "id": "u5Oyqig1Uqpa"
      },
      "source": [
        "sample_df.rename(columns={'market_caps':'bitcoin_markt_cap', 'prices':'bitcoin_price', 'total_volumes':'bitcoin_total_volume'}, inplace = True)"
      ],
      "execution_count": 25,
      "outputs": []
    },
    {
      "cell_type": "code",
      "metadata": {
        "colab": {
          "base_uri": "https://localhost:8080/",
          "height": 390
        },
        "id": "N_ARjA0XBu07",
        "outputId": "91e214a1-3a91-4d19-9ba1-802192ca2083"
      },
      "source": [
        "sample_df.head(10)"
      ],
      "execution_count": 26,
      "outputs": [
        {
          "output_type": "execute_result",
          "data": {
            "text/html": [
              "<div>\n",
              "<style scoped>\n",
              "    .dataframe tbody tr th:only-of-type {\n",
              "        vertical-align: middle;\n",
              "    }\n",
              "\n",
              "    .dataframe tbody tr th {\n",
              "        vertical-align: top;\n",
              "    }\n",
              "\n",
              "    .dataframe thead th {\n",
              "        text-align: right;\n",
              "    }\n",
              "</style>\n",
              "<table border=\"1\" class=\"dataframe\">\n",
              "  <thead>\n",
              "    <tr style=\"text-align: right;\">\n",
              "      <th></th>\n",
              "      <th>bitcoin_markt_cap</th>\n",
              "      <th>bitcoin_price</th>\n",
              "      <th>bitcoin_total_volume</th>\n",
              "    </tr>\n",
              "    <tr>\n",
              "      <th>date</th>\n",
              "      <th></th>\n",
              "      <th></th>\n",
              "      <th></th>\n",
              "    </tr>\n",
              "  </thead>\n",
              "  <tbody>\n",
              "    <tr>\n",
              "      <th>2020-01-01</th>\n",
              "      <td>1.303941e+11</td>\n",
              "      <td>7195.153895</td>\n",
              "      <td>2.118788e+10</td>\n",
              "    </tr>\n",
              "    <tr>\n",
              "      <th>2020-01-02</th>\n",
              "      <td>1.304230e+11</td>\n",
              "      <td>7193.754668</td>\n",
              "      <td>1.812352e+10</td>\n",
              "    </tr>\n",
              "    <tr>\n",
              "      <th>2020-01-03</th>\n",
              "      <td>1.262808e+11</td>\n",
              "      <td>6963.853354</td>\n",
              "      <td>2.031319e+10</td>\n",
              "    </tr>\n",
              "    <tr>\n",
              "      <th>2020-01-04</th>\n",
              "      <td>1.327663e+11</td>\n",
              "      <td>7300.346935</td>\n",
              "      <td>3.101578e+10</td>\n",
              "    </tr>\n",
              "    <tr>\n",
              "      <th>2020-01-05</th>\n",
              "      <td>1.334747e+11</td>\n",
              "      <td>7351.377053</td>\n",
              "      <td>2.061164e+10</td>\n",
              "    </tr>\n",
              "    <tr>\n",
              "      <th>2020-01-06</th>\n",
              "      <td>1.333890e+11</td>\n",
              "      <td>7349.972248</td>\n",
              "      <td>2.192922e+10</td>\n",
              "    </tr>\n",
              "    <tr>\n",
              "      <th>2020-01-07</th>\n",
              "      <td>1.405572e+11</td>\n",
              "      <td>7734.675516</td>\n",
              "      <td>2.814852e+10</td>\n",
              "    </tr>\n",
              "    <tr>\n",
              "      <th>2020-01-08</th>\n",
              "      <td>1.477986e+11</td>\n",
              "      <td>8147.415238</td>\n",
              "      <td>3.482319e+10</td>\n",
              "    </tr>\n",
              "    <tr>\n",
              "      <th>2020-01-09</th>\n",
              "      <td>1.460896e+11</td>\n",
              "      <td>8045.789125</td>\n",
              "      <td>3.997151e+10</td>\n",
              "    </tr>\n",
              "    <tr>\n",
              "      <th>2020-01-10</th>\n",
              "      <td>1.419139e+11</td>\n",
              "      <td>7832.795644</td>\n",
              "      <td>2.927605e+10</td>\n",
              "    </tr>\n",
              "  </tbody>\n",
              "</table>\n",
              "</div>"
            ],
            "text/plain": [
              "            bitcoin_markt_cap  bitcoin_price  bitcoin_total_volume\n",
              "date                                                              \n",
              "2020-01-01       1.303941e+11    7195.153895          2.118788e+10\n",
              "2020-01-02       1.304230e+11    7193.754668          1.812352e+10\n",
              "2020-01-03       1.262808e+11    6963.853354          2.031319e+10\n",
              "2020-01-04       1.327663e+11    7300.346935          3.101578e+10\n",
              "2020-01-05       1.334747e+11    7351.377053          2.061164e+10\n",
              "2020-01-06       1.333890e+11    7349.972248          2.192922e+10\n",
              "2020-01-07       1.405572e+11    7734.675516          2.814852e+10\n",
              "2020-01-08       1.477986e+11    8147.415238          3.482319e+10\n",
              "2020-01-09       1.460896e+11    8045.789125          3.997151e+10\n",
              "2020-01-10       1.419139e+11    7832.795644          2.927605e+10"
            ]
          },
          "metadata": {},
          "execution_count": 26
        }
      ]
    },
    {
      "cell_type": "code",
      "metadata": {
        "colab": {
          "base_uri": "https://localhost:8080/",
          "height": 235
        },
        "id": "Z__lMQmWOBSE",
        "outputId": "a84b7fe8-34cc-4854-8a86-ca785f6c33e3"
      },
      "source": [
        "sample_df.tail()"
      ],
      "execution_count": 27,
      "outputs": [
        {
          "output_type": "execute_result",
          "data": {
            "text/html": [
              "<div>\n",
              "<style scoped>\n",
              "    .dataframe tbody tr th:only-of-type {\n",
              "        vertical-align: middle;\n",
              "    }\n",
              "\n",
              "    .dataframe tbody tr th {\n",
              "        vertical-align: top;\n",
              "    }\n",
              "\n",
              "    .dataframe thead th {\n",
              "        text-align: right;\n",
              "    }\n",
              "</style>\n",
              "<table border=\"1\" class=\"dataframe\">\n",
              "  <thead>\n",
              "    <tr style=\"text-align: right;\">\n",
              "      <th></th>\n",
              "      <th>bitcoin_markt_cap</th>\n",
              "      <th>bitcoin_price</th>\n",
              "      <th>bitcoin_total_volume</th>\n",
              "    </tr>\n",
              "    <tr>\n",
              "      <th>date</th>\n",
              "      <th></th>\n",
              "      <th></th>\n",
              "      <th></th>\n",
              "    </tr>\n",
              "  </thead>\n",
              "  <tbody>\n",
              "    <tr>\n",
              "      <th>2020-12-28</th>\n",
              "      <td>4.934275e+11</td>\n",
              "      <td>26423.228792</td>\n",
              "      <td>5.665498e+10</td>\n",
              "    </tr>\n",
              "    <tr>\n",
              "      <th>2020-12-29</th>\n",
              "      <td>5.037122e+11</td>\n",
              "      <td>27125.384121</td>\n",
              "      <td>4.218652e+10</td>\n",
              "    </tr>\n",
              "    <tr>\n",
              "      <th>2020-12-30</th>\n",
              "      <td>5.096803e+11</td>\n",
              "      <td>27424.538955</td>\n",
              "      <td>3.808184e+10</td>\n",
              "    </tr>\n",
              "    <tr>\n",
              "      <th>2020-12-31</th>\n",
              "      <td>5.359673e+11</td>\n",
              "      <td>28837.288529</td>\n",
              "      <td>4.334114e+10</td>\n",
              "    </tr>\n",
              "    <tr>\n",
              "      <th>2021-01-01</th>\n",
              "      <td>5.394380e+11</td>\n",
              "      <td>29022.418395</td>\n",
              "      <td>4.350352e+10</td>\n",
              "    </tr>\n",
              "  </tbody>\n",
              "</table>\n",
              "</div>"
            ],
            "text/plain": [
              "            bitcoin_markt_cap  bitcoin_price  bitcoin_total_volume\n",
              "date                                                              \n",
              "2020-12-28       4.934275e+11   26423.228792          5.665498e+10\n",
              "2020-12-29       5.037122e+11   27125.384121          4.218652e+10\n",
              "2020-12-30       5.096803e+11   27424.538955          3.808184e+10\n",
              "2020-12-31       5.359673e+11   28837.288529          4.334114e+10\n",
              "2021-01-01       5.394380e+11   29022.418395          4.350352e+10"
            ]
          },
          "metadata": {},
          "execution_count": 27
        }
      ]
    },
    {
      "cell_type": "markdown",
      "metadata": {
        "id": "OorXCvThZotF"
      },
      "source": [
        "# Grabbing Litecoin Data"
      ]
    },
    {
      "cell_type": "code",
      "metadata": {
        "id": "NV2tmPlKWYQu"
      },
      "source": [
        "litecoin_sample = pd.DataFrame()"
      ],
      "execution_count": 28,
      "outputs": []
    },
    {
      "cell_type": "code",
      "metadata": {
        "id": "Up6nqafiZ9ey"
      },
      "source": [
        "def get_litecoin():\n",
        "  litecoin_sample = cg.get_coin_market_chart_range_by_id(id = 'litecoin', vs_currency = 'usd', from_timestamp = '1577768400', to_timestamp = '1609477200')\n",
        "  # putting sample data into a DataFrame\n",
        "  litecoin = pd.DataFrame(litecoin_sample, columns = ['market_caps', 'prices', 'total_volumes'])\n",
        "  return litecoin"
      ],
      "execution_count": 30,
      "outputs": []
    },
    {
      "cell_type": "code",
      "metadata": {
        "id": "8-OmuC_HZ_iC",
        "colab": {
          "base_uri": "https://localhost:8080/",
          "height": 419
        },
        "outputId": "f8f8cbf2-6d2c-4573-d180-7705075c52bd"
      },
      "source": [
        "get_litecoin()"
      ],
      "execution_count": 31,
      "outputs": [
        {
          "output_type": "execute_result",
          "data": {
            "text/html": [
              "<div>\n",
              "<style scoped>\n",
              "    .dataframe tbody tr th:only-of-type {\n",
              "        vertical-align: middle;\n",
              "    }\n",
              "\n",
              "    .dataframe tbody tr th {\n",
              "        vertical-align: top;\n",
              "    }\n",
              "\n",
              "    .dataframe thead th {\n",
              "        text-align: right;\n",
              "    }\n",
              "</style>\n",
              "<table border=\"1\" class=\"dataframe\">\n",
              "  <thead>\n",
              "    <tr style=\"text-align: right;\">\n",
              "      <th></th>\n",
              "      <th>market_caps</th>\n",
              "      <th>prices</th>\n",
              "      <th>total_volumes</th>\n",
              "    </tr>\n",
              "  </thead>\n",
              "  <tbody>\n",
              "    <tr>\n",
              "      <th>0</th>\n",
              "      <td>[1577836800000, 2631033887.899123]</td>\n",
              "      <td>[1577836800000, 41.3303118717958]</td>\n",
              "      <td>[1577836800000, 2220352351.006171]</td>\n",
              "    </tr>\n",
              "    <tr>\n",
              "      <th>1</th>\n",
              "      <td>[1577923200000, 2650379786.940752]</td>\n",
              "      <td>[1577923200000, 41.606316132725595]</td>\n",
              "      <td>[1577923200000, 1979757413.5385168]</td>\n",
              "    </tr>\n",
              "    <tr>\n",
              "      <th>2</th>\n",
              "      <td>[1578009600000, 2513232761.203657]</td>\n",
              "      <td>[1578009600000, 39.413813127257534]</td>\n",
              "      <td>[1578009600000, 1678103159.1729414]</td>\n",
              "    </tr>\n",
              "    <tr>\n",
              "      <th>3</th>\n",
              "      <td>[1578096000000, 2683016172.671081]</td>\n",
              "      <td>[1578096000000, 41.991047401505135]</td>\n",
              "      <td>[1578096000000, 2333782492.3913755]</td>\n",
              "    </tr>\n",
              "    <tr>\n",
              "      <th>4</th>\n",
              "      <td>[1578182400000, 2727569539.430861]</td>\n",
              "      <td>[1578182400000, 42.781417393309496]</td>\n",
              "      <td>[1578182400000, 2085468681.6081836]</td>\n",
              "    </tr>\n",
              "    <tr>\n",
              "      <th>...</th>\n",
              "      <td>...</td>\n",
              "      <td>...</td>\n",
              "      <td>...</td>\n",
              "    </tr>\n",
              "    <tr>\n",
              "      <th>362</th>\n",
              "      <td>[1609113600000, 8553327960.234525]</td>\n",
              "      <td>[1609113600000, 127.89908797810656]</td>\n",
              "      <td>[1609113600000, 10006162991.778812]</td>\n",
              "    </tr>\n",
              "    <tr>\n",
              "      <th>363</th>\n",
              "      <td>[1609200000000, 8661848120.150204]</td>\n",
              "      <td>[1609200000000, 130.63865783349385]</td>\n",
              "      <td>[1609200000000, 7456439915.501087]</td>\n",
              "    </tr>\n",
              "    <tr>\n",
              "      <th>364</th>\n",
              "      <td>[1609286400000, 8581202273.457391]</td>\n",
              "      <td>[1609286400000, 129.62816724745065]</td>\n",
              "      <td>[1609286400000, 5810649636.60472]</td>\n",
              "    </tr>\n",
              "    <tr>\n",
              "      <th>365</th>\n",
              "      <td>[1609372800000, 8556679209.7351265]</td>\n",
              "      <td>[1609372800000, 129.244151372546]</td>\n",
              "      <td>[1609372800000, 5932640524.567994]</td>\n",
              "    </tr>\n",
              "    <tr>\n",
              "      <th>366</th>\n",
              "      <td>[1609459200000, 8232940083.327155]</td>\n",
              "      <td>[1609459200000, 124.79869792915004]</td>\n",
              "      <td>[1609459200000, 4978855668.12016]</td>\n",
              "    </tr>\n",
              "  </tbody>\n",
              "</table>\n",
              "<p>367 rows × 3 columns</p>\n",
              "</div>"
            ],
            "text/plain": [
              "                             market_caps  ...                        total_volumes\n",
              "0     [1577836800000, 2631033887.899123]  ...   [1577836800000, 2220352351.006171]\n",
              "1     [1577923200000, 2650379786.940752]  ...  [1577923200000, 1979757413.5385168]\n",
              "2     [1578009600000, 2513232761.203657]  ...  [1578009600000, 1678103159.1729414]\n",
              "3     [1578096000000, 2683016172.671081]  ...  [1578096000000, 2333782492.3913755]\n",
              "4     [1578182400000, 2727569539.430861]  ...  [1578182400000, 2085468681.6081836]\n",
              "..                                   ...  ...                                  ...\n",
              "362   [1609113600000, 8553327960.234525]  ...  [1609113600000, 10006162991.778812]\n",
              "363   [1609200000000, 8661848120.150204]  ...   [1609200000000, 7456439915.501087]\n",
              "364   [1609286400000, 8581202273.457391]  ...    [1609286400000, 5810649636.60472]\n",
              "365  [1609372800000, 8556679209.7351265]  ...   [1609372800000, 5932640524.567994]\n",
              "366   [1609459200000, 8232940083.327155]  ...    [1609459200000, 4978855668.12016]\n",
              "\n",
              "[367 rows x 3 columns]"
            ]
          },
          "metadata": {},
          "execution_count": 31
        }
      ]
    },
    {
      "cell_type": "markdown",
      "metadata": {
        "id": "7B0nLI0iYk-v"
      },
      "source": [
        "#Normalizing Data"
      ]
    },
    {
      "cell_type": "code",
      "metadata": {
        "id": "CsnoB64uQskz"
      },
      "source": [
        ""
      ],
      "execution_count": null,
      "outputs": []
    }
  ]
}