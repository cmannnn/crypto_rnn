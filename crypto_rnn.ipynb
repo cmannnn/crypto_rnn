{
  "nbformat": 4,
  "nbformat_minor": 0,
  "metadata": {
    "colab": {
      "name": "crypto_rnn.ipynb",
      "provenance": [],
      "authorship_tag": "ABX9TyMA39D+iEl3qx0c8qWR0mvZ",
      "include_colab_link": true
    },
    "kernelspec": {
      "name": "python3",
      "display_name": "Python 3"
    },
    "language_info": {
      "name": "python"
    },
    "accelerator": "GPU"
  },
  "cells": [
    {
      "cell_type": "markdown",
      "metadata": {
        "id": "view-in-github",
        "colab_type": "text"
      },
      "source": [
        "<a href=\"https://colab.research.google.com/github/cmannnn/crypto_rnn/blob/main/crypto_rnn.ipynb\" target=\"_parent\"><img src=\"https://colab.research.google.com/assets/colab-badge.svg\" alt=\"Open In Colab\"/></a>"
      ]
    },
    {
      "cell_type": "markdown",
      "metadata": {
        "id": "TESSNM0r6hx-"
      },
      "source": [
        "#Crypto RNN"
      ]
    },
    {
      "cell_type": "markdown",
      "metadata": {
        "id": "FfbyqnNa6n_r"
      },
      "source": [
        "##imports"
      ]
    },
    {
      "cell_type": "code",
      "metadata": {
        "colab": {
          "base_uri": "https://localhost:8080/"
        },
        "id": "ijFiAJKktEBu",
        "outputId": "926f8925-7660-4ac4-bbbe-1d7b18030ce9"
      },
      "source": [
        "import matplotlib.pyplot as plt\n",
        "import pandas as pd\n",
        "\n",
        "!pip install pycoingecko\n",
        "from pycoingecko import CoinGeckoAPI"
      ],
      "execution_count": 19,
      "outputs": [
        {
          "output_type": "stream",
          "name": "stdout",
          "text": [
            "Requirement already satisfied: pycoingecko in /usr/local/lib/python3.7/dist-packages (2.2.0)\n",
            "Requirement already satisfied: requests in /usr/local/lib/python3.7/dist-packages (from pycoingecko) (2.23.0)\n",
            "Requirement already satisfied: certifi>=2017.4.17 in /usr/local/lib/python3.7/dist-packages (from requests->pycoingecko) (2021.5.30)\n",
            "Requirement already satisfied: chardet<4,>=3.0.2 in /usr/local/lib/python3.7/dist-packages (from requests->pycoingecko) (3.0.4)\n",
            "Requirement already satisfied: urllib3!=1.25.0,!=1.25.1,<1.26,>=1.21.1 in /usr/local/lib/python3.7/dist-packages (from requests->pycoingecko) (1.24.3)\n",
            "Requirement already satisfied: idna<3,>=2.5 in /usr/local/lib/python3.7/dist-packages (from requests->pycoingecko) (2.10)\n"
          ]
        }
      ]
    },
    {
      "cell_type": "code",
      "metadata": {
        "id": "LTi3Rsna6m5B"
      },
      "source": [
        "# initializing CoinGeckoAPI\n",
        "cg = CoinGeckoAPI()"
      ],
      "execution_count": 20,
      "outputs": []
    },
    {
      "cell_type": "code",
      "metadata": {
        "colab": {
          "base_uri": "https://localhost:8080/"
        },
        "id": "Z5GJKyho7RwO",
        "outputId": "47c2d6c1-0695-4ccb-8f1f-2223abfa600b"
      },
      "source": [
        "# checking status of the API\n",
        "cg.ping()"
      ],
      "execution_count": 21,
      "outputs": [
        {
          "output_type": "execute_result",
          "data": {
            "text/plain": [
              "{'gecko_says': '(V3) To the Moon!'}"
            ]
          },
          "metadata": {},
          "execution_count": 21
        }
      ]
    },
    {
      "cell_type": "code",
      "metadata": {
        "id": "0YxrVXdZ87hR",
        "colab": {
          "base_uri": "https://localhost:8080/"
        },
        "outputId": "ce79f299-971c-4e1a-a983-b6c79b226cab"
      },
      "source": [
        "# which coins are currently trending?\n",
        "cg.get_search_trending()"
      ],
      "execution_count": 22,
      "outputs": [
        {
          "output_type": "execute_result",
          "data": {
            "text/plain": [
              "{'coins': [{'item': {'coin_id': 6111,\n",
              "    'id': 'taboo-token',\n",
              "    'large': 'https://assets.coingecko.com/coins/images/6111/large/taboo.PNG?1624500776',\n",
              "    'market_cap_rank': 444,\n",
              "    'name': 'Taboo Token',\n",
              "    'price_btc': 1.7049562819461108e-07,\n",
              "    'score': 0,\n",
              "    'slug': 'taboo-token',\n",
              "    'small': 'https://assets.coingecko.com/coins/images/6111/small/taboo.PNG?1624500776',\n",
              "    'symbol': 'TABOO',\n",
              "    'thumb': 'https://assets.coingecko.com/coins/images/6111/thumb/taboo.PNG?1624500776'}},\n",
              "  {'item': {'coin_id': 14465,\n",
              "    'id': 'cellframe',\n",
              "    'large': 'https://assets.coingecko.com/coins/images/14465/large/cellframe_logo.png?1616333567',\n",
              "    'market_cap_rank': 865,\n",
              "    'name': 'Cellframe',\n",
              "    'price_btc': 1.604813960836959e-05,\n",
              "    'score': 1,\n",
              "    'slug': 'cellframe',\n",
              "    'small': 'https://assets.coingecko.com/coins/images/14465/small/cellframe_logo.png?1616333567',\n",
              "    'symbol': 'CELL',\n",
              "    'thumb': 'https://assets.coingecko.com/coins/images/14465/thumb/cellframe_logo.png?1616333567'}},\n",
              "  {'item': {'coin_id': 17461,\n",
              "    'id': 'plant-vs-undead-token',\n",
              "    'large': 'https://assets.coingecko.com/coins/images/17461/large/token-200x200.png?1627883446',\n",
              "    'market_cap_rank': 753,\n",
              "    'name': 'Plant vs Undead Token',\n",
              "    'price_btc': 3.470306092189455e-05,\n",
              "    'score': 2,\n",
              "    'slug': 'plant-vs-undead-token',\n",
              "    'small': 'https://assets.coingecko.com/coins/images/17461/small/token-200x200.png?1627883446',\n",
              "    'symbol': 'PVU',\n",
              "    'thumb': 'https://assets.coingecko.com/coins/images/17461/thumb/token-200x200.png?1627883446'}},\n",
              "  {'item': {'coin_id': 11939,\n",
              "    'id': 'shiba-inu',\n",
              "    'large': 'https://assets.coingecko.com/coins/images/11939/large/shiba.png?1622619446',\n",
              "    'market_cap_rank': 13,\n",
              "    'name': 'Shiba Inu',\n",
              "    'price_btc': 4.751591334478873e-10,\n",
              "    'score': 3,\n",
              "    'slug': 'shiba-inu',\n",
              "    'small': 'https://assets.coingecko.com/coins/images/11939/small/shiba.png?1622619446',\n",
              "    'symbol': 'SHIB',\n",
              "    'thumb': 'https://assets.coingecko.com/coins/images/11939/thumb/shiba.png?1622619446'}},\n",
              "  {'item': {'coin_id': 18816,\n",
              "    'id': 'astroswap',\n",
              "    'large': 'https://assets.coingecko.com/coins/images/18816/large/astro.png?1633506850',\n",
              "    'market_cap_rank': 442,\n",
              "    'name': 'AstroSwap',\n",
              "    'price_btc': 6.968900247064138e-06,\n",
              "    'score': 4,\n",
              "    'slug': 'astroswap',\n",
              "    'small': 'https://assets.coingecko.com/coins/images/18816/small/astro.png?1633506850',\n",
              "    'symbol': 'ASTRO',\n",
              "    'thumb': 'https://assets.coingecko.com/coins/images/18816/thumb/astro.png?1633506850'}},\n",
              "  {'item': {'coin_id': 10366,\n",
              "    'id': 'smooth-love-potion',\n",
              "    'large': 'https://assets.coingecko.com/coins/images/10366/large/SLP.png?1578640057',\n",
              "    'market_cap_rank': 316,\n",
              "    'name': 'Smooth Love Potion',\n",
              "    'price_btc': 1.4078448422696141e-06,\n",
              "    'score': 5,\n",
              "    'slug': 'smooth-love-potion',\n",
              "    'small': 'https://assets.coingecko.com/coins/images/10366/small/SLP.png?1578640057',\n",
              "    'symbol': 'SLP',\n",
              "    'thumb': 'https://assets.coingecko.com/coins/images/10366/thumb/SLP.png?1578640057'}},\n",
              "  {'item': {'coin_id': 13744,\n",
              "    'id': 'polkabridge',\n",
              "    'large': 'https://assets.coingecko.com/coins/images/13744/large/symbol-whitebg200x200.png?1611377553',\n",
              "    'market_cap_rank': 922,\n",
              "    'name': 'PolkaBridge',\n",
              "    'price_btc': 9.160595430090205e-06,\n",
              "    'score': 6,\n",
              "    'slug': 'polkabridge',\n",
              "    'small': 'https://assets.coingecko.com/coins/images/13744/small/symbol-whitebg200x200.png?1611377553',\n",
              "    'symbol': 'PBR',\n",
              "    'thumb': 'https://assets.coingecko.com/coins/images/13744/thumb/symbol-whitebg200x200.png?1611377553'}}],\n",
              " 'exchanges': []}"
            ]
          },
          "metadata": {},
          "execution_count": 22
        }
      ]
    },
    {
      "cell_type": "code",
      "metadata": {
        "colab": {
          "base_uri": "https://localhost:8080/"
        },
        "id": "MosmQzUlNPkq",
        "outputId": "e8f529e5-f7f0-4da6-a3d4-748c69357896"
      },
      "source": [
        "# testing to retrieve current bitcoin price\n",
        "cg.get_price(ids ='bitcoin', vs_currencies = 'usd')"
      ],
      "execution_count": 23,
      "outputs": [
        {
          "output_type": "execute_result",
          "data": {
            "text/plain": [
              "{'bitcoin': {'usd': 57427}}"
            ]
          },
          "metadata": {},
          "execution_count": 23
        }
      ]
    },
    {
      "cell_type": "code",
      "metadata": {
        "id": "tnYOGErvPPhP"
      },
      "source": [
        "# getting the price of bitcoin from 01/01/2020 -> 01/01/2021\n",
        "sample_data = cg.get_coin_market_chart_range_by_id(id = 'bitcoin', vs_currency = 'usd', from_timestamp = '1577854800', to_timestamp = '1609477200')"
      ],
      "execution_count": 24,
      "outputs": []
    },
    {
      "cell_type": "code",
      "metadata": {
        "id": "RgT01QmkwpxV"
      },
      "source": [
        "# putting sample data into a DataFrame\n",
        "sample_df = pd.DataFrame(sample_data, columns = ['market_caps', 'prices', 'total_volumes'])"
      ],
      "execution_count": 25,
      "outputs": []
    },
    {
      "cell_type": "code",
      "metadata": {
        "colab": {
          "base_uri": "https://localhost:8080/",
          "height": 204
        },
        "id": "isheOl4MAMpG",
        "outputId": "6b3bd81c-2fbd-4e8f-dc8a-7506b85f52cb"
      },
      "source": [
        "sample_df.head()"
      ],
      "execution_count": 26,
      "outputs": [
        {
          "output_type": "execute_result",
          "data": {
            "text/html": [
              "<div>\n",
              "<style scoped>\n",
              "    .dataframe tbody tr th:only-of-type {\n",
              "        vertical-align: middle;\n",
              "    }\n",
              "\n",
              "    .dataframe tbody tr th {\n",
              "        vertical-align: top;\n",
              "    }\n",
              "\n",
              "    .dataframe thead th {\n",
              "        text-align: right;\n",
              "    }\n",
              "</style>\n",
              "<table border=\"1\" class=\"dataframe\">\n",
              "  <thead>\n",
              "    <tr style=\"text-align: right;\">\n",
              "      <th></th>\n",
              "      <th>market_caps</th>\n",
              "      <th>prices</th>\n",
              "      <th>total_volumes</th>\n",
              "    </tr>\n",
              "  </thead>\n",
              "  <tbody>\n",
              "    <tr>\n",
              "      <th>0</th>\n",
              "      <td>[1577923200000, 130422953817.668]</td>\n",
              "      <td>[1577923200000, 7193.7546679601]</td>\n",
              "      <td>[1577923200000, 18123516838.8979]</td>\n",
              "    </tr>\n",
              "    <tr>\n",
              "      <th>1</th>\n",
              "      <td>[1578009600000, 126280790200.20206]</td>\n",
              "      <td>[1578009600000, 6963.853353983485]</td>\n",
              "      <td>[1578009600000, 20313194628.09452]</td>\n",
              "    </tr>\n",
              "    <tr>\n",
              "      <th>2</th>\n",
              "      <td>[1578096000000, 132766262579.09486]</td>\n",
              "      <td>[1578096000000, 7300.34693530511]</td>\n",
              "      <td>[1578096000000, 31015776262.21867]</td>\n",
              "    </tr>\n",
              "    <tr>\n",
              "      <th>3</th>\n",
              "      <td>[1578182400000, 133474716218.18333]</td>\n",
              "      <td>[1578182400000, 7351.377053166627]</td>\n",
              "      <td>[1578182400000, 20611640058.34164]</td>\n",
              "    </tr>\n",
              "    <tr>\n",
              "      <th>4</th>\n",
              "      <td>[1578268800000, 133388991086.87987]</td>\n",
              "      <td>[1578268800000, 7349.972248050628]</td>\n",
              "      <td>[1578268800000, 21929224570.56102]</td>\n",
              "    </tr>\n",
              "  </tbody>\n",
              "</table>\n",
              "</div>"
            ],
            "text/plain": [
              "                           market_caps  ...                       total_volumes\n",
              "0    [1577923200000, 130422953817.668]  ...   [1577923200000, 18123516838.8979]\n",
              "1  [1578009600000, 126280790200.20206]  ...  [1578009600000, 20313194628.09452]\n",
              "2  [1578096000000, 132766262579.09486]  ...  [1578096000000, 31015776262.21867]\n",
              "3  [1578182400000, 133474716218.18333]  ...  [1578182400000, 20611640058.34164]\n",
              "4  [1578268800000, 133388991086.87987]  ...  [1578268800000, 21929224570.56102]\n",
              "\n",
              "[5 rows x 3 columns]"
            ]
          },
          "metadata": {},
          "execution_count": 26
        }
      ]
    },
    {
      "cell_type": "code",
      "metadata": {
        "colab": {
          "base_uri": "https://localhost:8080/"
        },
        "id": "XGZPqXEhQFub",
        "outputId": "f323baa4-888f-48d3-8d7e-ff0c2fdd63f5"
      },
      "source": [
        "# checking market_caps column\n",
        "sample_df['market_caps']"
      ],
      "execution_count": 27,
      "outputs": [
        {
          "output_type": "execute_result",
          "data": {
            "text/plain": [
              "0        [1577923200000, 130422953817.668]\n",
              "1      [1578009600000, 126280790200.20206]\n",
              "2      [1578096000000, 132766262579.09486]\n",
              "3      [1578182400000, 133474716218.18333]\n",
              "4      [1578268800000, 133388991086.87987]\n",
              "                      ...                 \n",
              "361    [1609113600000, 493427450341.26013]\n",
              "362     [1609200000000, 503712223153.6673]\n",
              "363     [1609286400000, 509680257177.0481]\n",
              "364    [1609372800000, 535967306917.84125]\n",
              "365     [1609459200000, 539438036435.6701]\n",
              "Name: market_caps, Length: 366, dtype: object"
            ]
          },
          "metadata": {},
          "execution_count": 27
        }
      ]
    },
    {
      "cell_type": "code",
      "metadata": {
        "id": "e2YTRXyvRuRc"
      },
      "source": [
        "# spliting market_caps col to remove timestamp\n",
        "#sample_df['date'] = sample_df['market_caps'].str.split(', ')"
      ],
      "execution_count": 28,
      "outputs": []
    },
    {
      "cell_type": "code",
      "metadata": {
        "id": "UPz8m4OqScTr"
      },
      "source": [
        "new_market_caps = []\n",
        "new_prices = []\n",
        "new_total_volumes = []\n",
        "date = []\n",
        "\n",
        "for date1, mc in sample_df['market_caps']:\n",
        "  new_market_caps.append(mc)\n",
        " \n",
        "\n",
        "for date2, p in sample_df['prices']:\n",
        "  new_prices.append(p)\n",
        "\n",
        "for date3, tv in sample_df['total_volumes']:\n",
        "  new_total_volumes.append(tv) \n",
        "\n",
        "for date4, x in sample_df['market_caps']:\n",
        "  date.append(date4)"
      ],
      "execution_count": 29,
      "outputs": []
    },
    {
      "cell_type": "code",
      "metadata": {
        "id": "6xCev8t_TMdB"
      },
      "source": [
        "#new_total_volumes[0:5]"
      ],
      "execution_count": 30,
      "outputs": []
    },
    {
      "cell_type": "code",
      "metadata": {
        "id": "PR19ywyI2GwR"
      },
      "source": [
        "sample_df['market_caps'] = sample_df['market_caps'] = new_market_caps\n",
        "sample_df['prices'] = sample_df['prices'] = new_prices\n",
        "sample_df['total_volumes'] = sample_df['total_volumes'] = new_total_volumes\n",
        "\n",
        "sample_df['date'] = sample_df['date'] = date1\n",
        "#sample_df['date'] = sample_df['date'].astype('int')"
      ],
      "execution_count": 31,
      "outputs": []
    },
    {
      "cell_type": "code",
      "metadata": {
        "id": "YCDVf83SKtdb"
      },
      "source": [
        "#sample_df['date'] = sample_df['date'].astype('datetime64[ns]')"
      ],
      "execution_count": 16,
      "outputs": []
    },
    {
      "cell_type": "code",
      "metadata": {
        "colab": {
          "base_uri": "https://localhost:8080/"
        },
        "id": "d9Otg4z7Kajs",
        "outputId": "1f09c577-6b33-4f09-c983-8ed144092ac4"
      },
      "source": [
        "sample_df.info()"
      ],
      "execution_count": 32,
      "outputs": [
        {
          "output_type": "stream",
          "name": "stdout",
          "text": [
            "<class 'pandas.core.frame.DataFrame'>\n",
            "RangeIndex: 366 entries, 0 to 365\n",
            "Data columns (total 4 columns):\n",
            " #   Column         Non-Null Count  Dtype  \n",
            "---  ------         --------------  -----  \n",
            " 0   market_caps    366 non-null    float64\n",
            " 1   prices         366 non-null    float64\n",
            " 2   total_volumes  366 non-null    float64\n",
            " 3   date           366 non-null    int64  \n",
            "dtypes: float64(3), int64(1)\n",
            "memory usage: 11.6 KB\n"
          ]
        }
      ]
    },
    {
      "cell_type": "code",
      "metadata": {
        "id": "Ky7FLFM5FUoP"
      },
      "source": [
        "sample_df['date'] = pd.to_datetime(sample_df['date'], unit = 'ns')"
      ],
      "execution_count": 15,
      "outputs": []
    },
    {
      "cell_type": "code",
      "metadata": {
        "colab": {
          "base_uri": "https://localhost:8080/"
        },
        "id": "K8ShZd8sI2Cj",
        "outputId": "2698bd0c-80fe-4e4d-9a60-af7b5397c9cb"
      },
      "source": [
        "#pd.to_datetime(1578009600000, unit = 'ns')"
      ],
      "execution_count": 21,
      "outputs": [
        {
          "output_type": "execute_result",
          "data": {
            "text/plain": [
              "Timestamp('1970-01-01 00:26:18.009600')"
            ]
          },
          "metadata": {},
          "execution_count": 21
        }
      ]
    },
    {
      "cell_type": "code",
      "metadata": {
        "id": "XjHyH7ROEynl"
      },
      "source": [
        "sample_df.set_index('date', inplace = True)"
      ],
      "execution_count": 17,
      "outputs": []
    },
    {
      "cell_type": "code",
      "metadata": {
        "colab": {
          "base_uri": "https://localhost:8080/",
          "height": 359
        },
        "id": "N_ARjA0XBu07",
        "outputId": "8155dd9b-9bc9-421d-b69b-a3773e219048"
      },
      "source": [
        "sample_df.head(10)"
      ],
      "execution_count": 33,
      "outputs": [
        {
          "output_type": "execute_result",
          "data": {
            "text/html": [
              "<div>\n",
              "<style scoped>\n",
              "    .dataframe tbody tr th:only-of-type {\n",
              "        vertical-align: middle;\n",
              "    }\n",
              "\n",
              "    .dataframe tbody tr th {\n",
              "        vertical-align: top;\n",
              "    }\n",
              "\n",
              "    .dataframe thead th {\n",
              "        text-align: right;\n",
              "    }\n",
              "</style>\n",
              "<table border=\"1\" class=\"dataframe\">\n",
              "  <thead>\n",
              "    <tr style=\"text-align: right;\">\n",
              "      <th></th>\n",
              "      <th>market_caps</th>\n",
              "      <th>prices</th>\n",
              "      <th>total_volumes</th>\n",
              "      <th>date</th>\n",
              "    </tr>\n",
              "  </thead>\n",
              "  <tbody>\n",
              "    <tr>\n",
              "      <th>0</th>\n",
              "      <td>1.304230e+11</td>\n",
              "      <td>7193.754668</td>\n",
              "      <td>1.812352e+10</td>\n",
              "      <td>1609459200000</td>\n",
              "    </tr>\n",
              "    <tr>\n",
              "      <th>1</th>\n",
              "      <td>1.262808e+11</td>\n",
              "      <td>6963.853354</td>\n",
              "      <td>2.031319e+10</td>\n",
              "      <td>1609459200000</td>\n",
              "    </tr>\n",
              "    <tr>\n",
              "      <th>2</th>\n",
              "      <td>1.327663e+11</td>\n",
              "      <td>7300.346935</td>\n",
              "      <td>3.101578e+10</td>\n",
              "      <td>1609459200000</td>\n",
              "    </tr>\n",
              "    <tr>\n",
              "      <th>3</th>\n",
              "      <td>1.334747e+11</td>\n",
              "      <td>7351.377053</td>\n",
              "      <td>2.061164e+10</td>\n",
              "      <td>1609459200000</td>\n",
              "    </tr>\n",
              "    <tr>\n",
              "      <th>4</th>\n",
              "      <td>1.333890e+11</td>\n",
              "      <td>7349.972248</td>\n",
              "      <td>2.192922e+10</td>\n",
              "      <td>1609459200000</td>\n",
              "    </tr>\n",
              "    <tr>\n",
              "      <th>5</th>\n",
              "      <td>1.405572e+11</td>\n",
              "      <td>7734.675516</td>\n",
              "      <td>2.814852e+10</td>\n",
              "      <td>1609459200000</td>\n",
              "    </tr>\n",
              "    <tr>\n",
              "      <th>6</th>\n",
              "      <td>1.477986e+11</td>\n",
              "      <td>8147.415238</td>\n",
              "      <td>3.482319e+10</td>\n",
              "      <td>1609459200000</td>\n",
              "    </tr>\n",
              "    <tr>\n",
              "      <th>7</th>\n",
              "      <td>1.460896e+11</td>\n",
              "      <td>8045.789125</td>\n",
              "      <td>3.997151e+10</td>\n",
              "      <td>1609459200000</td>\n",
              "    </tr>\n",
              "    <tr>\n",
              "      <th>8</th>\n",
              "      <td>1.419139e+11</td>\n",
              "      <td>7832.795644</td>\n",
              "      <td>2.927605e+10</td>\n",
              "      <td>1609459200000</td>\n",
              "    </tr>\n",
              "    <tr>\n",
              "      <th>9</th>\n",
              "      <td>1.468799e+11</td>\n",
              "      <td>8180.513170</td>\n",
              "      <td>3.577730e+10</td>\n",
              "      <td>1609459200000</td>\n",
              "    </tr>\n",
              "  </tbody>\n",
              "</table>\n",
              "</div>"
            ],
            "text/plain": [
              "    market_caps       prices  total_volumes           date\n",
              "0  1.304230e+11  7193.754668   1.812352e+10  1609459200000\n",
              "1  1.262808e+11  6963.853354   2.031319e+10  1609459200000\n",
              "2  1.327663e+11  7300.346935   3.101578e+10  1609459200000\n",
              "3  1.334747e+11  7351.377053   2.061164e+10  1609459200000\n",
              "4  1.333890e+11  7349.972248   2.192922e+10  1609459200000\n",
              "5  1.405572e+11  7734.675516   2.814852e+10  1609459200000\n",
              "6  1.477986e+11  8147.415238   3.482319e+10  1609459200000\n",
              "7  1.460896e+11  8045.789125   3.997151e+10  1609459200000\n",
              "8  1.419139e+11  7832.795644   2.927605e+10  1609459200000\n",
              "9  1.468799e+11  8180.513170   3.577730e+10  1609459200000"
            ]
          },
          "metadata": {},
          "execution_count": 33
        }
      ]
    },
    {
      "cell_type": "code",
      "metadata": {
        "colab": {
          "base_uri": "https://localhost:8080/"
        },
        "id": "6MxLWWGO6Zdn",
        "outputId": "d2c2e7ee-4990-444f-bfd7-13339e126728"
      },
      "source": [
        "for i in c:\n",
        "  print(i)"
      ],
      "execution_count": null,
      "outputs": [
        {
          "output_type": "stream",
          "name": "stdout",
          "text": [
            "539438036435.6701\n"
          ]
        }
      ]
    },
    {
      "cell_type": "code",
      "metadata": {
        "id": "Ya3-dkj3ic5W"
      },
      "source": [
        "col_names = ['market_caps', 'prices', 'total_volumes']"
      ],
      "execution_count": null,
      "outputs": []
    },
    {
      "cell_type": "code",
      "metadata": {
        "id": "ucb7iBMroTMv"
      },
      "source": [
        "print(market_caps.values)"
      ],
      "execution_count": null,
      "outputs": []
    },
    {
      "cell_type": "code",
      "metadata": {
        "id": "_bJoFKFNTaUc"
      },
      "source": [
        "# price every day starting 01-01-2020"
      ],
      "execution_count": null,
      "outputs": []
    },
    {
      "cell_type": "code",
      "metadata": {
        "id": "PEV9De4oPwII"
      },
      "source": [
        "data = cg.get_coin_history_by_id(id = 'bitcoin', date ='10-11-2020', localization = 'false') "
      ],
      "execution_count": null,
      "outputs": []
    },
    {
      "cell_type": "code",
      "metadata": {
        "id": "CsnoB64uQskz"
      },
      "source": [
        ""
      ],
      "execution_count": null,
      "outputs": []
    }
  ]
}