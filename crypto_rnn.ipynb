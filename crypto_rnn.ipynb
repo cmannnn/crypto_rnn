{
  "nbformat": 4,
  "nbformat_minor": 0,
  "metadata": {
    "colab": {
      "name": "crypto_rnn.ipynb",
      "provenance": [],
      "authorship_tag": "ABX9TyNFM39+yk0JD2WnfghldXXd",
      "include_colab_link": true
    },
    "kernelspec": {
      "name": "python3",
      "display_name": "Python 3"
    },
    "language_info": {
      "name": "python"
    }
  },
  "cells": [
    {
      "cell_type": "markdown",
      "metadata": {
        "id": "view-in-github",
        "colab_type": "text"
      },
      "source": [
        "<a href=\"https://colab.research.google.com/github/cmannnn/crypto_rnn/blob/main/crypto_rnn.ipynb\" target=\"_parent\"><img src=\"https://colab.research.google.com/assets/colab-badge.svg\" alt=\"Open In Colab\"/></a>"
      ]
    },
    {
      "cell_type": "markdown",
      "metadata": {
        "id": "TESSNM0r6hx-"
      },
      "source": [
        "#Crypto RNN"
      ]
    },
    {
      "cell_type": "markdown",
      "metadata": {
        "id": "FfbyqnNa6n_r"
      },
      "source": [
        "##imports"
      ]
    },
    {
      "cell_type": "code",
      "metadata": {
        "colab": {
          "base_uri": "https://localhost:8080/"
        },
        "id": "ijFiAJKktEBu",
        "outputId": "5dced72b-811b-41b8-9481-b894f836c4bc"
      },
      "source": [
        "import matplotlib.pyplot as plt\n",
        "import pandas as pd\n",
        "\n",
        "!pip install pycoingecko\n",
        "from pycoingecko import CoinGeckoAPI"
      ],
      "execution_count": 1,
      "outputs": [
        {
          "output_type": "stream",
          "name": "stdout",
          "text": [
            "Collecting pycoingecko\n",
            "  Downloading pycoingecko-2.2.0-py3-none-any.whl (8.3 kB)\n",
            "Requirement already satisfied: requests in /usr/local/lib/python3.7/dist-packages (from pycoingecko) (2.23.0)\n",
            "Requirement already satisfied: certifi>=2017.4.17 in /usr/local/lib/python3.7/dist-packages (from requests->pycoingecko) (2021.5.30)\n",
            "Requirement already satisfied: urllib3!=1.25.0,!=1.25.1,<1.26,>=1.21.1 in /usr/local/lib/python3.7/dist-packages (from requests->pycoingecko) (1.24.3)\n",
            "Requirement already satisfied: idna<3,>=2.5 in /usr/local/lib/python3.7/dist-packages (from requests->pycoingecko) (2.10)\n",
            "Requirement already satisfied: chardet<4,>=3.0.2 in /usr/local/lib/python3.7/dist-packages (from requests->pycoingecko) (3.0.4)\n",
            "Installing collected packages: pycoingecko\n",
            "Successfully installed pycoingecko-2.2.0\n"
          ]
        }
      ]
    },
    {
      "cell_type": "code",
      "metadata": {
        "id": "LTi3Rsna6m5B"
      },
      "source": [
        "cg = CoinGeckoAPI()"
      ],
      "execution_count": 2,
      "outputs": []
    },
    {
      "cell_type": "code",
      "metadata": {
        "colab": {
          "base_uri": "https://localhost:8080/"
        },
        "id": "Z5GJKyho7RwO",
        "outputId": "4f43adab-a5e5-4cac-bf47-03c5f67eb6bb"
      },
      "source": [
        "cg.ping()"
      ],
      "execution_count": 3,
      "outputs": [
        {
          "output_type": "execute_result",
          "data": {
            "text/plain": [
              "{'gecko_says': '(V3) To the Moon!'}"
            ]
          },
          "metadata": {},
          "execution_count": 3
        }
      ]
    },
    {
      "cell_type": "code",
      "metadata": {
        "id": "0YxrVXdZ87hR",
        "colab": {
          "base_uri": "https://localhost:8080/"
        },
        "outputId": "e6d5b943-6987-4b30-d8cf-c8f321307760"
      },
      "source": [
        "cg.get_search_trending()"
      ],
      "execution_count": 4,
      "outputs": [
        {
          "output_type": "execute_result",
          "data": {
            "text/plain": [
              "{'coins': [{'item': {'coin_id': 18103,\n",
              "    'id': 'ariva',\n",
              "    'large': 'https://assets.coingecko.com/coins/images/18103/large/logo-200.png?1630479340',\n",
              "    'market_cap_rank': 664,\n",
              "    'name': 'Ariva',\n",
              "    'price_btc': 1.362319490533735e-08,\n",
              "    'score': 0,\n",
              "    'slug': 'ariva',\n",
              "    'small': 'https://assets.coingecko.com/coins/images/18103/small/logo-200.png?1630479340',\n",
              "    'symbol': 'ARV',\n",
              "    'thumb': 'https://assets.coingecko.com/coins/images/18103/thumb/logo-200.png?1630479340'}},\n",
              "  {'item': {'coin_id': 11939,\n",
              "    'id': 'shiba-inu',\n",
              "    'large': 'https://assets.coingecko.com/coins/images/11939/large/shiba.png?1622619446',\n",
              "    'market_cap_rank': 13,\n",
              "    'name': 'Shiba Inu',\n",
              "    'price_btc': 4.806226076649329e-10,\n",
              "    'score': 1,\n",
              "    'slug': 'shiba-inu',\n",
              "    'small': 'https://assets.coingecko.com/coins/images/11939/small/shiba.png?1622619446',\n",
              "    'symbol': 'SHIB',\n",
              "    'thumb': 'https://assets.coingecko.com/coins/images/11939/thumb/shiba.png?1622619446'}},\n",
              "  {'item': {'coin_id': 15861,\n",
              "    'id': 'spell-token',\n",
              "    'large': 'https://assets.coingecko.com/coins/images/15861/large/abracadabra-3.png?1622544862',\n",
              "    'market_cap_rank': 98,\n",
              "    'name': 'Spell Token',\n",
              "    'price_btc': 3.4451721118378255e-07,\n",
              "    'score': 2,\n",
              "    'slug': 'spell-token',\n",
              "    'small': 'https://assets.coingecko.com/coins/images/15861/small/abracadabra-3.png?1622544862',\n",
              "    'symbol': 'SPELL',\n",
              "    'thumb': 'https://assets.coingecko.com/coins/images/15861/thumb/abracadabra-3.png?1622544862'}},\n",
              "  {'item': {'coin_id': 18126,\n",
              "    'id': 'wonderland',\n",
              "    'large': 'https://assets.coingecko.com/coins/images/18126/large/time.PNG?1630621941',\n",
              "    'market_cap_rank': 127,\n",
              "    'name': 'Wonderland',\n",
              "    'price_btc': 0.13088036786027518,\n",
              "    'score': 3,\n",
              "    'slug': 'wonderland',\n",
              "    'small': 'https://assets.coingecko.com/coins/images/18126/small/time.PNG?1630621941',\n",
              "    'symbol': 'TIME',\n",
              "    'thumb': 'https://assets.coingecko.com/coins/images/18126/thumb/time.PNG?1630621941'}},\n",
              "  {'item': {'coin_id': 825,\n",
              "    'id': 'binancecoin',\n",
              "    'large': 'https://assets.coingecko.com/coins/images/825/large/binance-coin-logo.png?1547034615',\n",
              "    'market_cap_rank': 5,\n",
              "    'name': 'Binance Coin',\n",
              "    'price_btc': 0.007421114112358683,\n",
              "    'score': 4,\n",
              "    'slug': 'binance-coin',\n",
              "    'small': 'https://assets.coingecko.com/coins/images/825/small/binance-coin-logo.png?1547034615',\n",
              "    'symbol': 'BNB',\n",
              "    'thumb': 'https://assets.coingecko.com/coins/images/825/thumb/binance-coin-logo.png?1547034615'}},\n",
              "  {'item': {'coin_id': 17461,\n",
              "    'id': 'plant-vs-undead-token',\n",
              "    'large': 'https://assets.coingecko.com/coins/images/17461/large/token-200x200.png?1627883446',\n",
              "    'market_cap_rank': 602,\n",
              "    'name': 'Plant vs Undead Token',\n",
              "    'price_btc': 5.810914806189443e-05,\n",
              "    'score': 5,\n",
              "    'slug': 'plant-vs-undead-token',\n",
              "    'small': 'https://assets.coingecko.com/coins/images/17461/small/token-200x200.png?1627883446',\n",
              "    'symbol': 'PVU',\n",
              "    'thumb': 'https://assets.coingecko.com/coins/images/17461/thumb/token-200x200.png?1627883446'}},\n",
              "  {'item': {'coin_id': 10366,\n",
              "    'id': 'smooth-love-potion',\n",
              "    'large': 'https://assets.coingecko.com/coins/images/10366/large/SLP.png?1578640057',\n",
              "    'market_cap_rank': 323,\n",
              "    'name': 'Smooth Love Potion',\n",
              "    'price_btc': 1.3708480413005554e-06,\n",
              "    'score': 6,\n",
              "    'slug': 'smooth-love-potion',\n",
              "    'small': 'https://assets.coingecko.com/coins/images/10366/small/SLP.png?1578640057',\n",
              "    'symbol': 'SLP',\n",
              "    'thumb': 'https://assets.coingecko.com/coins/images/10366/thumb/SLP.png?1578640057'}}],\n",
              " 'exchanges': []}"
            ]
          },
          "metadata": {},
          "execution_count": 4
        }
      ]
    },
    {
      "cell_type": "code",
      "metadata": {
        "colab": {
          "base_uri": "https://localhost:8080/"
        },
        "id": "MosmQzUlNPkq",
        "outputId": "94a01b0d-e406-42c1-c0ad-2a4a1cee8e3e"
      },
      "source": [
        "cg.get_price(ids ='bitcoin', vs_currencies = 'usd')"
      ],
      "execution_count": 5,
      "outputs": [
        {
          "output_type": "execute_result",
          "data": {
            "text/plain": [
              "{'bitcoin': {'usd': 55215}}"
            ]
          },
          "metadata": {},
          "execution_count": 5
        }
      ]
    },
    {
      "cell_type": "code",
      "metadata": {
        "id": "tnYOGErvPPhP"
      },
      "source": [
        "sample_data = cg.get_coin_market_chart_range_by_id(id = 'bitcoin', vs_currency = 'usd', from_timestamp = '1577854800', to_timestamp = '1609477200')\n",
        "#sample_data"
      ],
      "execution_count": 6,
      "outputs": []
    },
    {
      "cell_type": "code",
      "metadata": {
        "id": "RgT01QmkwpxV"
      },
      "source": [
        "sample_df = pd.DataFrame(sample_data, columns = ['market_caps', 'prices', 'total_volumes'])"
      ],
      "execution_count": 7,
      "outputs": []
    },
    {
      "cell_type": "code",
      "metadata": {
        "id": "PR19ywyI2GwR"
      },
      "source": [
        "# NEED TO GRAB ONLY MARKET CAPS\n",
        "for a, b in sample_df['market_caps']:\n",
        "  sample_df['market_cap'] = b\n",
        "\n"
      ],
      "execution_count": 36,
      "outputs": []
    },
    {
      "cell_type": "code",
      "metadata": {
        "id": "Ya3-dkj3ic5W"
      },
      "source": [
        "col_names = ['market_caps', 'prices', 'total_volumes']"
      ],
      "execution_count": 8,
      "outputs": []
    },
    {
      "cell_type": "code",
      "metadata": {
        "id": "ucb7iBMroTMv"
      },
      "source": [
        "print(market_caps.values)"
      ],
      "execution_count": null,
      "outputs": []
    },
    {
      "cell_type": "code",
      "metadata": {
        "colab": {
          "base_uri": "https://localhost:8080/"
        },
        "id": "_bJoFKFNTaUc",
        "outputId": "8ee8fe02-8f22-4c51-ded0-5873e5220f43"
      },
      "source": [
        "# price every day starting 01-01-2020\n",
        "print(prices_split)"
      ],
      "execution_count": 17,
      "outputs": [
        {
          "output_type": "stream",
          "name": "stdout",
          "text": [
            "      0\n",
            "0   NaN\n",
            "1   NaN\n",
            "2   NaN\n",
            "3   NaN\n",
            "4   NaN\n",
            "..   ..\n",
            "361 NaN\n",
            "362 NaN\n",
            "363 NaN\n",
            "364 NaN\n",
            "365 NaN\n",
            "\n",
            "[366 rows x 1 columns]\n"
          ]
        }
      ]
    },
    {
      "cell_type": "code",
      "metadata": {
        "colab": {
          "base_uri": "https://localhost:8080/",
          "height": 188
        },
        "id": "9vwEH43GTumo",
        "outputId": "ff55ae71-2a35-4dec-bc6f-a1211df162eb"
      },
      "source": [
        "for a in sample_data_df['prices']:\n",
        "  a.str.split(',').apply(pd.Series)"
      ],
      "execution_count": 29,
      "outputs": [
        {
          "output_type": "error",
          "ename": "AttributeError",
          "evalue": "ignored",
          "traceback": [
            "\u001b[0;31m---------------------------------------------------------------------------\u001b[0m",
            "\u001b[0;31mAttributeError\u001b[0m                            Traceback (most recent call last)",
            "\u001b[0;32m<ipython-input-29-bf7df72ba537>\u001b[0m in \u001b[0;36m<module>\u001b[0;34m()\u001b[0m\n\u001b[1;32m      1\u001b[0m \u001b[0;32mfor\u001b[0m \u001b[0ma\u001b[0m \u001b[0;32min\u001b[0m \u001b[0msample_data_df\u001b[0m\u001b[0;34m[\u001b[0m\u001b[0;34m'prices'\u001b[0m\u001b[0;34m]\u001b[0m\u001b[0;34m:\u001b[0m\u001b[0;34m\u001b[0m\u001b[0;34m\u001b[0m\u001b[0m\n\u001b[0;32m----> 2\u001b[0;31m   \u001b[0ma\u001b[0m\u001b[0;34m.\u001b[0m\u001b[0mstr\u001b[0m\u001b[0;34m.\u001b[0m\u001b[0msplit\u001b[0m\u001b[0;34m(\u001b[0m\u001b[0;34m','\u001b[0m\u001b[0;34m)\u001b[0m\u001b[0;34m.\u001b[0m\u001b[0mapply\u001b[0m\u001b[0;34m(\u001b[0m\u001b[0mpd\u001b[0m\u001b[0;34m.\u001b[0m\u001b[0mSeries\u001b[0m\u001b[0;34m)\u001b[0m\u001b[0;34m\u001b[0m\u001b[0;34m\u001b[0m\u001b[0m\n\u001b[0m",
            "\u001b[0;31mAttributeError\u001b[0m: 'list' object has no attribute 'str'"
          ]
        }
      ]
    },
    {
      "cell_type": "code",
      "metadata": {
        "id": "PEV9De4oPwII"
      },
      "source": [
        "data = cg.get_coin_history_by_id(id = 'bitcoin', date ='10-11-2020', localization = 'false') "
      ],
      "execution_count": 10,
      "outputs": []
    },
    {
      "cell_type": "code",
      "metadata": {
        "colab": {
          "base_uri": "https://localhost:8080/"
        },
        "id": "UY61pt_vQr0x",
        "outputId": "ef41b986-d7ce-4e93-ef6d-9b30603707a3"
      },
      "source": [
        "data"
      ],
      "execution_count": 11,
      "outputs": [
        {
          "output_type": "execute_result",
          "data": {
            "text/plain": [
              "{'community_data': {'facebook_likes': None,\n",
              "  'reddit_accounts_active_48h': '4851.91666666667',\n",
              "  'reddit_average_comments_48h': 366.273,\n",
              "  'reddit_average_posts_48h': 6.727,\n",
              "  'reddit_subscribers': 1747658,\n",
              "  'twitter_followers': 72617},\n",
              " 'developer_data': {'closed_issues': 5211,\n",
              "  'code_additions_deletions_4_weeks': {'additions': 10865, 'deletions': -7137},\n",
              "  'commit_count_4_weeks': 280,\n",
              "  'forks': 26617,\n",
              "  'pull_request_contributors': 696,\n",
              "  'pull_requests_merged': 8022,\n",
              "  'stars': 45862,\n",
              "  'subscribers': 3589,\n",
              "  'total_issues': 5789},\n",
              " 'id': 'bitcoin',\n",
              " 'image': {'small': 'https://assets.coingecko.com/coins/images/1/small/bitcoin.png?1547033579',\n",
              "  'thumb': 'https://assets.coingecko.com/coins/images/1/thumb/bitcoin.png?1547033579'},\n",
              " 'market_data': {'current_price': {'aed': 56326.52786980459,\n",
              "   'ars': 1215617.24070744,\n",
              "   'aud': 21082.415040368352,\n",
              "   'bch': 58.03006574753659,\n",
              "   'bdt': 1301263.6700267561,\n",
              "   'bhd': 5783.172237724017,\n",
              "   'bits': 1000000.0,\n",
              "   'bmd': 15335.342198178862,\n",
              "   'bnb': 548.489735186886,\n",
              "   'brl': 82599.20481248871,\n",
              "   'btc': 1.0,\n",
              "   'cad': 19947.369687570146,\n",
              "   'chf': 13994.941278004791,\n",
              "   'clp': 11618071.458796967,\n",
              "   'cny': 101667.18463704686,\n",
              "   'czk': 343849.04276756675,\n",
              "   'dkk': 96585.05223257001,\n",
              "   'dot': 3530.9500103196324,\n",
              "   'eos': 6136.865733687228,\n",
              "   'eth': 34.44319624770999,\n",
              "   'eur': 12970.985144090215,\n",
              "   'gbp': 11647.729136493797,\n",
              "   'hkd': 118887.24039138111,\n",
              "   'huf': 4657417.832667269,\n",
              "   'idr': 218928088.9852976,\n",
              "   'ils': 51595.14541208477,\n",
              "   'inr': 1134162.0370875916,\n",
              "   'jpy': 1612209.6370241605,\n",
              "   'krw': 17170829.781274468,\n",
              "   'kwd': 4683.38283663943,\n",
              "   'link': 1223.3665779769478,\n",
              "   'lkr': 2831336.1357028554,\n",
              "   'ltc': 258.8060744084482,\n",
              "   'mmk': 19765626.652002573,\n",
              "   'mxn': 311877.92135280336,\n",
              "   'myr': 62999.11928433854,\n",
              "   'ngn': 5871717.3380903015,\n",
              "   'nok': 138488.39939348536,\n",
              "   'nzd': 22479.250019831645,\n",
              "   'php': 740617.5757641097,\n",
              "   'pkr': 2439015.894747048,\n",
              "   'pln': 58087.76125058096,\n",
              "   'rub': 1169868.8478618292,\n",
              "   'sar': 57513.391343890435,\n",
              "   'sats': 100000000.0,\n",
              "   'sek': 132177.69138414445,\n",
              "   'sgd': 20664.373612046023,\n",
              "   'thb': 468954.7644203092,\n",
              "   'try': 124294.78875730299,\n",
              "   'twd': 439265.5419246347,\n",
              "   'uah': 431086.5291752898,\n",
              "   'usd': 15335.342198178862,\n",
              "   'vef': 3810643025.7843738,\n",
              "   'vnd': 357418047.8297312,\n",
              "   'xag': 632.0976554477277,\n",
              "   'xau': 8.200114180210191,\n",
              "   'xdr': 10769.259394013277,\n",
              "   'xlm': 192403.97515238347,\n",
              "   'xrp': 61162.052643197574,\n",
              "   'yfi': 1.021790626535115,\n",
              "   'zar': 236109.06262004064},\n",
              "  'market_cap': {'aed': 1044201901812.6936,\n",
              "   'ars': 22535559755379.1,\n",
              "   'aud': 390833568347.0833,\n",
              "   'bch': 1075782713.8920283,\n",
              "   'bdt': 24123304779986.574,\n",
              "   'bhd': 107210575150.31131,\n",
              "   'bits': 18538368000000.0,\n",
              "   'bmd': 284292217075.7686,\n",
              "   'bnb': 10168104555.11704,\n",
              "   'brl': 1531254455321.2866,\n",
              "   'btc': 18538368.0,\n",
              "   'cad': 369791679900.22046,\n",
              "   'chf': 259443371550.0431,\n",
              "   'clp': 215380084153475.06,\n",
              "   'cny': 1884743682325.522,\n",
              "   'czk': 6374400091272.89,\n",
              "   'dkk': 1790529241586.6045,\n",
              "   'dot': 65458050680.909134,\n",
              "   'eos': 113767475337.68382,\n",
              "   'eth': 638520647.136267,\n",
              "   'eur': 240460895923.67734,\n",
              "   'gbp': 215929889096.6443,\n",
              "   'hkd': 2203975412879.8867,\n",
              "   'huf': 86340925711748.25,\n",
              "   'idr': 4058569479146193.5,\n",
              "   'ils': 956489792662.7391,\n",
              "   'inr': 21025513215159.43,\n",
              "   'jpy': 29887735544300.305,\n",
              "   'krw': 318319161350625.6,\n",
              "   'kwd': 86822274510.50563,\n",
              "   'link': 22679219821.43736,\n",
              "   'lkr': 52488351215357.46,\n",
              "   'ltc': 4797842248.019195,\n",
              "   'mmk': 366422460625431.56,\n",
              "   'mxn': 5781707677113.327,\n",
              "   'myr': 1167900856968.9646,\n",
              "   'ngn': 108852056805498.42,\n",
              "   'nok': 2567348911687.409,\n",
              "   'nzd': 416728609231.64624,\n",
              "   'php': 13729841166782.947,\n",
              "   'pkr': 45215374214670.04,\n",
              "   'pln': 1076852294359.41,\n",
              "   'rub': 21687459213398.598,\n",
              "   'sar': 1066204413661.0553,\n",
              "   'sats': 1853836800000000,\n",
              "   'sek': 2450358684269.698,\n",
              "   'sgd': 383083762509.5983,\n",
              "   'thb': 8693655998176.999,\n",
              "   'try': 2304222534465.1455,\n",
              "   'twd': 8143266265918.307,\n",
              "   'uah': 7991640717694.259,\n",
              "   'usd': 284292217075.7686,\n",
              "   'vef': 70643102728624216,\n",
              "   'vnd': 6625947300509158,\n",
              "   'xag': 11718058948.62718,\n",
              "   'xau': 152016734.31475484,\n",
              "   'xdr': 199644493733.67517,\n",
              "   'xlm': 3566855696037.741,\n",
              "   'xrp': 1133844639534.9692,\n",
              "   'yfi': 18942330.653658528,\n",
              "   'zar': 4377076690985.357},\n",
              "  'total_volume': {'aed': 108359588578.09189,\n",
              "   'ars': 2338574541217.3315,\n",
              "   'aud': 40557831387.85573,\n",
              "   'bch': 111636812.83705766,\n",
              "   'bdt': 2503339034879.6304,\n",
              "   'bhd': 11125524474.089893,\n",
              "   'bits': 1924639305469.634,\n",
              "   'bmd': 29501754042.78257,\n",
              "   'bnb': 1055171058.6801296,\n",
              "   'brl': 158902318123.4813,\n",
              "   'btc': 1924639.305469634,\n",
              "   'cad': 38374259062.37918,\n",
              "   'chf': 26923123728.919025,\n",
              "   'clp': 22350560046166.02,\n",
              "   'cny': 195584828602.03186,\n",
              "   'czk': 661488329147.2714,\n",
              "   'dkk': 185807947312.25302,\n",
              "   'dot': 6792754761.88467,\n",
              "   'eos': 11805951320.103003,\n",
              "   'eth': 66260973.57435572,\n",
              "   'eur': 24953262109.728436,\n",
              "   'gbp': 22407614756.88489,\n",
              "   'hkd': 228712348216.6709,\n",
              "   'huf': 8959825845303.688,\n",
              "   'idr': 421168471549834.2,\n",
              "   'ils': 99257471406.7801,\n",
              "   'inr': 2181873024443.6846,\n",
              "   'jpy': 3101529236337.4106,\n",
              "   'krw': 33032819898717.54,\n",
              "   'kwd': 9009776681.157717,\n",
              "   'link': 2353482525.608233,\n",
              "   'lkr': 5446854801705.539,\n",
              "   'ltc': 497884758.8339333,\n",
              "   'mmk': 38024626281772.57,\n",
              "   'mxn': 599983072318.8782,\n",
              "   'myr': 121196155783.15501,\n",
              "   'ngn': 11295865359799.629,\n",
              "   'nok': 266420575679.78058,\n",
              "   'nzd': 43245028156.59657,\n",
              "   'php': 1424781871678.7017,\n",
              "   'pkr': 4692118773965.779,\n",
              "   'pln': 111747806026.39725,\n",
              "   'rub': 2250564908556.8955,\n",
              "   'sar': 110642847330.47899,\n",
              "   'sats': 192463930546963.4,\n",
              "   'sek': 254280190866.61987,\n",
              "   'sgd': 39753613572.649536,\n",
              "   'thb': 902163638628.2904,\n",
              "   'try': 239115256727.237,\n",
              "   'twd': 845048242801.4629,\n",
              "   'uah': 829313659293.2701,\n",
              "   'usd': 29501754042.78257,\n",
              "   'vef': 7330821304064920,\n",
              "   'vnd': 687592047262983.6,\n",
              "   'xag': 1216013918.7668674,\n",
              "   'xau': 15775177.92175668,\n",
              "   'xdr': 20717636278.298054,\n",
              "   'xlm': 370142033900.83765,\n",
              "   'xrp': 117662052174.20015,\n",
              "   'yfi': 1965695.6693695087,\n",
              "   'zar': 454220805944.2968}},\n",
              " 'name': 'Bitcoin',\n",
              " 'public_interest_stats': {'alexa_rank': 9292, 'bing_matches': None},\n",
              " 'symbol': 'btc'}"
            ]
          },
          "metadata": {},
          "execution_count": 11
        }
      ]
    },
    {
      "cell_type": "code",
      "metadata": {
        "id": "CsnoB64uQskz"
      },
      "source": [
        ""
      ],
      "execution_count": 11,
      "outputs": []
    }
  ]
}