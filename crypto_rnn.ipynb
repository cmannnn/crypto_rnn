{
  "nbformat": 4,
  "nbformat_minor": 0,
  "metadata": {
    "colab": {
      "name": "crypto_rnn.ipynb",
      "provenance": [],
      "authorship_tag": "ABX9TyP0gTuGRdE3V8BlDDZ3Y0Dy",
      "include_colab_link": true
    },
    "kernelspec": {
      "name": "python3",
      "display_name": "Python 3"
    },
    "language_info": {
      "name": "python"
    },
    "accelerator": "GPU"
  },
  "cells": [
    {
      "cell_type": "markdown",
      "metadata": {
        "id": "view-in-github",
        "colab_type": "text"
      },
      "source": [
        "<a href=\"https://colab.research.google.com/github/cmannnn/crypto_rnn/blob/main/crypto_rnn.ipynb\" target=\"_parent\"><img src=\"https://colab.research.google.com/assets/colab-badge.svg\" alt=\"Open In Colab\"/></a>"
      ]
    },
    {
      "cell_type": "markdown",
      "metadata": {
        "id": "TESSNM0r6hx-"
      },
      "source": [
        "#Crypto RNN"
      ]
    },
    {
      "cell_type": "markdown",
      "metadata": {
        "id": "FfbyqnNa6n_r"
      },
      "source": [
        "##imports"
      ]
    },
    {
      "cell_type": "code",
      "metadata": {
        "colab": {
          "base_uri": "https://localhost:8080/"
        },
        "id": "ijFiAJKktEBu",
        "outputId": "36334d75-b150-45ea-f8ac-0f155d37c708"
      },
      "source": [
        "import matplotlib.pyplot as plt\n",
        "import pandas as pd\n",
        "\n",
        "!pip install pycoingecko\n",
        "from pycoingecko import CoinGeckoAPI"
      ],
      "execution_count": 1,
      "outputs": [
        {
          "output_type": "stream",
          "name": "stdout",
          "text": [
            "Collecting pycoingecko\n",
            "  Downloading pycoingecko-2.2.0-py3-none-any.whl (8.3 kB)\n",
            "Requirement already satisfied: requests in /usr/local/lib/python3.7/dist-packages (from pycoingecko) (2.23.0)\n",
            "Requirement already satisfied: chardet<4,>=3.0.2 in /usr/local/lib/python3.7/dist-packages (from requests->pycoingecko) (3.0.4)\n",
            "Requirement already satisfied: urllib3!=1.25.0,!=1.25.1,<1.26,>=1.21.1 in /usr/local/lib/python3.7/dist-packages (from requests->pycoingecko) (1.24.3)\n",
            "Requirement already satisfied: certifi>=2017.4.17 in /usr/local/lib/python3.7/dist-packages (from requests->pycoingecko) (2021.5.30)\n",
            "Requirement already satisfied: idna<3,>=2.5 in /usr/local/lib/python3.7/dist-packages (from requests->pycoingecko) (2.10)\n",
            "Installing collected packages: pycoingecko\n",
            "Successfully installed pycoingecko-2.2.0\n"
          ]
        }
      ]
    },
    {
      "cell_type": "code",
      "metadata": {
        "id": "LTi3Rsna6m5B"
      },
      "source": [
        "# initializing CoinGeckoAPI\n",
        "cg = CoinGeckoAPI()"
      ],
      "execution_count": 2,
      "outputs": []
    },
    {
      "cell_type": "code",
      "metadata": {
        "colab": {
          "base_uri": "https://localhost:8080/"
        },
        "id": "Z5GJKyho7RwO",
        "outputId": "0d3685a5-ed3f-41b1-a2d8-e3f44ff78ac5"
      },
      "source": [
        "# checking status of the API\n",
        "cg.ping()"
      ],
      "execution_count": 3,
      "outputs": [
        {
          "output_type": "execute_result",
          "data": {
            "text/plain": [
              "{'gecko_says': '(V3) To the Moon!'}"
            ]
          },
          "metadata": {},
          "execution_count": 3
        }
      ]
    },
    {
      "cell_type": "code",
      "metadata": {
        "id": "0YxrVXdZ87hR",
        "colab": {
          "base_uri": "https://localhost:8080/"
        },
        "outputId": "924f30b4-0530-4219-ad9a-c9bd690931d8"
      },
      "source": [
        "# which coins are currently trending?\n",
        "cg.get_search_trending()"
      ],
      "execution_count": 4,
      "outputs": [
        {
          "output_type": "execute_result",
          "data": {
            "text/plain": [
              "{'coins': [{'item': {'coin_id': 6111,\n",
              "    'id': 'taboo-token',\n",
              "    'large': 'https://assets.coingecko.com/coins/images/6111/large/taboo.PNG?1624500776',\n",
              "    'market_cap_rank': 441,\n",
              "    'name': 'Taboo Token',\n",
              "    'price_btc': 1.6765740098869905e-07,\n",
              "    'score': 0,\n",
              "    'slug': 'taboo-token',\n",
              "    'small': 'https://assets.coingecko.com/coins/images/6111/small/taboo.PNG?1624500776',\n",
              "    'symbol': 'TABOO',\n",
              "    'thumb': 'https://assets.coingecko.com/coins/images/6111/thumb/taboo.PNG?1624500776'}},\n",
              "  {'item': {'coin_id': 14465,\n",
              "    'id': 'cellframe',\n",
              "    'large': 'https://assets.coingecko.com/coins/images/14465/large/cellframe_logo.png?1616333567',\n",
              "    'market_cap_rank': 870,\n",
              "    'name': 'Cellframe',\n",
              "    'price_btc': 1.579079509980935e-05,\n",
              "    'score': 1,\n",
              "    'slug': 'cellframe',\n",
              "    'small': 'https://assets.coingecko.com/coins/images/14465/small/cellframe_logo.png?1616333567',\n",
              "    'symbol': 'CELL',\n",
              "    'thumb': 'https://assets.coingecko.com/coins/images/14465/thumb/cellframe_logo.png?1616333567'}},\n",
              "  {'item': {'coin_id': 17461,\n",
              "    'id': 'plant-vs-undead-token',\n",
              "    'large': 'https://assets.coingecko.com/coins/images/17461/large/token-200x200.png?1627883446',\n",
              "    'market_cap_rank': 760,\n",
              "    'name': 'Plant vs Undead Token',\n",
              "    'price_btc': 3.477623602321487e-05,\n",
              "    'score': 2,\n",
              "    'slug': 'plant-vs-undead-token',\n",
              "    'small': 'https://assets.coingecko.com/coins/images/17461/small/token-200x200.png?1627883446',\n",
              "    'symbol': 'PVU',\n",
              "    'thumb': 'https://assets.coingecko.com/coins/images/17461/thumb/token-200x200.png?1627883446'}},\n",
              "  {'item': {'coin_id': 10366,\n",
              "    'id': 'smooth-love-potion',\n",
              "    'large': 'https://assets.coingecko.com/coins/images/10366/large/SLP.png?1578640057',\n",
              "    'market_cap_rank': 316,\n",
              "    'name': 'Smooth Love Potion',\n",
              "    'price_btc': 1.394985702171746e-06,\n",
              "    'score': 3,\n",
              "    'slug': 'smooth-love-potion',\n",
              "    'small': 'https://assets.coingecko.com/coins/images/10366/small/SLP.png?1578640057',\n",
              "    'symbol': 'SLP',\n",
              "    'thumb': 'https://assets.coingecko.com/coins/images/10366/thumb/SLP.png?1578640057'}},\n",
              "  {'item': {'coin_id': 11939,\n",
              "    'id': 'shiba-inu',\n",
              "    'large': 'https://assets.coingecko.com/coins/images/11939/large/shiba.png?1622619446',\n",
              "    'market_cap_rank': 13,\n",
              "    'name': 'Shiba Inu',\n",
              "    'price_btc': 4.770080222863473e-10,\n",
              "    'score': 4,\n",
              "    'slug': 'shiba-inu',\n",
              "    'small': 'https://assets.coingecko.com/coins/images/11939/small/shiba.png?1622619446',\n",
              "    'symbol': 'SHIB',\n",
              "    'thumb': 'https://assets.coingecko.com/coins/images/11939/thumb/shiba.png?1622619446'}},\n",
              "  {'item': {'coin_id': 18816,\n",
              "    'id': 'astroswap',\n",
              "    'large': 'https://assets.coingecko.com/coins/images/18816/large/astro.png?1633506850',\n",
              "    'market_cap_rank': 443,\n",
              "    'name': 'AstroSwap',\n",
              "    'price_btc': 6.9746140182963674e-06,\n",
              "    'score': 5,\n",
              "    'slug': 'astroswap',\n",
              "    'small': 'https://assets.coingecko.com/coins/images/18816/small/astro.png?1633506850',\n",
              "    'symbol': 'ASTRO',\n",
              "    'thumb': 'https://assets.coingecko.com/coins/images/18816/thumb/astro.png?1633506850'}},\n",
              "  {'item': {'coin_id': 13744,\n",
              "    'id': 'polkabridge',\n",
              "    'large': 'https://assets.coingecko.com/coins/images/13744/large/symbol-whitebg200x200.png?1611377553',\n",
              "    'market_cap_rank': 919,\n",
              "    'name': 'PolkaBridge',\n",
              "    'price_btc': 9.185378415104554e-06,\n",
              "    'score': 6,\n",
              "    'slug': 'polkabridge',\n",
              "    'small': 'https://assets.coingecko.com/coins/images/13744/small/symbol-whitebg200x200.png?1611377553',\n",
              "    'symbol': 'PBR',\n",
              "    'thumb': 'https://assets.coingecko.com/coins/images/13744/thumb/symbol-whitebg200x200.png?1611377553'}}],\n",
              " 'exchanges': []}"
            ]
          },
          "metadata": {},
          "execution_count": 4
        }
      ]
    },
    {
      "cell_type": "code",
      "metadata": {
        "colab": {
          "base_uri": "https://localhost:8080/"
        },
        "id": "MosmQzUlNPkq",
        "outputId": "5abf5e2d-70f1-473c-f55f-3f63951bb851"
      },
      "source": [
        "# testing to retrieve current bitcoin price\n",
        "cg.get_price(ids ='bitcoin', vs_currencies = 'usd')"
      ],
      "execution_count": 5,
      "outputs": [
        {
          "output_type": "execute_result",
          "data": {
            "text/plain": [
              "{'bitcoin': {'usd': 57397}}"
            ]
          },
          "metadata": {},
          "execution_count": 5
        }
      ]
    },
    {
      "cell_type": "code",
      "metadata": {
        "id": "tnYOGErvPPhP"
      },
      "source": [
        "# getting the price of bitcoin from 01/01/2020 -> 01/01/2021\n",
        "sample_data = cg.get_coin_market_chart_range_by_id(id = 'bitcoin', vs_currency = 'usd', from_timestamp = '1577768400', to_timestamp = '1609477200')"
      ],
      "execution_count": 6,
      "outputs": []
    },
    {
      "cell_type": "code",
      "metadata": {
        "id": "RgT01QmkwpxV"
      },
      "source": [
        "# putting sample data into a DataFrame\n",
        "sample_df = pd.DataFrame(sample_data, columns = ['market_caps', 'prices', 'total_volumes'])"
      ],
      "execution_count": 7,
      "outputs": []
    },
    {
      "cell_type": "code",
      "metadata": {
        "colab": {
          "base_uri": "https://localhost:8080/",
          "height": 204
        },
        "id": "isheOl4MAMpG",
        "outputId": "debb380c-4fc1-4917-ac8d-03fd209e1833"
      },
      "source": [
        "sample_df.head()"
      ],
      "execution_count": 8,
      "outputs": [
        {
          "output_type": "execute_result",
          "data": {
            "text/html": [
              "<div>\n",
              "<style scoped>\n",
              "    .dataframe tbody tr th:only-of-type {\n",
              "        vertical-align: middle;\n",
              "    }\n",
              "\n",
              "    .dataframe tbody tr th {\n",
              "        vertical-align: top;\n",
              "    }\n",
              "\n",
              "    .dataframe thead th {\n",
              "        text-align: right;\n",
              "    }\n",
              "</style>\n",
              "<table border=\"1\" class=\"dataframe\">\n",
              "  <thead>\n",
              "    <tr style=\"text-align: right;\">\n",
              "      <th></th>\n",
              "      <th>market_caps</th>\n",
              "      <th>prices</th>\n",
              "      <th>total_volumes</th>\n",
              "    </tr>\n",
              "  </thead>\n",
              "  <tbody>\n",
              "    <tr>\n",
              "      <th>0</th>\n",
              "      <td>[1577836800000, 130394101535.60994]</td>\n",
              "      <td>[1577836800000, 7195.153895430029]</td>\n",
              "      <td>[1577836800000, 21187883711.18498]</td>\n",
              "    </tr>\n",
              "    <tr>\n",
              "      <th>1</th>\n",
              "      <td>[1577923200000, 130422953817.668]</td>\n",
              "      <td>[1577923200000, 7193.7546679601]</td>\n",
              "      <td>[1577923200000, 18123516838.8979]</td>\n",
              "    </tr>\n",
              "    <tr>\n",
              "      <th>2</th>\n",
              "      <td>[1578009600000, 126280790200.20206]</td>\n",
              "      <td>[1578009600000, 6963.853353983485]</td>\n",
              "      <td>[1578009600000, 20313194628.09452]</td>\n",
              "    </tr>\n",
              "    <tr>\n",
              "      <th>3</th>\n",
              "      <td>[1578096000000, 132766262579.09486]</td>\n",
              "      <td>[1578096000000, 7300.34693530511]</td>\n",
              "      <td>[1578096000000, 31015776262.21867]</td>\n",
              "    </tr>\n",
              "    <tr>\n",
              "      <th>4</th>\n",
              "      <td>[1578182400000, 133474716218.18333]</td>\n",
              "      <td>[1578182400000, 7351.377053166627]</td>\n",
              "      <td>[1578182400000, 20611640058.34164]</td>\n",
              "    </tr>\n",
              "  </tbody>\n",
              "</table>\n",
              "</div>"
            ],
            "text/plain": [
              "                           market_caps  ...                       total_volumes\n",
              "0  [1577836800000, 130394101535.60994]  ...  [1577836800000, 21187883711.18498]\n",
              "1    [1577923200000, 130422953817.668]  ...   [1577923200000, 18123516838.8979]\n",
              "2  [1578009600000, 126280790200.20206]  ...  [1578009600000, 20313194628.09452]\n",
              "3  [1578096000000, 132766262579.09486]  ...  [1578096000000, 31015776262.21867]\n",
              "4  [1578182400000, 133474716218.18333]  ...  [1578182400000, 20611640058.34164]\n",
              "\n",
              "[5 rows x 3 columns]"
            ]
          },
          "metadata": {},
          "execution_count": 8
        }
      ]
    },
    {
      "cell_type": "code",
      "metadata": {
        "colab": {
          "base_uri": "https://localhost:8080/"
        },
        "id": "XGZPqXEhQFub",
        "outputId": "af12eb8f-cde6-4ebf-c62c-8ff1278afda2"
      },
      "source": [
        "# checking market_caps column\n",
        "sample_df['market_caps']"
      ],
      "execution_count": 9,
      "outputs": [
        {
          "output_type": "execute_result",
          "data": {
            "text/plain": [
              "0      [1577836800000, 130394101535.60994]\n",
              "1        [1577923200000, 130422953817.668]\n",
              "2      [1578009600000, 126280790200.20206]\n",
              "3      [1578096000000, 132766262579.09486]\n",
              "4      [1578182400000, 133474716218.18333]\n",
              "                      ...                 \n",
              "362    [1609113600000, 493427450341.26013]\n",
              "363     [1609200000000, 503712223153.6673]\n",
              "364     [1609286400000, 509680257177.0481]\n",
              "365    [1609372800000, 535967306917.84125]\n",
              "366     [1609459200000, 539438036435.6701]\n",
              "Name: market_caps, Length: 367, dtype: object"
            ]
          },
          "metadata": {},
          "execution_count": 9
        }
      ]
    },
    {
      "cell_type": "code",
      "metadata": {
        "id": "e2YTRXyvRuRc"
      },
      "source": [
        "# spliting market_caps col to remove timestamp\n",
        "#sample_df['date'] = sample_df['market_caps'].str.split(', ')"
      ],
      "execution_count": 10,
      "outputs": []
    },
    {
      "cell_type": "code",
      "metadata": {
        "id": "UPz8m4OqScTr"
      },
      "source": [
        "new_market_caps = []\n",
        "new_prices = []\n",
        "new_total_volumes = []\n",
        "date = []\n",
        "\n",
        "for date1, mc in sample_df['market_caps']:\n",
        "  new_market_caps.append(mc)\n",
        "\n",
        "for date2, p in sample_df['prices']:\n",
        "  new_prices.append(p)\n",
        "\n",
        "for date3, tv in sample_df['total_volumes']:\n",
        "  new_total_volumes.append(tv) \n",
        "\n",
        "for date4, x in sample_df['market_caps']:\n",
        "  date.append(date4)"
      ],
      "execution_count": 11,
      "outputs": []
    },
    {
      "cell_type": "code",
      "metadata": {
        "colab": {
          "base_uri": "https://localhost:8080/"
        },
        "id": "SN9J3UdMMILi",
        "outputId": "a9e3df65-4d8a-4ec7-ea1c-238b37da699d"
      },
      "source": [
        "sample_df['market_caps'].head()"
      ],
      "execution_count": 12,
      "outputs": [
        {
          "output_type": "execute_result",
          "data": {
            "text/plain": [
              "0    [1577836800000, 130394101535.60994]\n",
              "1      [1577923200000, 130422953817.668]\n",
              "2    [1578009600000, 126280790200.20206]\n",
              "3    [1578096000000, 132766262579.09486]\n",
              "4    [1578182400000, 133474716218.18333]\n",
              "Name: market_caps, dtype: object"
            ]
          },
          "metadata": {},
          "execution_count": 12
        }
      ]
    },
    {
      "cell_type": "code",
      "metadata": {
        "id": "6xCev8t_TMdB"
      },
      "source": [
        "#new_total_volumes[0:5]"
      ],
      "execution_count": 13,
      "outputs": []
    },
    {
      "cell_type": "code",
      "metadata": {
        "id": "PR19ywyI2GwR"
      },
      "source": [
        "sample_df['market_caps'] = sample_df['market_caps'] = new_market_caps\n",
        "\n",
        "sample_df['prices'] = sample_df['prices'] = new_prices\n",
        "\n",
        "sample_df['total_volumes'] = sample_df['total_volumes'] = new_total_volumes\n",
        "\n",
        "sample_df['date'] = sample_df['date'] = date\n",
        "sample_df['date'] = pd.to_datetime(sample_df['date'], unit = 'ms')\n",
        "sample_df.set_index('date', inplace = True)"
      ],
      "execution_count": 14,
      "outputs": []
    },
    {
      "cell_type": "code",
      "metadata": {
        "colab": {
          "base_uri": "https://localhost:8080/",
          "height": 390
        },
        "id": "N_ARjA0XBu07",
        "outputId": "23403bd9-934f-4677-d6e3-8850fbdbc46c"
      },
      "source": [
        "sample_df.head(10)"
      ],
      "execution_count": 15,
      "outputs": [
        {
          "output_type": "execute_result",
          "data": {
            "text/html": [
              "<div>\n",
              "<style scoped>\n",
              "    .dataframe tbody tr th:only-of-type {\n",
              "        vertical-align: middle;\n",
              "    }\n",
              "\n",
              "    .dataframe tbody tr th {\n",
              "        vertical-align: top;\n",
              "    }\n",
              "\n",
              "    .dataframe thead th {\n",
              "        text-align: right;\n",
              "    }\n",
              "</style>\n",
              "<table border=\"1\" class=\"dataframe\">\n",
              "  <thead>\n",
              "    <tr style=\"text-align: right;\">\n",
              "      <th></th>\n",
              "      <th>market_caps</th>\n",
              "      <th>prices</th>\n",
              "      <th>total_volumes</th>\n",
              "    </tr>\n",
              "    <tr>\n",
              "      <th>date</th>\n",
              "      <th></th>\n",
              "      <th></th>\n",
              "      <th></th>\n",
              "    </tr>\n",
              "  </thead>\n",
              "  <tbody>\n",
              "    <tr>\n",
              "      <th>2020-01-01</th>\n",
              "      <td>1.303941e+11</td>\n",
              "      <td>7195.153895</td>\n",
              "      <td>2.118788e+10</td>\n",
              "    </tr>\n",
              "    <tr>\n",
              "      <th>2020-01-02</th>\n",
              "      <td>1.304230e+11</td>\n",
              "      <td>7193.754668</td>\n",
              "      <td>1.812352e+10</td>\n",
              "    </tr>\n",
              "    <tr>\n",
              "      <th>2020-01-03</th>\n",
              "      <td>1.262808e+11</td>\n",
              "      <td>6963.853354</td>\n",
              "      <td>2.031319e+10</td>\n",
              "    </tr>\n",
              "    <tr>\n",
              "      <th>2020-01-04</th>\n",
              "      <td>1.327663e+11</td>\n",
              "      <td>7300.346935</td>\n",
              "      <td>3.101578e+10</td>\n",
              "    </tr>\n",
              "    <tr>\n",
              "      <th>2020-01-05</th>\n",
              "      <td>1.334747e+11</td>\n",
              "      <td>7351.377053</td>\n",
              "      <td>2.061164e+10</td>\n",
              "    </tr>\n",
              "    <tr>\n",
              "      <th>2020-01-06</th>\n",
              "      <td>1.333890e+11</td>\n",
              "      <td>7349.972248</td>\n",
              "      <td>2.192922e+10</td>\n",
              "    </tr>\n",
              "    <tr>\n",
              "      <th>2020-01-07</th>\n",
              "      <td>1.405572e+11</td>\n",
              "      <td>7734.675516</td>\n",
              "      <td>2.814852e+10</td>\n",
              "    </tr>\n",
              "    <tr>\n",
              "      <th>2020-01-08</th>\n",
              "      <td>1.477986e+11</td>\n",
              "      <td>8147.415238</td>\n",
              "      <td>3.482319e+10</td>\n",
              "    </tr>\n",
              "    <tr>\n",
              "      <th>2020-01-09</th>\n",
              "      <td>1.460896e+11</td>\n",
              "      <td>8045.789125</td>\n",
              "      <td>3.997151e+10</td>\n",
              "    </tr>\n",
              "    <tr>\n",
              "      <th>2020-01-10</th>\n",
              "      <td>1.419139e+11</td>\n",
              "      <td>7832.795644</td>\n",
              "      <td>2.927605e+10</td>\n",
              "    </tr>\n",
              "  </tbody>\n",
              "</table>\n",
              "</div>"
            ],
            "text/plain": [
              "             market_caps       prices  total_volumes\n",
              "date                                                \n",
              "2020-01-01  1.303941e+11  7195.153895   2.118788e+10\n",
              "2020-01-02  1.304230e+11  7193.754668   1.812352e+10\n",
              "2020-01-03  1.262808e+11  6963.853354   2.031319e+10\n",
              "2020-01-04  1.327663e+11  7300.346935   3.101578e+10\n",
              "2020-01-05  1.334747e+11  7351.377053   2.061164e+10\n",
              "2020-01-06  1.333890e+11  7349.972248   2.192922e+10\n",
              "2020-01-07  1.405572e+11  7734.675516   2.814852e+10\n",
              "2020-01-08  1.477986e+11  8147.415238   3.482319e+10\n",
              "2020-01-09  1.460896e+11  8045.789125   3.997151e+10\n",
              "2020-01-10  1.419139e+11  7832.795644   2.927605e+10"
            ]
          },
          "metadata": {},
          "execution_count": 15
        }
      ]
    },
    {
      "cell_type": "code",
      "metadata": {
        "colab": {
          "base_uri": "https://localhost:8080/",
          "height": 235
        },
        "id": "Z__lMQmWOBSE",
        "outputId": "04285a28-79c3-44bf-8a42-ff7df591361f"
      },
      "source": [
        "sample_df.tail()"
      ],
      "execution_count": 16,
      "outputs": [
        {
          "output_type": "execute_result",
          "data": {
            "text/html": [
              "<div>\n",
              "<style scoped>\n",
              "    .dataframe tbody tr th:only-of-type {\n",
              "        vertical-align: middle;\n",
              "    }\n",
              "\n",
              "    .dataframe tbody tr th {\n",
              "        vertical-align: top;\n",
              "    }\n",
              "\n",
              "    .dataframe thead th {\n",
              "        text-align: right;\n",
              "    }\n",
              "</style>\n",
              "<table border=\"1\" class=\"dataframe\">\n",
              "  <thead>\n",
              "    <tr style=\"text-align: right;\">\n",
              "      <th></th>\n",
              "      <th>market_caps</th>\n",
              "      <th>prices</th>\n",
              "      <th>total_volumes</th>\n",
              "    </tr>\n",
              "    <tr>\n",
              "      <th>date</th>\n",
              "      <th></th>\n",
              "      <th></th>\n",
              "      <th></th>\n",
              "    </tr>\n",
              "  </thead>\n",
              "  <tbody>\n",
              "    <tr>\n",
              "      <th>2020-12-28</th>\n",
              "      <td>4.934275e+11</td>\n",
              "      <td>26423.228792</td>\n",
              "      <td>5.665498e+10</td>\n",
              "    </tr>\n",
              "    <tr>\n",
              "      <th>2020-12-29</th>\n",
              "      <td>5.037122e+11</td>\n",
              "      <td>27125.384121</td>\n",
              "      <td>4.218652e+10</td>\n",
              "    </tr>\n",
              "    <tr>\n",
              "      <th>2020-12-30</th>\n",
              "      <td>5.096803e+11</td>\n",
              "      <td>27424.538955</td>\n",
              "      <td>3.808184e+10</td>\n",
              "    </tr>\n",
              "    <tr>\n",
              "      <th>2020-12-31</th>\n",
              "      <td>5.359673e+11</td>\n",
              "      <td>28837.288529</td>\n",
              "      <td>4.334114e+10</td>\n",
              "    </tr>\n",
              "    <tr>\n",
              "      <th>2021-01-01</th>\n",
              "      <td>5.394380e+11</td>\n",
              "      <td>29022.418395</td>\n",
              "      <td>4.350352e+10</td>\n",
              "    </tr>\n",
              "  </tbody>\n",
              "</table>\n",
              "</div>"
            ],
            "text/plain": [
              "             market_caps        prices  total_volumes\n",
              "date                                                 \n",
              "2020-12-28  4.934275e+11  26423.228792   5.665498e+10\n",
              "2020-12-29  5.037122e+11  27125.384121   4.218652e+10\n",
              "2020-12-30  5.096803e+11  27424.538955   3.808184e+10\n",
              "2020-12-31  5.359673e+11  28837.288529   4.334114e+10\n",
              "2021-01-01  5.394380e+11  29022.418395   4.350352e+10"
            ]
          },
          "metadata": {},
          "execution_count": 16
        }
      ]
    },
    {
      "cell_type": "code",
      "metadata": {
        "id": "CsnoB64uQskz"
      },
      "source": [
        ""
      ],
      "execution_count": null,
      "outputs": []
    }
  ]
}